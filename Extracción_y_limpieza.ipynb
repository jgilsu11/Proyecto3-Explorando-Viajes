{
 "cells": [
  {
   "cell_type": "code",
   "execution_count": 1,
   "metadata": {},
   "outputs": [],
   "source": [
    "from datetime import datetime\n",
    "from geopy.geocoders import Nominatim\n",
    "import pandas as pd\n",
    "import numpy as np\n",
    "import requests\n",
    "import json\n",
    "from tqdm import tqdm\n",
    "from time import sleep\n",
    "import os\n",
    "from bs4 import BeautifulSoup\n",
    "import random\n",
    "from selenium import webdriver  \n",
    "from webdriver_manager.chrome import ChromeDriverManager  \n",
    "from selenium.webdriver.common.keys import Keys  \n",
    "from selenium.webdriver.support.ui import Select  \n",
    "from selenium.webdriver.support.ui import WebDriverWait\n",
    "from selenium.webdriver.support import expected_conditions as EC\n",
    "from selenium.common.exceptions import NoSuchElementException\n",
    "\n",
    "#import sys \n",
    "#sys.path.append(\"../\")   aquí no es necesario porque tengo el src a la misma altura que el jupyter\n",
    "\n",
    "from src.funciones import info_vuelos, crearDF_formateado, info_hoteles, crearDF_formateado_hoteles\n",
    "\n"
   ]
  },
  {
   "cell_type": "markdown",
   "metadata": {},
   "source": [
    "**API de Hoteles en TENE**"
   ]
  },
  {
   "cell_type": "code",
   "execution_count": 20,
   "metadata": {},
   "outputs": [],
   "source": [
    "url = \"https://tripadvisor-scraper.p.rapidapi.com/hotels/list\"\n",
    "\n",
    "querystring = {\"query\":\"santa cruz de tenerife\",\"page\":\"1\"}\n",
    "\n",
    "headers = {\n",
    "\t\"x-rapidapi-key\": \"978309fe9dmshe0626a77c211be6p1786a7jsne7e8845b8cfa\",\n",
    "\t\"x-rapidapi-host\": \"tripadvisor-scraper.p.rapidapi.com\"\n",
    "}\n",
    "\n",
    "response = requests.get(url, headers=headers, params=querystring)\n",
    "\n",
    "answer=response.json()"
   ]
  },
  {
   "cell_type": "code",
   "execution_count": 5,
   "metadata": {},
   "outputs": [],
   "source": [
    "# with open('hoteltenerife.json', 'w') as archivo:\n",
    "#     json.dump(answer, archivo, indent=4)"
   ]
  },
  {
   "cell_type": "markdown",
   "metadata": {},
   "source": [
    "**API de Hoteles en TENE Done**"
   ]
  },
  {
   "cell_type": "markdown",
   "metadata": {},
   "source": [
    "**API de Hoteles en PMI**"
   ]
  },
  {
   "cell_type": "code",
   "execution_count": 44,
   "metadata": {},
   "outputs": [],
   "source": [
    "\n",
    "\n",
    "url_hotel = \"https://tripadvisor-scraper.p.rapidapi.com/hotels/list\"\n",
    "\n",
    "querystring = {f\"query\":\"palma de mallorca\",\"page\":\"8\"}\n",
    "\n",
    "headers = {\n",
    "\t\"x-rapidapi-key\": \"978309fe9dmshe0626a77c211be6p1786a7jsne7e8845b8cfa\",\n",
    "\t\"x-rapidapi-host\": \"tripadvisor-scraper.p.rapidapi.com\"\n",
    "}\n",
    "\n",
    "response = requests.get(url_hotel, headers=headers, params=querystring)\n",
    "respond=response.json()\n"
   ]
  },
  {
   "cell_type": "markdown",
   "metadata": {},
   "source": [
    "Esto para guardar en archivo csv"
   ]
  },
  {
   "cell_type": "code",
   "execution_count": 47,
   "metadata": {},
   "outputs": [],
   "source": [
    "# info_hoteles(respond)     #Lo menciono para que NO MOLESTE"
   ]
  },
  {
   "cell_type": "code",
   "execution_count": 46,
   "metadata": {},
   "outputs": [],
   "source": [
    "# df=crearDF_formateado_hoteles(info_hoteles(respond))\n",
    "# df.to_csv('datos/hotel_pmi_8.csv', index=False)\n"
   ]
  },
  {
   "cell_type": "markdown",
   "metadata": {},
   "source": [
    "**API de Hoteles en PMI Done**"
   ]
  },
  {
   "cell_type": "markdown",
   "metadata": {},
   "source": [
    "**Funciones hoteles:**"
   ]
  },
  {
   "cell_type": "code",
   "execution_count": 13,
   "metadata": {},
   "outputs": [],
   "source": [
    "# def info_hoteles(request_jeison):\n",
    "#     lista_dicch=[]\n",
    "#     respond=request_jeison\n",
    "#     for i in range(0,len(respond[\"results\"])):\n",
    "\n",
    "#         nombre_hotel=respond[\"results\"][i][\"name\"]\n",
    "#         reviews_hotel=respond[\"results\"][i][\"reviews\"]\n",
    "#         rating_hotel=respond[\"results\"][i][\"rating\"]\n",
    "#         precio_rango_min=respond[\"results\"][i][\"price_range_usd\"][\"min\"]\n",
    "#         precio_rango_max=respond[\"results\"][i][\"price_range_usd\"][\"max\"]\n",
    "\n",
    "#         if precio_rango_min is not None and precio_rango_max is not None:\n",
    "#             precio_medio = (precio_rango_max + precio_rango_min) / 2\n",
    "#         else:\n",
    "#             precio_medio = None\n",
    "\n",
    "#         ciudad=respond[\"results\"][i][\"detailed_address\"][\"city\"]\n",
    "#         servicios=respond[\"results\"][i][\"amenities\"]\n",
    "#         link=respond[\"results\"][i][\"link\"]\n",
    "\n",
    "        \n",
    "#         dicch= {\"nombre_hotel\":nombre_hotel,\n",
    "#                 \"reviews_hotel\":reviews_hotel,\n",
    "#                 \"rating_hotel\": rating_hotel,\n",
    "#                 \"precio_rango_min\":precio_rango_min,\n",
    "#                 \"precio_rango_max\":precio_rango_max,\n",
    "#                 \"precio_medio_por noche\":precio_medio,\n",
    "#                 \"ciudad\":ciudad,\n",
    "#                 \"servicios\":servicios,\n",
    "#                 \"link\":link\n",
    "#                 }\n",
    "#         lista_dicch.append(dicch)\n",
    "#     return lista_dicch\n",
    "        "
   ]
  },
  {
   "cell_type": "markdown",
   "metadata": {},
   "source": [
    "Prueba de funcionamiento de funciones:"
   ]
  },
  {
   "cell_type": "code",
   "execution_count": 21,
   "metadata": {},
   "outputs": [],
   "source": [
    "# info_hoteles(respond)     #Lo menciono para que NO MOLESTE"
   ]
  },
  {
   "cell_type": "code",
   "execution_count": 17,
   "metadata": {},
   "outputs": [],
   "source": [
    "# def crearDF_formateado_hoteles(funcion_info_vuelos):\n",
    "\n",
    "#     df_hotel= pd.DataFrame(funcion_info_vuelos).drop(columns= [\"precio_rango_min\", \"precio_rango_max\"])\n",
    "#     df_hotel\n",
    "#     return df_hotel"
   ]
  },
  {
   "cell_type": "code",
   "execution_count": 90,
   "metadata": {},
   "outputs": [],
   "source": [
    "# crearDF_formateado_hoteles(info_hoteles(respond))  "
   ]
  },
  {
   "cell_type": "markdown",
   "metadata": {},
   "source": [
    "**API de los vuelos(TENE (TNF Y TNS))**  Meter los códigos de aeropuerto que necesitemos"
   ]
  },
  {
   "cell_type": "code",
   "execution_count": 2,
   "metadata": {},
   "outputs": [],
   "source": [
    "url = \"https://sky-scrapper.p.rapidapi.com/api/v2/flights/searchFlights\"\n",
    "\n",
    "querystring = {\"originSkyId\":\"MAD\",\"destinationSkyId\":\"TENE\",\"originEntityId\":\"95565077\",\"destinationEntityId\":\"27547165\",\"date\":\"2024-11-03\",\"returnDate\":\"2024-11-06\",\"cabinClass\":\"economy\",\"adults\":\"1\",\"sortBy\":\"best\",\"currency\":\"EUR\"}\n",
    "\n",
    "headers = {\n",
    "\t\"x-rapidapi-key\": \"978309fe9dmshe0626a77c211be6p1786a7jsne7e8845b8cfa\",\n",
    "\t\"x-rapidapi-host\": \"sky-scrapper.p.rapidapi.com\"\n",
    "}\n",
    "\n",
    "response = requests.get(url, headers=headers, params=querystring)\n",
    "\n",
    "respuesta=response.json()\n",
    "\n"
   ]
  },
  {
   "cell_type": "code",
   "execution_count": 83,
   "metadata": {},
   "outputs": [],
   "source": [
    "# with open('tenerife.json', 'w') as archivo:\n",
    "#     json.dump(respuesta, archivo, indent=4)"
   ]
  },
  {
   "cell_type": "markdown",
   "metadata": {},
   "source": [
    "Formateo:\n"
   ]
  },
  {
   "cell_type": "code",
   "execution_count": 92,
   "metadata": {},
   "outputs": [
    {
     "name": "stdout",
     "output_type": "stream",
     "text": [
      "<class 'pandas.core.frame.DataFrame'>\n",
      "RangeIndex: 20 entries, 0 to 19\n",
      "Data columns (total 10 columns):\n",
      " #   Column          Non-Null Count  Dtype         \n",
      "---  ------          --------------  -----         \n",
      " 0   id_origen       20 non-null     object        \n",
      " 1   ciudad_origen   20 non-null     object        \n",
      " 2   id_destino      20 non-null     object        \n",
      " 3   ciudad_destino  20 non-null     object        \n",
      " 4   salida          20 non-null     datetime64[ns]\n",
      " 5   llegada         20 non-null     datetime64[ns]\n",
      " 6   duracion(min)   20 non-null     int64         \n",
      " 7   escalas         20 non-null     int64         \n",
      " 8   aerolinea       20 non-null     object        \n",
      " 9   precio          20 non-null     float64       \n",
      "dtypes: datetime64[ns](2), float64(1), int64(2), object(5)\n",
      "memory usage: 1.7+ KB\n"
     ]
    }
   ],
   "source": [
    "# df_vuelos_ida_vuelta_TENE[\"salida\"]= pd.to_datetime(df_vuelos_ida_vuelta_TENE[\"salida\"])\n",
    "# df_vuelos_ida_vuelta_TENE[\"llegada\"]= pd.to_datetime(df_vuelos_ida_vuelta_TENE[\"llegada\"])\n",
    "# df_vuelos_ida_vuelta_TENE.info()"
   ]
  },
  {
   "cell_type": "markdown",
   "metadata": {},
   "source": [
    "**DF vuelos de TENE Done**"
   ]
  },
  {
   "cell_type": "markdown",
   "metadata": {},
   "source": [
    "**API de los vuelos(PMI)**  Meter los códigos de aeropuerto que necesitemos"
   ]
  },
  {
   "cell_type": "code",
   "execution_count": 3,
   "metadata": {},
   "outputs": [],
   "source": [
    "url = \"https://sky-scrapper.p.rapidapi.com/api/v2/flights/searchFlights\"\n",
    "\n",
    "querystring = {\"originSkyId\":\"MAD\",\"destinationSkyId\":\"PMI\",\"originEntityId\":\"95565077\",\"destinationEntityId\":\"95565111\",\"date\":\"2024-11-03\",\"returnDate\":\"2024-11-06\",\"cabinClass\":\"economy\",\"adults\":\"1\",\"sortBy\":\"best\",\"limit\":\"50\",\"currency\":\"EUR\"}\n",
    "\n",
    "headers = {\n",
    "\t\"x-rapidapi-key\": \"978309fe9dmshe0626a77c211be6p1786a7jsne7e8845b8cfa\",\n",
    "\t\"x-rapidapi-host\": \"sky-scrapper.p.rapidapi.com\"\n",
    "}\n",
    "\n",
    "response = requests.get(url, headers=headers, params=querystring)\n",
    "\n",
    "responsa=response.json()\n"
   ]
  },
  {
   "cell_type": "markdown",
   "metadata": {},
   "source": [
    "**para guardarlo en csv**"
   ]
  },
  {
   "cell_type": "code",
   "execution_count": 4,
   "metadata": {},
   "outputs": [
    {
     "data": {
      "text/plain": [
       "[{'id_vuelo': '13870-2411030835--31915-0-15434-2411031005',\n",
       "  'id_origen': 'MAD',\n",
       "  'ciudad_origen': 'Madrid',\n",
       "  'id_destino': 'PMI',\n",
       "  'ciudad_destino': 'Palma',\n",
       "  'salida': '2024-11-03T08:35:00',\n",
       "  'llegada': '2024-11-03T10:05:00',\n",
       "  'duracion(min)': 90,\n",
       "  'escalas': 0,\n",
       "  'aerolinea': 'Ryanair',\n",
       "  'precio': 53.92},\n",
       " {'id_vuelo': '15434-2411062220--31915-0-13870-2411062350',\n",
       "  'id_origen': 'PMI',\n",
       "  'ciudad_origen': 'Palma',\n",
       "  'id_destino': 'MAD',\n",
       "  'ciudad_destino': 'Madrid',\n",
       "  'salida': '2024-11-06T22:20:00',\n",
       "  'llegada': '2024-11-06T23:50:00',\n",
       "  'duracion(min)': 90,\n",
       "  'escalas': 0,\n",
       "  'aerolinea': 'Ryanair',\n",
       "  'precio': 53.92},\n",
       " {'id_vuelo': '13870-2411030705--32221-0-15434-2411030830',\n",
       "  'id_origen': 'MAD',\n",
       "  'ciudad_origen': 'Madrid',\n",
       "  'id_destino': 'PMI',\n",
       "  'ciudad_destino': 'Palma',\n",
       "  'salida': '2024-11-03T07:05:00',\n",
       "  'llegada': '2024-11-03T08:30:00',\n",
       "  'duracion(min)': 85,\n",
       "  'escalas': 0,\n",
       "  'aerolinea': 'Iberia Express',\n",
       "  'precio': 46.6},\n",
       " {'id_vuelo': '15434-2411062220--31915-0-13870-2411062350',\n",
       "  'id_origen': 'PMI',\n",
       "  'ciudad_origen': 'Palma',\n",
       "  'id_destino': 'MAD',\n",
       "  'ciudad_destino': 'Madrid',\n",
       "  'salida': '2024-11-06T22:20:00',\n",
       "  'llegada': '2024-11-06T23:50:00',\n",
       "  'duracion(min)': 90,\n",
       "  'escalas': 0,\n",
       "  'aerolinea': 'Ryanair',\n",
       "  'precio': 46.6},\n",
       " {'id_vuelo': '13870-2411031115--31915-0-15434-2411031245',\n",
       "  'id_origen': 'MAD',\n",
       "  'ciudad_origen': 'Madrid',\n",
       "  'id_destino': 'PMI',\n",
       "  'ciudad_destino': 'Palma',\n",
       "  'salida': '2024-11-03T11:15:00',\n",
       "  'llegada': '2024-11-03T12:45:00',\n",
       "  'duracion(min)': 90,\n",
       "  'escalas': 0,\n",
       "  'aerolinea': 'Ryanair',\n",
       "  'precio': 101.24},\n",
       " {'id_vuelo': '15434-2411061055--31915-0-13870-2411061225',\n",
       "  'id_origen': 'PMI',\n",
       "  'ciudad_origen': 'Palma',\n",
       "  'id_destino': 'MAD',\n",
       "  'ciudad_destino': 'Madrid',\n",
       "  'salida': '2024-11-06T10:55:00',\n",
       "  'llegada': '2024-11-06T12:25:00',\n",
       "  'duracion(min)': 90,\n",
       "  'escalas': 0,\n",
       "  'aerolinea': 'Ryanair',\n",
       "  'precio': 101.24},\n",
       " {'id_vuelo': '13870-2411030835--31915-0-15434-2411031005',\n",
       "  'id_origen': 'MAD',\n",
       "  'ciudad_origen': 'Madrid',\n",
       "  'id_destino': 'PMI',\n",
       "  'ciudad_destino': 'Palma',\n",
       "  'salida': '2024-11-03T08:35:00',\n",
       "  'llegada': '2024-11-03T10:05:00',\n",
       "  'duracion(min)': 90,\n",
       "  'escalas': 0,\n",
       "  'aerolinea': 'Ryanair',\n",
       "  'precio': 74.95},\n",
       " {'id_vuelo': '15434-2411061055--31915-0-13870-2411061225',\n",
       "  'id_origen': 'PMI',\n",
       "  'ciudad_origen': 'Palma',\n",
       "  'id_destino': 'MAD',\n",
       "  'ciudad_destino': 'Madrid',\n",
       "  'salida': '2024-11-06T10:55:00',\n",
       "  'llegada': '2024-11-06T12:25:00',\n",
       "  'duracion(min)': 90,\n",
       "  'escalas': 0,\n",
       "  'aerolinea': 'Ryanair',\n",
       "  'precio': 74.95},\n",
       " {'id_vuelo': '13870-2411030705--32221-0-15434-2411030830',\n",
       "  'id_origen': 'MAD',\n",
       "  'ciudad_origen': 'Madrid',\n",
       "  'id_destino': 'PMI',\n",
       "  'ciudad_destino': 'Palma',\n",
       "  'salida': '2024-11-03T07:05:00',\n",
       "  'llegada': '2024-11-03T08:30:00',\n",
       "  'duracion(min)': 85,\n",
       "  'escalas': 0,\n",
       "  'aerolinea': 'Iberia Express',\n",
       "  'precio': 103.87},\n",
       " {'id_vuelo': '15434-2411061435--32221-0-13870-2411061600',\n",
       "  'id_origen': 'PMI',\n",
       "  'ciudad_origen': 'Palma',\n",
       "  'id_destino': 'MAD',\n",
       "  'ciudad_destino': 'Madrid',\n",
       "  'salida': '2024-11-06T14:35:00',\n",
       "  'llegada': '2024-11-06T16:00:00',\n",
       "  'duracion(min)': 85,\n",
       "  'escalas': 0,\n",
       "  'aerolinea': 'Iberia Express',\n",
       "  'precio': 103.87},\n",
       " {'id_vuelo': '13870-2411030705--32221-0-15434-2411030830',\n",
       "  'id_origen': 'MAD',\n",
       "  'ciudad_origen': 'Madrid',\n",
       "  'id_destino': 'PMI',\n",
       "  'ciudad_destino': 'Palma',\n",
       "  'salida': '2024-11-03T07:05:00',\n",
       "  'llegada': '2024-11-03T08:30:00',\n",
       "  'duracion(min)': 85,\n",
       "  'escalas': 0,\n",
       "  'aerolinea': 'Iberia Express',\n",
       "  'precio': 103.87},\n",
       " {'id_vuelo': '15434-2411061745--32221-0-13870-2411061910',\n",
       "  'id_origen': 'PMI',\n",
       "  'ciudad_origen': 'Palma',\n",
       "  'id_destino': 'MAD',\n",
       "  'ciudad_destino': 'Madrid',\n",
       "  'salida': '2024-11-06T17:45:00',\n",
       "  'llegada': '2024-11-06T19:10:00',\n",
       "  'duracion(min)': 85,\n",
       "  'escalas': 0,\n",
       "  'aerolinea': 'Iberia Express',\n",
       "  'precio': 103.87},\n",
       " {'id_vuelo': '13870-2411030705--32222-0-15434-2411030830',\n",
       "  'id_origen': 'MAD',\n",
       "  'ciudad_origen': 'Madrid',\n",
       "  'id_destino': 'PMI',\n",
       "  'ciudad_destino': 'Palma',\n",
       "  'salida': '2024-11-03T07:05:00',\n",
       "  'llegada': '2024-11-03T08:30:00',\n",
       "  'duracion(min)': 85,\n",
       "  'escalas': 0,\n",
       "  'aerolinea': 'Iberia',\n",
       "  'precio': 107.64},\n",
       " {'id_vuelo': '15434-2411061435--32222-0-13870-2411061600',\n",
       "  'id_origen': 'PMI',\n",
       "  'ciudad_origen': 'Palma',\n",
       "  'id_destino': 'MAD',\n",
       "  'ciudad_destino': 'Madrid',\n",
       "  'salida': '2024-11-06T14:35:00',\n",
       "  'llegada': '2024-11-06T16:00:00',\n",
       "  'duracion(min)': 85,\n",
       "  'escalas': 0,\n",
       "  'aerolinea': 'Iberia',\n",
       "  'precio': 107.64},\n",
       " {'id_vuelo': '13870-2411030705--32221-0-15434-2411030830',\n",
       "  'id_origen': 'MAD',\n",
       "  'ciudad_origen': 'Madrid',\n",
       "  'id_destino': 'PMI',\n",
       "  'ciudad_destino': 'Palma',\n",
       "  'salida': '2024-11-03T07:05:00',\n",
       "  'llegada': '2024-11-03T08:30:00',\n",
       "  'duracion(min)': 85,\n",
       "  'escalas': 0,\n",
       "  'aerolinea': 'Iberia Express',\n",
       "  'precio': 103.87},\n",
       " {'id_vuelo': '15434-2411061935--32221-0-13870-2411062100',\n",
       "  'id_origen': 'PMI',\n",
       "  'ciudad_origen': 'Palma',\n",
       "  'id_destino': 'MAD',\n",
       "  'ciudad_destino': 'Madrid',\n",
       "  'salida': '2024-11-06T19:35:00',\n",
       "  'llegada': '2024-11-06T21:00:00',\n",
       "  'duracion(min)': 85,\n",
       "  'escalas': 0,\n",
       "  'aerolinea': 'Iberia Express',\n",
       "  'precio': 103.87},\n",
       " {'id_vuelo': '13870-2411030705--32222-0-15434-2411030830',\n",
       "  'id_origen': 'MAD',\n",
       "  'ciudad_origen': 'Madrid',\n",
       "  'id_destino': 'PMI',\n",
       "  'ciudad_destino': 'Palma',\n",
       "  'salida': '2024-11-03T07:05:00',\n",
       "  'llegada': '2024-11-03T08:30:00',\n",
       "  'duracion(min)': 85,\n",
       "  'escalas': 0,\n",
       "  'aerolinea': 'Iberia',\n",
       "  'precio': 112.09},\n",
       " {'id_vuelo': '15434-2411061745--32222-0-13870-2411061910',\n",
       "  'id_origen': 'PMI',\n",
       "  'ciudad_origen': 'Palma',\n",
       "  'id_destino': 'MAD',\n",
       "  'ciudad_destino': 'Madrid',\n",
       "  'salida': '2024-11-06T17:45:00',\n",
       "  'llegada': '2024-11-06T19:10:00',\n",
       "  'duracion(min)': 85,\n",
       "  'escalas': 0,\n",
       "  'aerolinea': 'Iberia',\n",
       "  'precio': 112.09},\n",
       " {'id_vuelo': '13870-2411030705--32221-0-15434-2411030830',\n",
       "  'id_origen': 'MAD',\n",
       "  'ciudad_origen': 'Madrid',\n",
       "  'id_destino': 'PMI',\n",
       "  'ciudad_destino': 'Palma',\n",
       "  'salida': '2024-11-03T07:05:00',\n",
       "  'llegada': '2024-11-03T08:30:00',\n",
       "  'duracion(min)': 85,\n",
       "  'escalas': 0,\n",
       "  'aerolinea': 'Iberia Express',\n",
       "  'precio': 68.08},\n",
       " {'id_vuelo': '15434-2411062110--32680-0-13870-2411062235',\n",
       "  'id_origen': 'PMI',\n",
       "  'ciudad_origen': 'Palma',\n",
       "  'id_destino': 'MAD',\n",
       "  'ciudad_destino': 'Madrid',\n",
       "  'salida': '2024-11-06T21:10:00',\n",
       "  'llegada': '2024-11-06T22:35:00',\n",
       "  'duracion(min)': 85,\n",
       "  'escalas': 0,\n",
       "  'aerolinea': 'Air Europa',\n",
       "  'precio': 68.08}]"
      ]
     },
     "execution_count": 4,
     "metadata": {},
     "output_type": "execute_result"
    }
   ],
   "source": [
    "info_vuelos(responsa)     #Lo menciono para que NO MOLESTE"
   ]
  },
  {
   "cell_type": "code",
   "execution_count": 8,
   "metadata": {},
   "outputs": [],
   "source": [
    "# df=crearDF_formateado(info_vuelos(responsa))\n",
    "\n",
    "# df.to_csv('datos/vuelos_pmi.csv', index=False)\n"
   ]
  },
  {
   "cell_type": "code",
   "execution_count": 73,
   "metadata": {},
   "outputs": [],
   "source": [
    "\n",
    "\n",
    "# with open('mallorca.json', 'w') as archivo:\n",
    "#     json.dump(responsa, archivo, indent=4)"
   ]
  },
  {
   "cell_type": "markdown",
   "metadata": {},
   "source": [
    "Formateo:\n"
   ]
  },
  {
   "cell_type": "code",
   "execution_count": 119,
   "metadata": {},
   "outputs": [
    {
     "name": "stdout",
     "output_type": "stream",
     "text": [
      "<class 'pandas.core.frame.DataFrame'>\n",
      "RangeIndex: 20 entries, 0 to 19\n",
      "Data columns (total 10 columns):\n",
      " #   Column          Non-Null Count  Dtype         \n",
      "---  ------          --------------  -----         \n",
      " 0   id_origen       20 non-null     object        \n",
      " 1   ciudad_origen   20 non-null     object        \n",
      " 2   id_destino      20 non-null     object        \n",
      " 3   ciudad_destino  20 non-null     object        \n",
      " 4   salida          20 non-null     datetime64[ns]\n",
      " 5   llegada         20 non-null     datetime64[ns]\n",
      " 6   duracion(min)   20 non-null     int64         \n",
      " 7   escalas         20 non-null     int64         \n",
      " 8   aerolinea       20 non-null     object        \n",
      " 9   precio          20 non-null     float64       \n",
      "dtypes: datetime64[ns](2), float64(1), int64(2), object(5)\n",
      "memory usage: 1.7+ KB\n"
     ]
    }
   ],
   "source": [
    "# df_vuelos_ida_vuelta_PMI[\"salida\"]= pd.to_datetime(df_vuelos_ida_vuelta_PMI[\"salida\"])\n",
    "# df_vuelos_ida_vuelta_PMI[\"llegada\"]= pd.to_datetime(df_vuelos_ida_vuelta_PMI[\"llegada\"])\n",
    "# df_vuelos_ida_vuelta_PMI.info()"
   ]
  },
  {
   "cell_type": "markdown",
   "metadata": {},
   "source": [
    "**DF vuelos de PMI Done**"
   ]
  },
  {
   "cell_type": "markdown",
   "metadata": {},
   "source": [
    "**Funciones vuelos(ya pasadas a .py):**"
   ]
  },
  {
   "cell_type": "code",
   "execution_count": 5,
   "metadata": {},
   "outputs": [],
   "source": [
    "# def info_vuelos(request_jeison):\n",
    "#     lista_dicc=[]\n",
    "#     res= request_jeison[\"data\"]\n",
    "\n",
    "#     for vuelo in range(0,len(res[\"itineraries\"])): \n",
    "#         precio= res[\"itineraries\"][vuelo][\"price\"][\"raw\"]\n",
    "\n",
    "#         for i in range(0,2):\n",
    "#                 id_vuelo= res[\"itineraries\"][vuelo][\"legs\"][i][\"id\"]\n",
    "#                 id_origen= res[\"itineraries\"][vuelo][\"legs\"][i][\"origin\"][\"id\"]\n",
    "#                 origen= res[\"itineraries\"][vuelo][\"legs\"][i][\"origin\"][\"city\"]\n",
    "\n",
    "#                 id_destino= res[\"itineraries\"][vuelo][\"legs\"][i][\"destination\"][\"id\"]\n",
    "#                 destino= res[\"itineraries\"][vuelo][\"legs\"][i][\"destination\"][\"city\"]\n",
    "\n",
    "#                 duracion_minuts= res[\"itineraries\"][vuelo][\"legs\"][i][\"durationInMinutes\"]\n",
    "#                 escalas= res[\"itineraries\"][vuelo][\"legs\"][i][\"stopCount\"]\n",
    "\n",
    "#                 salida= res[\"itineraries\"][vuelo][\"legs\"][i][\"departure\"]\n",
    "#                 llegada= res[\"itineraries\"][vuelo][\"legs\"][i][\"arrival\"]\n",
    "\n",
    "#                 aerolinea= res[\"itineraries\"][vuelo][\"legs\"][i][\"carriers\"][\"marketing\"][0][\"name\"]\n",
    "\n",
    "#                 dicc= {\"id_origen\":id_origen,\n",
    "#                 \"ciudad_origen\":origen,\n",
    "#                 \"id_destino\": id_destino,\n",
    "#                 \"ciudad_destino\":destino,\n",
    "#                 \"salida\":salida,\n",
    "#                 \"llegada\":llegada,\n",
    "#                 \"duracion(min)\":duracion_minuts,\n",
    "#                 \"escalas\":escalas,\n",
    "#                 \"aerolinea\":aerolinea,\n",
    "#                 \"precio\":precio\n",
    "#                 }\n",
    "#                 lista_dicc.append(dicc)\n",
    "#     return lista_dicc\n",
    "\n",
    "        "
   ]
  },
  {
   "cell_type": "markdown",
   "metadata": {},
   "source": [
    "Comprobación de las funciones"
   ]
  },
  {
   "cell_type": "code",
   "execution_count": 130,
   "metadata": {},
   "outputs": [],
   "source": [
    "# info_vuelos(respuesta)     #Lo menciono para que NO MOLESTE"
   ]
  },
  {
   "cell_type": "code",
   "execution_count": 7,
   "metadata": {},
   "outputs": [],
   "source": [
    "# def crearDF_formateado(funcion_info_vuelos):\n",
    "\n",
    "#     df_vuelos_ida_vuelta= pd.DataFrame(funcion_info_vuelos)\n",
    "#     df_vuelos_ida_vuelta[\"salida\"]= pd.to_datetime(df_vuelos_ida_vuelta[\"salida\"])\n",
    "#     df_vuelos_ida_vuelta[\"llegada\"]= pd.to_datetime(df_vuelos_ida_vuelta[\"llegada\"])\n",
    "#     return df_vuelos_ida_vuelta"
   ]
  },
  {
   "cell_type": "code",
   "execution_count": 131,
   "metadata": {},
   "outputs": [],
   "source": [
    "#crearDF_formateado(info_vuelos(respuesta))    #Lo menciono para que NO MOLESTE"
   ]
  },
  {
   "cell_type": "markdown",
   "metadata": {},
   "source": [
    "**Concat de las pags de pmi y tene y concat total de hoteles**  \n",
    "\n"
   ]
  },
  {
   "cell_type": "code",
   "execution_count": 48,
   "metadata": {},
   "outputs": [],
   "source": [
    "hotel_tene_1=pd.read_csv(\"datos/hotel_tene_1.csv\")\n",
    "hotel_tene_2=pd.read_csv(\"datos/hotel_tene_2.csv\")\n",
    "hotel_tene_3=pd.read_csv(\"datos/hotel_tene_3.csv\")\n",
    "hotel_tene_4=pd.read_csv(\"datos/hotel_tene_4.csv\")\n",
    "\n",
    "\n",
    "hotel_pmi_1=pd.read_csv(\"datos/hotel_pmi_1.csv\")\n",
    "hotel_pmi_2=pd.read_csv(\"datos/hotel_pmi_2.csv\")\n",
    "hotel_pmi_3=pd.read_csv(\"datos/hotel_pmi_3.csv\")\n",
    "hotel_pmi_4=pd.read_csv(\"datos/hotel_pmi_4.csv\")\n",
    "hotel_pmi_5=pd.read_csv(\"datos/hotel_pmi_5.csv\")\n",
    "hotel_pmi_6=pd.read_csv(\"datos/hotel_pmi_6.csv\")\n",
    "hotel_pmi_7=pd.read_csv(\"datos/hotel_pmi_7.csv\")\n",
    "hotel_pmi_8=pd.read_csv(\"datos/hotel_pmi_8.csv\")\n"
   ]
  },
  {
   "cell_type": "code",
   "execution_count": 50,
   "metadata": {},
   "outputs": [],
   "source": [
    "df_hoteles_pmi=pd.DataFrame()\n",
    "df_hoteles_pmi= pd.concat([df_hoteles_pmi,hotel_pmi_1,hotel_pmi_2,hotel_pmi_3,hotel_pmi_4,hotel_pmi_5,hotel_pmi_6,hotel_pmi_7,hotel_pmi_8], ignore_index= True)"
   ]
  },
  {
   "cell_type": "code",
   "execution_count": null,
   "metadata": {},
   "outputs": [],
   "source": [
    "df_hoteles_tene=pd.DataFrame()\n",
    "df_hoteles_tene= pd.concat([df_hoteles_tene,hotel_tene_1,hotel_tene_2,hotel_tene_3,hotel_tene_4], ignore_index= True)"
   ]
  },
  {
   "cell_type": "code",
   "execution_count": null,
   "metadata": {},
   "outputs": [],
   "source": [
    "df_hoteles_total= pd.DataFrame()\n",
    "df_hoteles_total=pd.concat([df_hoteles_total,df_hoteles_pmi,df_hoteles_tene], ignore_index= True)"
   ]
  },
  {
   "cell_type": "markdown",
   "metadata": {},
   "source": [
    "**Web srapping para Actividades:**"
   ]
  },
  {
   "cell_type": "markdown",
   "metadata": {},
   "source": [
    "*Actividades Tene*"
   ]
  },
  {
   "cell_type": "code",
   "execution_count": 2,
   "metadata": {},
   "outputs": [
    {
     "name": "stdout",
     "output_type": "stream",
     "text": [
      "No encuentro el botón\n"
     ]
    }
   ],
   "source": [
    "driver = webdriver.Chrome()\n",
    "url_wunder = \"https://www.guias.travel/tour/\"\n",
    "driver.get(url_wunder)\n",
    "driver.maximize_window()\n",
    "driver.implicitly_wait(6)\n",
    "\n",
    "try: \n",
    "    driver.find_element(\"css selector\", \"#search-form-input\").click()\n",
    "except:\n",
    "    print(\"No encuentro el botón\")\n",
    "\n",
    "driver.find_element(\"css selector\", \"#search-form-input\").send_keys(\"santa cruz de tenerife\", Keys.ENTER)\n",
    "for i in range(5):  \n",
    "    driver.execute_script(\"window.scrollBy(0, 1000);\")  \n",
    "    sleep(1)  \n",
    "try: \n",
    "    driver.find_element(\"css selector\", \"#more_tours > span\").click()\n",
    "except:\n",
    "    print(\"No encuentro el botón\")\n",
    "\n",
    "for i in range(5):  \n",
    "    driver.execute_script(\"window.scrollBy(0, 1000);\") \n",
    "    sleep(1)  \n",
    "driver.find_element(\"css selector\", \"#moove_gdpr_cookie_info_bar > div > div > div.moove-gdpr-button-holder > button.mgbutton.moove-gdpr-infobar-reject-btn.gdpr-fbo-1\").click()\n",
    "\n",
    "try: \n",
    "    sleep(2)\n",
    "    driver.find_element(\"css selector\", \"#more_tours > span\").click()\n",
    "    driver.find_element(\"css selector\", \"#more_tours > span\").click()\n",
    "except:\n",
    "    print(\"No encuentro el botón\")\n",
    "for i in range(1):  \n",
    "    driver.execute_script(\"window.scrollBy(0, 1000);\") \n",
    "    sleep(1)  "
   ]
  },
  {
   "cell_type": "markdown",
   "metadata": {},
   "source": [
    "*Hago scroll para que me salgan todas las opciones de la página*"
   ]
  },
  {
   "cell_type": "code",
   "execution_count": 3,
   "metadata": {},
   "outputs": [],
   "source": [
    "sopa_actividades_tene = BeautifulSoup(driver.page_source)\n",
    "lista_actividades_tene = sopa_actividades_tene.find_all(\"div\", {\"class\": \"strip_all_tour_list\"})\n",
    "\n",
    "actividades_tene = [actividad.find(\"h2\").getText() for actividad in lista_actividades_tene]\n",
    "categoria_activides_tene= [actividad.find(\"h3\").getText() for actividad in lista_actividades_tene]\n",
    "descripcion_actividad_tene = [actividad.find(\"p\").getText() for actividad in lista_actividades_tene]\n"
   ]
  },
  {
   "cell_type": "markdown",
   "metadata": {},
   "source": [
    "Comprobación de que tienen el mismo tamaño"
   ]
  },
  {
   "cell_type": "code",
   "execution_count": 4,
   "metadata": {},
   "outputs": [
    {
     "name": "stdout",
     "output_type": "stream",
     "text": [
      "58\n",
      "58\n",
      "58\n"
     ]
    }
   ],
   "source": [
    "print(len(actividades_tene))\n",
    "print(len(categoria_activides_tene))\n",
    "print(len(descripcion_actividad_tene))"
   ]
  },
  {
   "cell_type": "code",
   "execution_count": 5,
   "metadata": {},
   "outputs": [],
   "source": [
    "lista_precios_tene = sopa_actividades_tene.find_all(\"div\", {\"class\": \"price_container\"})\n",
    "precio_actividades_tene = [precio.getText() for precio in lista_precios_tene]\n"
   ]
  },
  {
   "cell_type": "code",
   "execution_count": null,
   "metadata": {},
   "outputs": [
    {
     "data": {
      "text/plain": [
       "[<div class=\"price_container\">\n",
       " <span><sup></sup>39.00</span><span>€</span> <!--<div class=\"incluido\">(impuestos y tasas incluidos)</div>-->\n",
       " <p><span class=\"btn_1 tour_view_more\">Ver más</span></p>\n",
       " </div>,\n",
       " <div class=\"price_container\">\n",
       " <span><sup></sup>60.00</span><span>€</span> <!--<div class=\"incluido\">(impuestos y tasas incluidos)</div>-->\n",
       " <p><span class=\"btn_1 tour_view_more\">Ver más</span></p>\n",
       " </div>,\n",
       " <div class=\"price_container\">\n",
       " <span><sup></sup>18.35</span><span>€</span> <!--<div class=\"incluido\">(impuestos y tasas incluidos)</div>-->\n",
       " <p><span class=\"btn_1 tour_view_more\">Ver más</span></p>\n",
       " </div>,\n",
       " <div class=\"price_container\">\n",
       " <span><sup></sup>33.90</span><span>€</span> <!--<div class=\"incluido\">(impuestos y tasas incluidos)</div>-->\n",
       " <p><span class=\"btn_1 tour_view_more\">Ver más</span></p>\n",
       " </div>,\n",
       " <div class=\"price_container\">\n",
       " <span><sup></sup>14.85</span><span>€</span> <!--<div class=\"incluido\">(impuestos y tasas incluidos)</div>-->\n",
       " <p><span class=\"btn_1 tour_view_more\">Ver más</span></p>\n",
       " </div>,\n",
       " <div class=\"price_container\">\n",
       " <span><sup></sup>19.25</span><span>€</span> <!--<div class=\"incluido\">(impuestos y tasas incluidos)</div>-->\n",
       " <p><span class=\"btn_1 tour_view_more\">Ver más</span></p>\n",
       " </div>,\n",
       " <div class=\"price_container\">\n",
       " <span><sup></sup>10.00</span><span>€</span> <!--<div class=\"incluido\">(impuestos y tasas incluidos)</div>-->\n",
       " <p><span class=\"btn_1 tour_view_more\">Ver más</span></p>\n",
       " </div>,\n",
       " <div class=\"price_container\">\n",
       " <span><sup></sup>160.00</span><span>€</span> <!--<div class=\"incluido\">(impuestos y tasas incluidos)</div>-->\n",
       " <p><span class=\"btn_1 tour_view_more\">Ver más</span></p>\n",
       " </div>,\n",
       " <div class=\"price_container\">\n",
       " <span><sup></sup>35.00</span><span>€</span> <!--<div class=\"incluido\">(impuestos y tasas incluidos)</div>-->\n",
       " <p><span class=\"btn_1 tour_view_more\">Ver más</span></p>\n",
       " </div>,\n",
       " <div class=\"price_container\">\n",
       " <span><sup></sup>97.00</span><span>€</span> <!--<div class=\"incluido\">(impuestos y tasas incluidos)</div>-->\n",
       " <p><span class=\"btn_1 tour_view_more\">Ver más</span></p>\n",
       " </div>,\n",
       " <div class=\"price_container\">\n",
       " <span><sup></sup>65.00</span><span>€</span> <!--<div class=\"incluido\">(impuestos y tasas incluidos)</div>-->\n",
       " <p><span class=\"btn_1 tour_view_more\">Ver más</span></p>\n",
       " </div>,\n",
       " <div class=\"price_container\">\n",
       " <span><sup></sup>33.00</span><span>€</span> <!--<div class=\"incluido\">(impuestos y tasas incluidos)</div>-->\n",
       " <p><span class=\"btn_1 tour_view_more\">Ver más</span></p>\n",
       " </div>,\n",
       " <div class=\"price_container\">\n",
       " <span><sup></sup>120.00</span><span>€</span> <!--<div class=\"incluido\">(impuestos y tasas incluidos)</div>-->\n",
       " <p><span class=\"btn_1 tour_view_more\">Ver más</span></p>\n",
       " </div>,\n",
       " <div class=\"price_container\">\n",
       " <span><sup></sup>25.00</span><span>€</span> <!--<div class=\"incluido\">(impuestos y tasas incluidos)</div>-->\n",
       " <p><span class=\"btn_1 tour_view_more\">Ver más</span></p>\n",
       " </div>,\n",
       " <div class=\"price_container\">\n",
       " <span><sup></sup>117.90</span><span>€</span> <!--<div class=\"incluido\">(impuestos y tasas incluidos)</div>-->\n",
       " <p><span class=\"btn_1 tour_view_more\">Ver más</span></p>\n",
       " </div>,\n",
       " <div class=\"price_container\">\n",
       " <span><sup></sup>20.00</span><span>€</span> <!--<div class=\"incluido\">(impuestos y tasas incluidos)</div>-->\n",
       " <p><span class=\"btn_1 tour_view_more\">Ver más</span></p>\n",
       " </div>,\n",
       " <div class=\"price_container\">\n",
       " <span><sup></sup>15.50</span><span>€</span> <!--<div class=\"incluido\">(impuestos y tasas incluidos)</div>-->\n",
       " <p><span class=\"btn_1 tour_view_more\">Ver más</span></p>\n",
       " </div>,\n",
       " <div class=\"price_container\">\n",
       " <span><sup></sup>26.00</span><span>€</span> <!--<div class=\"incluido\">(impuestos y tasas incluidos)</div>-->\n",
       " <p><span class=\"btn_1 tour_view_more\">Ver más</span></p>\n",
       " </div>,\n",
       " <div class=\"price_container\">\n",
       " <span><sup></sup>72.80</span><span>€</span> <!--<div class=\"incluido\">(impuestos y tasas incluidos)</div>-->\n",
       " <p><span class=\"btn_1 tour_view_more\">Ver más</span></p>\n",
       " </div>,\n",
       " <div class=\"price_container\">\n",
       " <span><sup></sup>17.80</span><span>€</span> <!--<div class=\"incluido\">(impuestos y tasas incluidos)</div>-->\n",
       " <p><span class=\"btn_1 tour_view_more\">Ver más</span></p>\n",
       " </div>]"
      ]
     },
     "metadata": {},
     "output_type": "display_data"
    }
   ],
   "source": [
    "# lista_precios_tene     para   ue no moleste lo comento"
   ]
  },
  {
   "cell_type": "code",
   "execution_count": 6,
   "metadata": {},
   "outputs": [],
   "source": [
    "precios_tene = []\n",
    "\n",
    "for precio in lista_precios_tene:\n",
    "    precio_normal = precio.find(\"div\", class_=\"normal_price\")\n",
    "\n",
    "    if precio_normal:\n",
    "        precios_tene.append(precio_normal.text.strip())\n",
    "    else:\n",
    "        sup_precio = precio.find(\"sup\")\n",
    "        span_precio = precio.find(\"span\")\n",
    "        if span_precio:\n",
    "            precios_tene.append(span_precio.text.strip())\n",
    "        else:\n",
    "            precios_tene.append(\"gratis\")"
   ]
  },
  {
   "cell_type": "code",
   "execution_count": 7,
   "metadata": {},
   "outputs": [
    {
     "data": {
      "text/html": [
       "<div>\n",
       "<style scoped>\n",
       "    .dataframe tbody tr th:only-of-type {\n",
       "        vertical-align: middle;\n",
       "    }\n",
       "\n",
       "    .dataframe tbody tr th {\n",
       "        vertical-align: top;\n",
       "    }\n",
       "\n",
       "    .dataframe thead th {\n",
       "        text-align: right;\n",
       "    }\n",
       "</style>\n",
       "<table border=\"1\" class=\"dataframe\">\n",
       "  <thead>\n",
       "    <tr style=\"text-align: right;\">\n",
       "      <th></th>\n",
       "      <th>actividades</th>\n",
       "      <th>categorias</th>\n",
       "      <th>descripcion</th>\n",
       "      <th>precio</th>\n",
       "    </tr>\n",
       "  </thead>\n",
       "  <tbody>\n",
       "    <tr>\n",
       "      <th>0</th>\n",
       "      <td>Ruta de misterios y leyendas por Santa Cruz de...</td>\n",
       "      <td>Tours a pie</td>\n",
       "      <td>Disfruta de una fantástica noche de miedo, pai...</td>\n",
       "      <td>39.00</td>\n",
       "    </tr>\n",
       "    <tr>\n",
       "      <th>1</th>\n",
       "      <td>Parque Nacional del Teide y norte de la isla d...</td>\n",
       "      <td>Excursiones de un día</td>\n",
       "      <td>Nuestra primera parada será en la ciudad de La...</td>\n",
       "      <td>60.00</td>\n",
       "    </tr>\n",
       "    <tr>\n",
       "      <th>2</th>\n",
       "      <td>Tour por Santa Cruz de Tenerife con recogida d...</td>\n",
       "      <td>Visitas Guiadas</td>\n",
       "      <td>En esta visita podrá visitar las mejores tiend...</td>\n",
       "      <td>18.35</td>\n",
       "    </tr>\n",
       "    <tr>\n",
       "      <th>3</th>\n",
       "      <td>La Laguna, Tangana y Santa Cruz desde Puerto d...</td>\n",
       "      <td>Excursiones de un día</td>\n",
       "      <td>Descubra la  belleza natural de La Laguna, Tan...</td>\n",
       "      <td>33.90</td>\n",
       "    </tr>\n",
       "    <tr>\n",
       "      <th>4</th>\n",
       "      <td>Visita guiada a pie por el barrio judío de San...</td>\n",
       "      <td>Tours a pie</td>\n",
       "      <td>Contemple  el barrio judío de Sevilla en un to...</td>\n",
       "      <td>14.85</td>\n",
       "    </tr>\n",
       "  </tbody>\n",
       "</table>\n",
       "</div>"
      ],
      "text/plain": [
       "                                         actividades             categorias  \\\n",
       "0  Ruta de misterios y leyendas por Santa Cruz de...            Tours a pie   \n",
       "1  Parque Nacional del Teide y norte de la isla d...  Excursiones de un día   \n",
       "2  Tour por Santa Cruz de Tenerife con recogida d...        Visitas Guiadas   \n",
       "3  La Laguna, Tangana y Santa Cruz desde Puerto d...  Excursiones de un día   \n",
       "4  Visita guiada a pie por el barrio judío de San...            Tours a pie   \n",
       "\n",
       "                                         descripcion precio  \n",
       "0  Disfruta de una fantástica noche de miedo, pai...  39.00  \n",
       "1  Nuestra primera parada será en la ciudad de La...  60.00  \n",
       "2  En esta visita podrá visitar las mejores tiend...  18.35  \n",
       "3  Descubra la  belleza natural de La Laguna, Tan...  33.90  \n",
       "4  Contemple  el barrio judío de Sevilla en un to...  14.85  "
      ]
     },
     "execution_count": 7,
     "metadata": {},
     "output_type": "execute_result"
    }
   ],
   "source": [
    "diccionario_tene = {\"actividades\": actividades_tene, \"categorias\": categoria_activides_tene, \"descripcion\": descripcion_actividad_tene, \"precio\": precios_tene}\n",
    "df_actividades_tene = pd.DataFrame(diccionario_tene)\n",
    "df_actividades_tene.head()"
   ]
  },
  {
   "cell_type": "markdown",
   "metadata": {},
   "source": [
    "*Actividades pmi*"
   ]
  },
  {
   "cell_type": "code",
   "execution_count": 9,
   "metadata": {},
   "outputs": [
    {
     "name": "stdout",
     "output_type": "stream",
     "text": [
      "No encuentro el botón\n"
     ]
    }
   ],
   "source": [
    "\n",
    "driver = webdriver.Chrome()\n",
    "url_wunder = \"https://www.guias.travel/tour/\"\n",
    "driver.get(url_wunder)\n",
    "driver.maximize_window()\n",
    "driver.implicitly_wait(6) \n",
    "\n",
    "try: \n",
    "    driver.find_element(\"css selector\", \"#search-form-input\").click()\n",
    "except:\n",
    "    print(\"No encuentro el botón\")\n",
    "\n",
    "driver.find_element(\"css selector\", \"#search-form-input\").send_keys(\"mallorca\", Keys.ENTER)\n",
    "for i in range(5):  \n",
    "    driver.execute_script(\"window.scrollBy(0, 1000);\")  \n",
    "    sleep(1) \n",
    "sleep(3)\n",
    "try: \n",
    "    driver.find_element(\"css selector\", \"#more_tours > span\").click()\n",
    "except:\n",
    "    print(\"No encuentro el botón\")\n",
    "for i in range(2):  \n",
    "    driver.execute_script(\"window.scrollBy(0, 1000);\")  \n",
    "    sleep(1) \n",
    "try: \n",
    "    driver.find_element(\"css selector\", \"#more_tours > span\").click()\n",
    "except:\n",
    "    print(\"No encuentro el botón\")\n",
    "sopa_actividades_pmi = BeautifulSoup(driver.page_source)\n",
    "lista_actividades_pmi = sopa_actividades_pmi.find_all(\"div\", {\"class\": \"strip_all_tour_list\"})\n",
    "\n"
   ]
  },
  {
   "cell_type": "code",
   "execution_count": 10,
   "metadata": {},
   "outputs": [],
   "source": [
    "actividades_pmi = [viaje.find(\"h2\").getText() for viaje in lista_actividades_pmi]\n",
    "categoria_activides_pmi = [excursion.find(\"h3\").getText() for excursion in lista_actividades_pmi]\n",
    "descripcion_actividad_pmi = [desc.find(\"p\").getText() for desc in lista_actividades_pmi]\n",
    "\n",
    "\n",
    "lista_precios_pmi= sopa_actividades_pmi.find_all(\"div\", {\"class\": \"price_container\"})\n",
    "precio_actividades_pmi = [p.getText().strip().replace( \" \\nVer más\", \"\") for p in lista_precios_pmi]"
   ]
  },
  {
   "cell_type": "code",
   "execution_count": 11,
   "metadata": {},
   "outputs": [
    {
     "name": "stdout",
     "output_type": "stream",
     "text": [
      "32\n",
      "32\n",
      "32\n"
     ]
    }
   ],
   "source": [
    "print(len(actividades_pmi))\n",
    "print(len(categoria_activides_pmi))\n",
    "print(len(descripcion_actividad_pmi))"
   ]
  },
  {
   "cell_type": "code",
   "execution_count": 12,
   "metadata": {},
   "outputs": [
    {
     "data": {
      "text/html": [
       "<div>\n",
       "<style scoped>\n",
       "    .dataframe tbody tr th:only-of-type {\n",
       "        vertical-align: middle;\n",
       "    }\n",
       "\n",
       "    .dataframe tbody tr th {\n",
       "        vertical-align: top;\n",
       "    }\n",
       "\n",
       "    .dataframe thead th {\n",
       "        text-align: right;\n",
       "    }\n",
       "</style>\n",
       "<table border=\"1\" class=\"dataframe\">\n",
       "  <thead>\n",
       "    <tr style=\"text-align: right;\">\n",
       "      <th></th>\n",
       "      <th>actividades</th>\n",
       "      <th>categorias</th>\n",
       "      <th>descripcion</th>\n",
       "      <th>precio</th>\n",
       "    </tr>\n",
       "  </thead>\n",
       "  <tbody>\n",
       "    <tr>\n",
       "      <th>0</th>\n",
       "      <td>Visita guiada por Palma de Mallorca con entrad...</td>\n",
       "      <td>Visitas Guiadas</td>\n",
       "      <td>Descubra los lugares  más famosos de Palma de ...</td>\n",
       "      <td>26.00€</td>\n",
       "    </tr>\n",
       "    <tr>\n",
       "      <th>1</th>\n",
       "      <td>Autobús turístico de Palma</td>\n",
       "      <td>Tours en Bus turístico</td>\n",
       "      <td>Visite la antigua ciudad portuaria del Mediter...</td>\n",
       "      <td>18.50€</td>\n",
       "    </tr>\n",
       "    <tr>\n",
       "      <th>2</th>\n",
       "      <td>Tour por la isla: Sóller en tren de madera, tr...</td>\n",
       "      <td>Excursiones de un día</td>\n",
       "      <td>En una excursión de día completo por la parte ...</td>\n",
       "      <td>90.80€</td>\n",
       "    </tr>\n",
       "    <tr>\n",
       "      <th>3</th>\n",
       "      <td>Visita Palma y Alrededores – Tour en Coche Elé...</td>\n",
       "      <td>Excursiones de un día</td>\n",
       "      <td>Tendrás la oportunidad de conducir uno de nues...</td>\n",
       "      <td>65.00€</td>\n",
       "    </tr>\n",
       "    <tr>\n",
       "      <th>4</th>\n",
       "      <td>Visita a las Cuevas del Drach, porto Cristo y ...</td>\n",
       "      <td>Excursiones de un día</td>\n",
       "      <td>Excursión de medio día a Majorica, Porto Crist...</td>\n",
       "      <td>50.60€</td>\n",
       "    </tr>\n",
       "  </tbody>\n",
       "</table>\n",
       "</div>"
      ],
      "text/plain": [
       "                                         actividades              categorias  \\\n",
       "0  Visita guiada por Palma de Mallorca con entrad...         Visitas Guiadas   \n",
       "1                         Autobús turístico de Palma  Tours en Bus turístico   \n",
       "2  Tour por la isla: Sóller en tren de madera, tr...   Excursiones de un día   \n",
       "3  Visita Palma y Alrededores – Tour en Coche Elé...   Excursiones de un día   \n",
       "4  Visita a las Cuevas del Drach, porto Cristo y ...   Excursiones de un día   \n",
       "\n",
       "                                         descripcion  precio  \n",
       "0  Descubra los lugares  más famosos de Palma de ...  26.00€  \n",
       "1  Visite la antigua ciudad portuaria del Mediter...  18.50€  \n",
       "2  En una excursión de día completo por la parte ...  90.80€  \n",
       "3  Tendrás la oportunidad de conducir uno de nues...  65.00€  \n",
       "4  Excursión de medio día a Majorica, Porto Crist...  50.60€  "
      ]
     },
     "execution_count": 12,
     "metadata": {},
     "output_type": "execute_result"
    }
   ],
   "source": [
    "\n",
    "diccionario_pmi = {\"actividades\": actividades_pmi, \"categorias\": categoria_activides_pmi, \"descripcion\": descripcion_actividad_pmi, \"precio\": precio_actividades_pmi}\n",
    "df_actividades_pmi = pd.DataFrame(diccionario_pmi)\n",
    "\n",
    "df_actividades_pmi.head()"
   ]
  },
  {
   "cell_type": "markdown",
   "metadata": {},
   "source": [
    "Formateo:"
   ]
  },
  {
   "cell_type": "code",
   "execution_count": 19,
   "metadata": {},
   "outputs": [],
   "source": [
    "df_actividades_pmi[\"precio\"]= df_actividades_pmi[\"precio\"].str.replace(\"€\", \"\").astype(float)\n",
    "df_actividades_tene[\"precio\"]= df_actividades_tene[\"precio\"].str.replace(\"€\", \"\").astype(float)"
   ]
  },
  {
   "cell_type": "markdown",
   "metadata": {},
   "source": [
    "Para pasar esto al EDA"
   ]
  },
  {
   "cell_type": "code",
   "execution_count": 20,
   "metadata": {},
   "outputs": [
    {
     "name": "stdout",
     "output_type": "stream",
     "text": [
      "<class 'pandas.core.frame.DataFrame'>\n",
      "RangeIndex: 32 entries, 0 to 31\n",
      "Data columns (total 4 columns):\n",
      " #   Column       Non-Null Count  Dtype  \n",
      "---  ------       --------------  -----  \n",
      " 0   actividades  32 non-null     object \n",
      " 1   categorias   32 non-null     object \n",
      " 2   descripcion  32 non-null     object \n",
      " 3   precio       32 non-null     float64\n",
      "dtypes: float64(1), object(3)\n",
      "memory usage: 1.1+ KB\n"
     ]
    }
   ],
   "source": [
    "df_actividades_pmi.info()"
   ]
  },
  {
   "cell_type": "code",
   "execution_count": 21,
   "metadata": {},
   "outputs": [
    {
     "name": "stdout",
     "output_type": "stream",
     "text": [
      "<class 'pandas.core.frame.DataFrame'>\n",
      "RangeIndex: 58 entries, 0 to 57\n",
      "Data columns (total 4 columns):\n",
      " #   Column       Non-Null Count  Dtype  \n",
      "---  ------       --------------  -----  \n",
      " 0   actividades  58 non-null     object \n",
      " 1   categorias   58 non-null     object \n",
      " 2   descripcion  58 non-null     object \n",
      " 3   precio       58 non-null     float64\n",
      "dtypes: float64(1), object(3)\n",
      "memory usage: 1.9+ KB\n"
     ]
    }
   ],
   "source": [
    "df_actividades_tene.info()"
   ]
  },
  {
   "cell_type": "code",
   "execution_count": 23,
   "metadata": {},
   "outputs": [
    {
     "data": {
      "text/html": [
       "<div>\n",
       "<style scoped>\n",
       "    .dataframe tbody tr th:only-of-type {\n",
       "        vertical-align: middle;\n",
       "    }\n",
       "\n",
       "    .dataframe tbody tr th {\n",
       "        vertical-align: top;\n",
       "    }\n",
       "\n",
       "    .dataframe thead th {\n",
       "        text-align: right;\n",
       "    }\n",
       "</style>\n",
       "<table border=\"1\" class=\"dataframe\">\n",
       "  <thead>\n",
       "    <tr style=\"text-align: right;\">\n",
       "      <th></th>\n",
       "      <th>count</th>\n",
       "      <th>mean</th>\n",
       "      <th>std</th>\n",
       "      <th>min</th>\n",
       "      <th>25%</th>\n",
       "      <th>50%</th>\n",
       "      <th>75%</th>\n",
       "      <th>max</th>\n",
       "    </tr>\n",
       "  </thead>\n",
       "  <tbody>\n",
       "    <tr>\n",
       "      <th>precio</th>\n",
       "      <td>58.0</td>\n",
       "      <td>65.094828</td>\n",
       "      <td>45.325983</td>\n",
       "      <td>8.05</td>\n",
       "      <td>32.1</td>\n",
       "      <td>52.9</td>\n",
       "      <td>84.25</td>\n",
       "      <td>238.95</td>\n",
       "    </tr>\n",
       "  </tbody>\n",
       "</table>\n",
       "</div>"
      ],
      "text/plain": [
       "        count       mean        std   min   25%   50%    75%     max\n",
       "precio   58.0  65.094828  45.325983  8.05  32.1  52.9  84.25  238.95"
      ]
     },
     "execution_count": 23,
     "metadata": {},
     "output_type": "execute_result"
    }
   ],
   "source": [
    "df_actividades_tene.describe().T"
   ]
  },
  {
   "cell_type": "code",
   "execution_count": 24,
   "metadata": {},
   "outputs": [
    {
     "data": {
      "text/html": [
       "<div>\n",
       "<style scoped>\n",
       "    .dataframe tbody tr th:only-of-type {\n",
       "        vertical-align: middle;\n",
       "    }\n",
       "\n",
       "    .dataframe tbody tr th {\n",
       "        vertical-align: top;\n",
       "    }\n",
       "\n",
       "    .dataframe thead th {\n",
       "        text-align: right;\n",
       "    }\n",
       "</style>\n",
       "<table border=\"1\" class=\"dataframe\">\n",
       "  <thead>\n",
       "    <tr style=\"text-align: right;\">\n",
       "      <th></th>\n",
       "      <th>count</th>\n",
       "      <th>unique</th>\n",
       "      <th>top</th>\n",
       "      <th>freq</th>\n",
       "    </tr>\n",
       "  </thead>\n",
       "  <tbody>\n",
       "    <tr>\n",
       "      <th>actividades</th>\n",
       "      <td>58</td>\n",
       "      <td>58</td>\n",
       "      <td>Ruta de misterios y leyendas por Santa Cruz de...</td>\n",
       "      <td>1</td>\n",
       "    </tr>\n",
       "    <tr>\n",
       "      <th>categorias</th>\n",
       "      <td>58</td>\n",
       "      <td>13</td>\n",
       "      <td>Excursiones de un día</td>\n",
       "      <td>19</td>\n",
       "    </tr>\n",
       "    <tr>\n",
       "      <th>descripcion</th>\n",
       "      <td>58</td>\n",
       "      <td>58</td>\n",
       "      <td>Disfruta de una fantástica noche de miedo, pai...</td>\n",
       "      <td>1</td>\n",
       "    </tr>\n",
       "  </tbody>\n",
       "</table>\n",
       "</div>"
      ],
      "text/plain": [
       "            count unique                                                top  \\\n",
       "actividades    58     58  Ruta de misterios y leyendas por Santa Cruz de...   \n",
       "categorias     58     13                              Excursiones de un día   \n",
       "descripcion    58     58  Disfruta de una fantástica noche de miedo, pai...   \n",
       "\n",
       "            freq  \n",
       "actividades    1  \n",
       "categorias    19  \n",
       "descripcion    1  "
      ]
     },
     "execution_count": 24,
     "metadata": {},
     "output_type": "execute_result"
    }
   ],
   "source": [
    "df_actividades_tene.describe(include= \"O\").T"
   ]
  },
  {
   "cell_type": "code",
   "execution_count": 25,
   "metadata": {},
   "outputs": [
    {
     "data": {
      "text/html": [
       "<div>\n",
       "<style scoped>\n",
       "    .dataframe tbody tr th:only-of-type {\n",
       "        vertical-align: middle;\n",
       "    }\n",
       "\n",
       "    .dataframe tbody tr th {\n",
       "        vertical-align: top;\n",
       "    }\n",
       "\n",
       "    .dataframe thead th {\n",
       "        text-align: right;\n",
       "    }\n",
       "</style>\n",
       "<table border=\"1\" class=\"dataframe\">\n",
       "  <thead>\n",
       "    <tr style=\"text-align: right;\">\n",
       "      <th></th>\n",
       "      <th>count</th>\n",
       "      <th>mean</th>\n",
       "      <th>std</th>\n",
       "      <th>min</th>\n",
       "      <th>25%</th>\n",
       "      <th>50%</th>\n",
       "      <th>75%</th>\n",
       "      <th>max</th>\n",
       "    </tr>\n",
       "  </thead>\n",
       "  <tbody>\n",
       "    <tr>\n",
       "      <th>precio</th>\n",
       "      <td>32.0</td>\n",
       "      <td>61.267187</td>\n",
       "      <td>39.4551</td>\n",
       "      <td>15.25</td>\n",
       "      <td>35.7375</td>\n",
       "      <td>54.5</td>\n",
       "      <td>70.25</td>\n",
       "      <td>226.0</td>\n",
       "    </tr>\n",
       "  </tbody>\n",
       "</table>\n",
       "</div>"
      ],
      "text/plain": [
       "        count       mean      std    min      25%   50%    75%    max\n",
       "precio   32.0  61.267187  39.4551  15.25  35.7375  54.5  70.25  226.0"
      ]
     },
     "execution_count": 25,
     "metadata": {},
     "output_type": "execute_result"
    }
   ],
   "source": [
    "df_actividades_pmi.describe().T"
   ]
  },
  {
   "cell_type": "code",
   "execution_count": 26,
   "metadata": {},
   "outputs": [
    {
     "data": {
      "text/html": [
       "<div>\n",
       "<style scoped>\n",
       "    .dataframe tbody tr th:only-of-type {\n",
       "        vertical-align: middle;\n",
       "    }\n",
       "\n",
       "    .dataframe tbody tr th {\n",
       "        vertical-align: top;\n",
       "    }\n",
       "\n",
       "    .dataframe thead th {\n",
       "        text-align: right;\n",
       "    }\n",
       "</style>\n",
       "<table border=\"1\" class=\"dataframe\">\n",
       "  <thead>\n",
       "    <tr style=\"text-align: right;\">\n",
       "      <th></th>\n",
       "      <th>count</th>\n",
       "      <th>unique</th>\n",
       "      <th>top</th>\n",
       "      <th>freq</th>\n",
       "    </tr>\n",
       "  </thead>\n",
       "  <tbody>\n",
       "    <tr>\n",
       "      <th>actividades</th>\n",
       "      <td>32</td>\n",
       "      <td>32</td>\n",
       "      <td>Visita guiada por Palma de Mallorca con entrad...</td>\n",
       "      <td>1</td>\n",
       "    </tr>\n",
       "    <tr>\n",
       "      <th>categorias</th>\n",
       "      <td>32</td>\n",
       "      <td>12</td>\n",
       "      <td>Paseos en barco</td>\n",
       "      <td>8</td>\n",
       "    </tr>\n",
       "    <tr>\n",
       "      <th>descripcion</th>\n",
       "      <td>32</td>\n",
       "      <td>32</td>\n",
       "      <td>Descubra los lugares  más famosos de Palma de ...</td>\n",
       "      <td>1</td>\n",
       "    </tr>\n",
       "  </tbody>\n",
       "</table>\n",
       "</div>"
      ],
      "text/plain": [
       "            count unique                                                top  \\\n",
       "actividades    32     32  Visita guiada por Palma de Mallorca con entrad...   \n",
       "categorias     32     12                                    Paseos en barco   \n",
       "descripcion    32     32  Descubra los lugares  más famosos de Palma de ...   \n",
       "\n",
       "            freq  \n",
       "actividades    1  \n",
       "categorias     8  \n",
       "descripcion    1  "
      ]
     },
     "execution_count": 26,
     "metadata": {},
     "output_type": "execute_result"
    }
   ],
   "source": [
    "df_actividades_pmi.describe(include= \"O\").T"
   ]
  },
  {
   "cell_type": "markdown",
   "metadata": {},
   "source": [
    "**En este proceso de extración y limpieza:**  \n",
    "- Se extrajeron los datos de los vuelos haciendo uso de una API de skiscrapper.  \n",
    "\n",
    "- Se extrajeron los datos de los hoteles haciendo uso de una API de Tripadvisor.  \n",
    "\n",
    "- Se extrajeron los datos de las actividades mediante web scrapping a la web guías travel.  \n",
    "\n",
    "- Se convirtieron las fechas al formato correcto. \n",
    "\n",
    "- Se convirtieron los prcios de las actividades a float.  \n",
    "\n",
    "- Se dropearon las columnas de rango max y min del precio porque solo se utilizaron para calcular la columna de precio medio.  \n"
   ]
  }
 ],
 "metadata": {
  "kernelspec": {
   "display_name": "proyecto3_entorno",
   "language": "python",
   "name": "python3"
  },
  "language_info": {
   "codemirror_mode": {
    "name": "ipython",
    "version": 3
   },
   "file_extension": ".py",
   "mimetype": "text/x-python",
   "name": "python",
   "nbconvert_exporter": "python",
   "pygments_lexer": "ipython3",
   "version": "3.11.9"
  }
 },
 "nbformat": 4,
 "nbformat_minor": 2
}
