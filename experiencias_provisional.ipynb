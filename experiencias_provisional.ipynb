{
 "cells": [
  {
   "cell_type": "code",
   "execution_count": 12,
   "metadata": {},
   "outputs": [],
   "source": [
    "from datetime import datetime\n",
    "from geopy.geocoders import Nominatim\n",
    "import pandas as pd\n",
    "import numpy as np\n",
    "import requests\n",
    "import json\n",
    "from tqdm import tqdm\n",
    "from time import sleep\n",
    "import os\n",
    "from bs4 import BeautifulSoup\n",
    "import random\n",
    "from selenium import webdriver  \n",
    "from webdriver_manager.chrome import ChromeDriverManager  \n",
    "from selenium.webdriver.common.keys import Keys  \n",
    "from selenium.webdriver.support.ui import Select  \n",
    "from selenium.webdriver.support.ui import WebDriverWait\n",
    "from selenium.webdriver.support import expected_conditions as EC\n",
    "from selenium.common.exceptions import NoSuchElementException\n",
    "\n",
    "#import sys \n",
    "#sys.path.append(\"../\")   aquí no es necesario porque tengo el src a la misma altura que el jupyter\n",
    "\n",
    "from src.funciones import info_vuelos, crearDF_formateado, info_hoteles, crearDF_formateado_hoteles\n",
    "\n"
   ]
  },
  {
   "cell_type": "code",
   "execution_count": 5,
   "metadata": {},
   "outputs": [],
   "source": []
  },
  {
   "cell_type": "code",
   "execution_count": 14,
   "metadata": {},
   "outputs": [],
   "source": [
    "lista_ubicaciones=[\"santa cruz de tenerife\", \"la gomera\", \"mallorca\", \"menorca\"]\n",
    "lista_actividades=[]\n",
    "lista_categoria= []\n",
    "for ubicacion in lista_ubicaciones:\n",
    "    url_bueno= f\"https://www.guias.travel/tour/?s={ubicacion}&customerSearch=1&searchSource=2\"\n",
    "    res= requests.get(url_bueno)\n",
    "    sopa_actividades= BeautifulSoup(res.content, \"html.parser\")\n",
    "    lista_cat_actividades= sopa_actividades.find_all(\"h3\", {\"class\": \"category desktop\"})\n",
    "    categoria=[nombre.getText() for nombre in lista_cat_actividades]\n",
    "    lista_actividades= sopa_actividades.find_all(\"h2\")\n",
    "    actividad=[nombre.getText() for nombre in lista_cat_actividades]\n",
    "\n",
    "    lista_actividades.append(actividad)\n",
    "    lista_categoria.append(categoria)"
   ]
  },
  {
   "cell_type": "code",
   "execution_count": 11,
   "metadata": {},
   "outputs": [
    {
     "data": {
      "text/plain": [
       "[<h2>Menorcalines por Trasmapi: Ferri de Mallorca a Menorca</h2>,\n",
       " ['Paseos en barco']]"
      ]
     },
     "execution_count": 11,
     "metadata": {},
     "output_type": "execute_result"
    }
   ],
   "source": [
    "\n",
    "\n",
    "lista_actividades\n",
    "\n",
    "\n",
    "\n",
    "\n",
    "\n",
    "#Beautyfulsoup creo\n"
   ]
  }
 ],
 "metadata": {
  "kernelspec": {
   "display_name": "proyecto3_entorno",
   "language": "python",
   "name": "python3"
  },
  "language_info": {
   "codemirror_mode": {
    "name": "ipython",
    "version": 3
   },
   "file_extension": ".py",
   "mimetype": "text/x-python",
   "name": "python",
   "nbconvert_exporter": "python",
   "pygments_lexer": "ipython3",
   "version": "3.11.9"
  }
 },
 "nbformat": 4,
 "nbformat_minor": 2
}
