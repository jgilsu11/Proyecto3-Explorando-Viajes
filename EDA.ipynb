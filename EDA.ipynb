{
 "cells": [
  {
   "cell_type": "code",
   "execution_count": 1,
   "metadata": {},
   "outputs": [],
   "source": [
    "from datetime import datetime\n",
    "from geopy.geocoders import Nominatim\n",
    "import pandas as pd\n",
    "import numpy as np\n",
    "import requests\n",
    "import json\n",
    "from tqdm import tqdm\n",
    "from time import sleep\n",
    "import os\n",
    "\n",
    "\n",
    "#import sys \n",
    "#sys.path.append(\"../\")   aquí no es necesario porque tengo el src a la misma altura que el jupyter\n",
    "\n",
    "from src.funciones import info_vuelos, crearDF_formateado, info_hoteles, crearDF_formateado_hoteles\n",
    "\n"
   ]
  },
  {
   "cell_type": "code",
   "execution_count": 2,
   "metadata": {},
   "outputs": [],
   "source": [
    "import pandas as pd\n",
    "import numpy as np\n",
    "import matplotlib.pyplot as plt  \n",
    "import seaborn as sns\n"
   ]
  },
  {
   "cell_type": "code",
   "execution_count": 3,
   "metadata": {},
   "outputs": [],
   "source": [
    "hotel_tene_1=pd.read_csv(\"datos/hotel_tene_1.csv\")\n",
    "hotel_tene_2=pd.read_csv(\"datos/hotel_tene_2.csv\")\n",
    "hotel_tene_3=pd.read_csv(\"datos/hotel_tene_3.csv\")\n",
    "hotel_tene_4=pd.read_csv(\"datos/hotel_tene_4.csv\")\n",
    "\n",
    "\n",
    "hotel_pmi_1=pd.read_csv(\"datos/hotel_pmi_1.csv\")\n",
    "hotel_pmi_2=pd.read_csv(\"datos/hotel_pmi_2.csv\")\n",
    "hotel_pmi_3=pd.read_csv(\"datos/hotel_pmi_3.csv\")\n",
    "hotel_pmi_4=pd.read_csv(\"datos/hotel_pmi_4.csv\")\n",
    "hotel_pmi_5=pd.read_csv(\"datos/hotel_pmi_5.csv\")\n",
    "hotel_pmi_6=pd.read_csv(\"datos/hotel_pmi_6.csv\")\n",
    "hotel_pmi_7=pd.read_csv(\"datos/hotel_pmi_7.csv\")\n",
    "hotel_pmi_8=pd.read_csv(\"datos/hotel_pmi_8.csv\")\n"
   ]
  },
  {
   "cell_type": "markdown",
   "metadata": {},
   "source": [
    "***EDA***"
   ]
  },
  {
   "cell_type": "markdown",
   "metadata": {},
   "source": [
    "***Resumen EDA:***  \n",
    "\n",
    "**PMI**  \n",
    "*Hoteles:*  \n",
    "- Media reviews: dado que la media es de 322 reviews y la mediana 39 esto nos muestra que la mayoría de Hoteles tienen pocas reviews y que son unos \"pocos\" los que acumulan una gran cantidad de reviews(valores atípicos). Con max de 3702 y min de 0 reviews. Esto tiene sentido por su desviación tan elevada(615,91).    \n",
    "\n",
    "- Media rating: la media(3,54) y la mediana (4) no se llevan mucho en absoluto pero dado que es sobre 5 en proporciones si que se desvían con lo que se puede decir que hay bastantes hoteles con buen rating. Unido con lo que meciono, hay que comentar que entre el cuartil 25 y el percentil 99 se agrupan 2 \"puntos\" mientras que en el primer 25% ya se agrupan hasta los 3 puntos (lo que significa que el 35% tienen menos de 3 de rating y el 75% más de 3 por eso la desviación positiva en la mediana).  \n",
    "\n",
    "- Media precio medio por noche: la media y la mediana coinciden bastante (230,87 y 219,5 respectivamente). Se observa además que en el último 25% se la distribución se aumenta 300 euros mientras que en el primer 75% se acumulan otros 300 mostrando que hay mucha diferencia de precios entre los medio caros con los caros(En general tiene vastantes desviación con un 116). Con max de 631,5 y min de 30.  \n",
    "\n",
    "\n",
    "*Vuelos*  \n",
    "- Media duración: Observamos que la duración no varía practicamente y la media y mediana coinciden bastante mostrndo una levemente mayor agrupación de vuelos con duraciones de 85 minutos.  \n",
    "\n",
    "- Media precios: el precio medio(87,61) es levemente menor que la mediana (102,56) lo que nos indica que hay algunos precios atípicamente bajos. Con max 112,09 y min 23,7. Todo cuadra con una desviación de 23,70.    \n",
    "\n",
    "\n",
    "- La aerolinea más repetida es Iberia express con 8 vuelos(40%).  \n",
    "\n",
    "*Actividades*  \n",
    "\n",
    "- Media de precio: Se observa una media (61,27) levemente mayor a la mediana (54,5) reflejando que hay un sesgo hacia precios mayores debido a datos un tanto atípicos. Esto se confirma al observar que en el último 25% se da un salto considerable de 70,25 a 226. Con max del ya mencionado 226 y un min de 15,25. Observamos también una gran desviación (39,46) lo que tiene sentido debido a la variedad de actividades tan distintas entre sí.  \n",
    "\n",
    "- La categoría de actividad más ofrecida son los paseos en barco con una frecuencia de 8 lo que implica un 25% de las actividades en Mallorca.  \n",
    "\n",
    "\n",
    "**TENE**  \n",
    "*Hoteles:* \n",
    "- Media reviews: dado que la media es de 109 reviews y la mediana 3 esto nos muestra que la mayoría de Hoteles tienen pocas reviews y que son unos \"pocos\" los que acumulan una gran cantidad de reviews. Con max de 2829 y min de 0 reviews. Esto se confirma al observar el cuartil 75 y comprobar que el 75% de los hoteles tiene menos de 32 reviews. Esto va acompañado de una desviación bastante alta de 374,92.      \n",
    "\n",
    "- Media rating: la media(2,52) y la mediana (3,5) no se llevan mucho en absoluto pero dado que es sobre 5 en proporciones si que se desvían mucho con lo que se puede decir que hay bastantes hoteles con buen rating. Además hay que comentar que entre el cuartil 50 y el percentil 99 se agrupan 1,5 \"puntos\" mientras que en el primer 25% todavía se agrupan los hoteles con rating 0. Lo que más llama la atención es que en el 25% comprendido entre el cuartil 25 y el cuartil 50 se agrupan 3,5 puntos.   \n",
    "\n",
    "- Media precio medio por noche: la media y la mediana coinciden bastante (92,03 y 88,5 respectivamente). También nos damos cuenta de que están bastante bien distribuidos los precios entre los distintos cuartiles sin mostrar grandes variaciones (26 de desviación). Con max de 178,5 y min de 26.   \n",
    "\n",
    "*Vuelos*  \n",
    "- Media duración: Observamos que la duración no varía practicamente y la media y mediana son cai iguales.  \n",
    "\n",
    "- Media precios: el precio medio(177,45) es practicamente igual a la mediana (178,02). Con max 188,43 y min 152,2. Lo que tiene sentido con la baja desviación de 11,71.    \n",
    "  \n",
    "- La aerolinea más repetida es Iberia express con 10 vuelos.   \n",
    "\n",
    "\n",
    "*Actividades*  \n",
    "\n",
    "- Media de precio: Se observa una media (60,09) levemente mayor a la mediana (52,9) reflejando que hay un sesgo hacia precios mayores debido a datos un tanto atípicos. Esto se confirma al observar que en el último 25% se da un salto considerable de 84,25 a 238,95. Con max del ya mencionado 238,95 y un min de 8,05. Observamos también una gran desviación (45,33) lo que tiene sentido debido a la variedad de actividades tan distintas entre sí.\n",
    "\n",
    "- La categoría de actividad más ofrecida son las excursiones de un día con una frecuencia de 19 lo que implica un 33% de las actividades en Tenerife.\n",
    "  \n",
    "***Duplicados***  \n",
    "*Vuelos*  \n",
    "\n",
    "No me preocupan los duplicados porque al estar ofreciendo paquetes de ida y vuelta, puede haber casos (que ya han sido comprobados) en los que el paquete tenga el mismo vuelo de ida pero distintos vuelos de vuelta.   \n",
    "Por eso decido dejarlos para que cuenten también como opcion.\n",
    "\n",
    "*Hoteles*\n",
    "\n",
    "Finalmente se decidío eliminar los duplicados porque se descartó que fuera la misma franquicia en lugares distintos de la isla.\n",
    "\n",
    "\n",
    "*Actividades* \n",
    "\n",
    "No se contaba con ninguna actividad duplicada.  \n",
    "\n",
    "\n",
    "***Nulos***   \n",
    "*Hoteles*  \n",
    "\n",
    "Hay datos nulos en el precio medio asi que habrá que gestionarlo en algun momento\n",
    "\n",
    "- Se pierde un 33,94% de tenerife si se eliminan los nulos     \n",
    "- Se pierde un 28,24% de pmi si se eliminan los nulos   \n",
    "- Respecto al total, se pierde un 30%.  \n",
    "\n",
    "Me planteo rellenarlo con la media(Ya que con la mediana no hay casi diferencias).\n",
    "Pero al usar Seanborn se ignoran los nulos.\n",
    "\n",
    "\n",
    "*Vuelos*  \n",
    "\n",
    "- No hay nulos.   \n",
    "\n",
    "*Actividades*   \n",
    "\n",
    "- No hay nulos. \n",
    "\n",
    "\n",
    "\n"
   ]
  },
  {
   "cell_type": "code",
   "execution_count": 4,
   "metadata": {},
   "outputs": [],
   "source": [
    "df_hoteles_pmi=pd.DataFrame()\n",
    "df_hoteles_pmi= pd.concat([df_hoteles_pmi,hotel_pmi_1,hotel_pmi_2,hotel_pmi_3,hotel_pmi_4,hotel_pmi_5,hotel_pmi_6,hotel_pmi_7,hotel_pmi_8], ignore_index= True)"
   ]
  },
  {
   "cell_type": "code",
   "execution_count": 5,
   "metadata": {},
   "outputs": [],
   "source": [
    "df_hoteles_tene=pd.DataFrame()\n",
    "df_hoteles_tene= pd.concat([df_hoteles_tene,hotel_tene_1,hotel_tene_2,hotel_tene_3,hotel_tene_4], ignore_index= True)"
   ]
  },
  {
   "cell_type": "code",
   "execution_count": 6,
   "metadata": {},
   "outputs": [],
   "source": [
    "df_hoteles_total= pd.DataFrame()\n",
    "df_hoteles_total=pd.concat([df_hoteles_total,df_hoteles_pmi,df_hoteles_tene], ignore_index= True)"
   ]
  },
  {
   "cell_type": "code",
   "execution_count": 7,
   "metadata": {},
   "outputs": [],
   "source": [
    "df_hoteles_pmi.to_csv('datos/hoteles_pmi.csv', index=False)\n",
    "df_hoteles_tene.to_csv('datos/hoteles_tene.csv', index=False)\n",
    "df_hoteles_total.to_csv('datos/hoteles_total.csv', index=False)\n"
   ]
  },
  {
   "cell_type": "markdown",
   "metadata": {},
   "source": [
    "**Hoteles**"
   ]
  },
  {
   "cell_type": "code",
   "execution_count": 8,
   "metadata": {},
   "outputs": [
    {
     "data": {
      "text/html": [
       "<div>\n",
       "<style scoped>\n",
       "    .dataframe tbody tr th:only-of-type {\n",
       "        vertical-align: middle;\n",
       "    }\n",
       "\n",
       "    .dataframe tbody tr th {\n",
       "        vertical-align: top;\n",
       "    }\n",
       "\n",
       "    .dataframe thead th {\n",
       "        text-align: right;\n",
       "    }\n",
       "</style>\n",
       "<table border=\"1\" class=\"dataframe\">\n",
       "  <thead>\n",
       "    <tr style=\"text-align: right;\">\n",
       "      <th></th>\n",
       "      <th>count</th>\n",
       "      <th>mean</th>\n",
       "      <th>std</th>\n",
       "      <th>min</th>\n",
       "      <th>25%</th>\n",
       "      <th>50%</th>\n",
       "      <th>75%</th>\n",
       "      <th>max</th>\n",
       "    </tr>\n",
       "  </thead>\n",
       "  <tbody>\n",
       "    <tr>\n",
       "      <th>reviews_hotel</th>\n",
       "      <td>216.0</td>\n",
       "      <td>322.356481</td>\n",
       "      <td>615.907421</td>\n",
       "      <td>0.0</td>\n",
       "      <td>2.00</td>\n",
       "      <td>39.0</td>\n",
       "      <td>336.75</td>\n",
       "      <td>3702.0</td>\n",
       "    </tr>\n",
       "    <tr>\n",
       "      <th>rating_hotel</th>\n",
       "      <td>216.0</td>\n",
       "      <td>3.537037</td>\n",
       "      <td>1.624956</td>\n",
       "      <td>0.0</td>\n",
       "      <td>3.00</td>\n",
       "      <td>4.0</td>\n",
       "      <td>4.50</td>\n",
       "      <td>5.0</td>\n",
       "    </tr>\n",
       "    <tr>\n",
       "      <th>precio_medio_por noche</th>\n",
       "      <td>155.0</td>\n",
       "      <td>230.874194</td>\n",
       "      <td>116.262796</td>\n",
       "      <td>30.0</td>\n",
       "      <td>150.25</td>\n",
       "      <td>219.5</td>\n",
       "      <td>300.25</td>\n",
       "      <td>631.5</td>\n",
       "    </tr>\n",
       "  </tbody>\n",
       "</table>\n",
       "</div>"
      ],
      "text/plain": [
       "                        count        mean         std   min     25%    50%  \\\n",
       "reviews_hotel           216.0  322.356481  615.907421   0.0    2.00   39.0   \n",
       "rating_hotel            216.0    3.537037    1.624956   0.0    3.00    4.0   \n",
       "precio_medio_por noche  155.0  230.874194  116.262796  30.0  150.25  219.5   \n",
       "\n",
       "                           75%     max  \n",
       "reviews_hotel           336.75  3702.0  \n",
       "rating_hotel              4.50     5.0  \n",
       "precio_medio_por noche  300.25   631.5  "
      ]
     },
     "execution_count": 8,
     "metadata": {},
     "output_type": "execute_result"
    }
   ],
   "source": [
    "df_hoteles_pmi.describe().T\n"
   ]
  },
  {
   "cell_type": "code",
   "execution_count": 9,
   "metadata": {},
   "outputs": [
    {
     "data": {
      "text/html": [
       "<div>\n",
       "<style scoped>\n",
       "    .dataframe tbody tr th:only-of-type {\n",
       "        vertical-align: middle;\n",
       "    }\n",
       "\n",
       "    .dataframe tbody tr th {\n",
       "        vertical-align: top;\n",
       "    }\n",
       "\n",
       "    .dataframe thead th {\n",
       "        text-align: right;\n",
       "    }\n",
       "</style>\n",
       "<table border=\"1\" class=\"dataframe\">\n",
       "  <thead>\n",
       "    <tr style=\"text-align: right;\">\n",
       "      <th></th>\n",
       "      <th>count</th>\n",
       "      <th>unique</th>\n",
       "      <th>top</th>\n",
       "      <th>freq</th>\n",
       "    </tr>\n",
       "  </thead>\n",
       "  <tbody>\n",
       "    <tr>\n",
       "      <th>nombre_hotel</th>\n",
       "      <td>216</td>\n",
       "      <td>204</td>\n",
       "      <td>Metropolitan Juka Playa</td>\n",
       "      <td>3</td>\n",
       "    </tr>\n",
       "    <tr>\n",
       "      <th>ciudad</th>\n",
       "      <td>216</td>\n",
       "      <td>1</td>\n",
       "      <td>Palma de Mallorca</td>\n",
       "      <td>216</td>\n",
       "    </tr>\n",
       "    <tr>\n",
       "      <th>servicios</th>\n",
       "      <td>216</td>\n",
       "      <td>75</td>\n",
       "      <td>[]</td>\n",
       "      <td>67</td>\n",
       "    </tr>\n",
       "    <tr>\n",
       "      <th>link</th>\n",
       "      <td>216</td>\n",
       "      <td>206</td>\n",
       "      <td>https://www.tripadvisor.com/Hotel_Review-g1874...</td>\n",
       "      <td>2</td>\n",
       "    </tr>\n",
       "  </tbody>\n",
       "</table>\n",
       "</div>"
      ],
      "text/plain": [
       "             count unique                                                top  \\\n",
       "nombre_hotel   216    204                            Metropolitan Juka Playa   \n",
       "ciudad         216      1                                  Palma de Mallorca   \n",
       "servicios      216     75                                                 []   \n",
       "link           216    206  https://www.tripadvisor.com/Hotel_Review-g1874...   \n",
       "\n",
       "             freq  \n",
       "nombre_hotel    3  \n",
       "ciudad        216  \n",
       "servicios      67  \n",
       "link            2  "
      ]
     },
     "execution_count": 9,
     "metadata": {},
     "output_type": "execute_result"
    }
   ],
   "source": [
    "df_hoteles_pmi.describe(include=\"O\").T"
   ]
  },
  {
   "cell_type": "code",
   "execution_count": 10,
   "metadata": {},
   "outputs": [
    {
     "name": "stdout",
     "output_type": "stream",
     "text": [
      "<class 'pandas.core.frame.DataFrame'>\n",
      "RangeIndex: 216 entries, 0 to 215\n",
      "Data columns (total 7 columns):\n",
      " #   Column                  Non-Null Count  Dtype  \n",
      "---  ------                  --------------  -----  \n",
      " 0   nombre_hotel            216 non-null    object \n",
      " 1   reviews_hotel           216 non-null    int64  \n",
      " 2   rating_hotel            216 non-null    float64\n",
      " 3   precio_medio_por noche  155 non-null    float64\n",
      " 4   ciudad                  216 non-null    object \n",
      " 5   servicios               216 non-null    object \n",
      " 6   link                    216 non-null    object \n",
      "dtypes: float64(2), int64(1), object(4)\n",
      "memory usage: 11.9+ KB\n"
     ]
    }
   ],
   "source": [
    "df_hoteles_pmi.info()"
   ]
  },
  {
   "cell_type": "code",
   "execution_count": 11,
   "metadata": {},
   "outputs": [
    {
     "data": {
      "text/plain": [
       "nombre_hotel               0\n",
       "reviews_hotel              0\n",
       "rating_hotel               0\n",
       "precio_medio_por noche    98\n",
       "ciudad                     0\n",
       "servicios                  0\n",
       "link                       0\n",
       "dtype: int64"
      ]
     },
     "execution_count": 11,
     "metadata": {},
     "output_type": "execute_result"
    }
   ],
   "source": [
    "df_hoteles_total.isna().sum()"
   ]
  },
  {
   "cell_type": "markdown",
   "metadata": {},
   "source": [
    "**Nulos en hoteles**\n",
    "\n",
    "*Hay datos nulos en el precio medio asi que habrá que gestionarlo en algun momento*  \n",
    "\n",
    "se pierde un 33,94% de tenerife si se eliminan los nulos     \n",
    "se pierde un 28,24% de pmi si se eliminan los nulos   \n",
    "respecto al total, se pierde un 30% respecto al total\n",
    "\n",
    "Me planteo rellenarlo con la media"
   ]
  },
  {
   "cell_type": "code",
   "execution_count": 12,
   "metadata": {},
   "outputs": [
    {
     "name": "stdout",
     "output_type": "stream",
     "text": [
      "<class 'pandas.core.frame.DataFrame'>\n",
      "RangeIndex: 109 entries, 0 to 108\n",
      "Data columns (total 7 columns):\n",
      " #   Column                  Non-Null Count  Dtype  \n",
      "---  ------                  --------------  -----  \n",
      " 0   nombre_hotel            109 non-null    object \n",
      " 1   reviews_hotel           109 non-null    int64  \n",
      " 2   rating_hotel            109 non-null    float64\n",
      " 3   precio_medio_por noche  72 non-null     float64\n",
      " 4   ciudad                  109 non-null    object \n",
      " 5   servicios               109 non-null    object \n",
      " 6   link                    109 non-null    object \n",
      "dtypes: float64(2), int64(1), object(4)\n",
      "memory usage: 6.1+ KB\n"
     ]
    }
   ],
   "source": [
    "df_hoteles_tene.info()"
   ]
  },
  {
   "cell_type": "code",
   "execution_count": 13,
   "metadata": {},
   "outputs": [
    {
     "data": {
      "text/html": [
       "<div>\n",
       "<style scoped>\n",
       "    .dataframe tbody tr th:only-of-type {\n",
       "        vertical-align: middle;\n",
       "    }\n",
       "\n",
       "    .dataframe tbody tr th {\n",
       "        vertical-align: top;\n",
       "    }\n",
       "\n",
       "    .dataframe thead th {\n",
       "        text-align: right;\n",
       "    }\n",
       "</style>\n",
       "<table border=\"1\" class=\"dataframe\">\n",
       "  <thead>\n",
       "    <tr style=\"text-align: right;\">\n",
       "      <th></th>\n",
       "      <th>count</th>\n",
       "      <th>mean</th>\n",
       "      <th>std</th>\n",
       "      <th>min</th>\n",
       "      <th>25%</th>\n",
       "      <th>50%</th>\n",
       "      <th>75%</th>\n",
       "      <th>max</th>\n",
       "    </tr>\n",
       "  </thead>\n",
       "  <tbody>\n",
       "    <tr>\n",
       "      <th>reviews_hotel</th>\n",
       "      <td>109.0</td>\n",
       "      <td>108.733945</td>\n",
       "      <td>374.916673</td>\n",
       "      <td>0.0</td>\n",
       "      <td>0.000</td>\n",
       "      <td>3.0</td>\n",
       "      <td>32.000</td>\n",
       "      <td>2829.0</td>\n",
       "    </tr>\n",
       "    <tr>\n",
       "      <th>rating_hotel</th>\n",
       "      <td>109.0</td>\n",
       "      <td>2.518349</td>\n",
       "      <td>1.995280</td>\n",
       "      <td>0.0</td>\n",
       "      <td>0.000</td>\n",
       "      <td>3.5</td>\n",
       "      <td>4.000</td>\n",
       "      <td>5.0</td>\n",
       "    </tr>\n",
       "    <tr>\n",
       "      <th>precio_medio_por noche</th>\n",
       "      <td>72.0</td>\n",
       "      <td>92.027778</td>\n",
       "      <td>36.722397</td>\n",
       "      <td>26.0</td>\n",
       "      <td>63.125</td>\n",
       "      <td>88.5</td>\n",
       "      <td>121.125</td>\n",
       "      <td>178.5</td>\n",
       "    </tr>\n",
       "  </tbody>\n",
       "</table>\n",
       "</div>"
      ],
      "text/plain": [
       "                        count        mean         std   min     25%   50%  \\\n",
       "reviews_hotel           109.0  108.733945  374.916673   0.0   0.000   3.0   \n",
       "rating_hotel            109.0    2.518349    1.995280   0.0   0.000   3.5   \n",
       "precio_medio_por noche   72.0   92.027778   36.722397  26.0  63.125  88.5   \n",
       "\n",
       "                            75%     max  \n",
       "reviews_hotel            32.000  2829.0  \n",
       "rating_hotel              4.000     5.0  \n",
       "precio_medio_por noche  121.125   178.5  "
      ]
     },
     "execution_count": 13,
     "metadata": {},
     "output_type": "execute_result"
    }
   ],
   "source": [
    "df_hoteles_tene.describe().T"
   ]
  },
  {
   "cell_type": "code",
   "execution_count": 14,
   "metadata": {},
   "outputs": [
    {
     "data": {
      "text/html": [
       "<div>\n",
       "<style scoped>\n",
       "    .dataframe tbody tr th:only-of-type {\n",
       "        vertical-align: middle;\n",
       "    }\n",
       "\n",
       "    .dataframe tbody tr th {\n",
       "        vertical-align: top;\n",
       "    }\n",
       "\n",
       "    .dataframe thead th {\n",
       "        text-align: right;\n",
       "    }\n",
       "</style>\n",
       "<table border=\"1\" class=\"dataframe\">\n",
       "  <thead>\n",
       "    <tr style=\"text-align: right;\">\n",
       "      <th></th>\n",
       "      <th>count</th>\n",
       "      <th>unique</th>\n",
       "      <th>top</th>\n",
       "      <th>freq</th>\n",
       "    </tr>\n",
       "  </thead>\n",
       "  <tbody>\n",
       "    <tr>\n",
       "      <th>nombre_hotel</th>\n",
       "      <td>109</td>\n",
       "      <td>102</td>\n",
       "      <td>Montes de Anaga Hostel</td>\n",
       "      <td>2</td>\n",
       "    </tr>\n",
       "    <tr>\n",
       "      <th>ciudad</th>\n",
       "      <td>109</td>\n",
       "      <td>1</td>\n",
       "      <td>Santa Cruz de Tenerife</td>\n",
       "      <td>109</td>\n",
       "    </tr>\n",
       "    <tr>\n",
       "      <th>servicios</th>\n",
       "      <td>109</td>\n",
       "      <td>26</td>\n",
       "      <td>[]</td>\n",
       "      <td>61</td>\n",
       "    </tr>\n",
       "    <tr>\n",
       "      <th>link</th>\n",
       "      <td>109</td>\n",
       "      <td>102</td>\n",
       "      <td>https://www.tripadvisor.com/Hotel_Review-g1874...</td>\n",
       "      <td>2</td>\n",
       "    </tr>\n",
       "  </tbody>\n",
       "</table>\n",
       "</div>"
      ],
      "text/plain": [
       "             count unique                                                top  \\\n",
       "nombre_hotel   109    102                             Montes de Anaga Hostel   \n",
       "ciudad         109      1                             Santa Cruz de Tenerife   \n",
       "servicios      109     26                                                 []   \n",
       "link           109    102  https://www.tripadvisor.com/Hotel_Review-g1874...   \n",
       "\n",
       "             freq  \n",
       "nombre_hotel    2  \n",
       "ciudad        109  \n",
       "servicios      61  \n",
       "link            2  "
      ]
     },
     "execution_count": 14,
     "metadata": {},
     "output_type": "execute_result"
    }
   ],
   "source": [
    "df_hoteles_tene.describe(include=\"O\").T"
   ]
  },
  {
   "cell_type": "markdown",
   "metadata": {},
   "source": [
    "**Duplicados en Hoteles**    \n",
    "\n",
    "Estos duplicados si que se van a dropear:  \n",
    " \n",
    "- Porque se descartó que fuera la misma franquicia en lugares distintos de la isla.\n"
   ]
  },
  {
   "cell_type": "code",
   "execution_count": 15,
   "metadata": {},
   "outputs": [
    {
     "data": {
      "text/plain": [
       "10"
      ]
     },
     "execution_count": 15,
     "metadata": {},
     "output_type": "execute_result"
    }
   ],
   "source": [
    "df_hoteles_pmi.duplicated().sum()"
   ]
  },
  {
   "cell_type": "code",
   "execution_count": 16,
   "metadata": {},
   "outputs": [
    {
     "data": {
      "text/plain": [
       "7"
      ]
     },
     "execution_count": 16,
     "metadata": {},
     "output_type": "execute_result"
    }
   ],
   "source": [
    "df_hoteles_tene.duplicated().sum()\n"
   ]
  },
  {
   "cell_type": "code",
   "execution_count": 17,
   "metadata": {},
   "outputs": [
    {
     "data": {
      "text/plain": [
       "17"
      ]
     },
     "execution_count": 17,
     "metadata": {},
     "output_type": "execute_result"
    }
   ],
   "source": [
    "df_hoteles_total.duplicated().sum()"
   ]
  },
  {
   "cell_type": "code",
   "execution_count": 18,
   "metadata": {},
   "outputs": [
    {
     "data": {
      "text/html": [
       "<div>\n",
       "<style scoped>\n",
       "    .dataframe tbody tr th:only-of-type {\n",
       "        vertical-align: middle;\n",
       "    }\n",
       "\n",
       "    .dataframe tbody tr th {\n",
       "        vertical-align: top;\n",
       "    }\n",
       "\n",
       "    .dataframe thead th {\n",
       "        text-align: right;\n",
       "    }\n",
       "</style>\n",
       "<table border=\"1\" class=\"dataframe\">\n",
       "  <thead>\n",
       "    <tr style=\"text-align: right;\">\n",
       "      <th></th>\n",
       "      <th>nombre_hotel</th>\n",
       "      <th>reviews_hotel</th>\n",
       "      <th>rating_hotel</th>\n",
       "      <th>precio_medio_por noche</th>\n",
       "      <th>ciudad</th>\n",
       "      <th>servicios</th>\n",
       "      <th>link</th>\n",
       "    </tr>\n",
       "  </thead>\n",
       "  <tbody>\n",
       "    <tr>\n",
       "      <th>95</th>\n",
       "      <td>Borne Suites</td>\n",
       "      <td>11</td>\n",
       "      <td>4.5</td>\n",
       "      <td>301.5</td>\n",
       "      <td>Palma de Mallorca</td>\n",
       "      <td>['Free Wifi']</td>\n",
       "      <td>https://www.tripadvisor.com/Hotel_Review-g1874...</td>\n",
       "    </tr>\n",
       "    <tr>\n",
       "      <th>125</th>\n",
       "      <td>Borne Suites</td>\n",
       "      <td>11</td>\n",
       "      <td>4.5</td>\n",
       "      <td>301.5</td>\n",
       "      <td>Palma de Mallorca</td>\n",
       "      <td>['Free Wifi']</td>\n",
       "      <td>https://www.tripadvisor.com/Hotel_Review-g1874...</td>\n",
       "    </tr>\n",
       "  </tbody>\n",
       "</table>\n",
       "</div>"
      ],
      "text/plain": [
       "     nombre_hotel  reviews_hotel  rating_hotel  precio_medio_por noche  \\\n",
       "95   Borne Suites             11           4.5                   301.5   \n",
       "125  Borne Suites             11           4.5                   301.5   \n",
       "\n",
       "                ciudad      servicios  \\\n",
       "95   Palma de Mallorca  ['Free Wifi']   \n",
       "125  Palma de Mallorca  ['Free Wifi']   \n",
       "\n",
       "                                                  link  \n",
       "95   https://www.tripadvisor.com/Hotel_Review-g1874...  \n",
       "125  https://www.tripadvisor.com/Hotel_Review-g1874...  "
      ]
     },
     "execution_count": 18,
     "metadata": {},
     "output_type": "execute_result"
    }
   ],
   "source": [
    "ver_duplicado=df_hoteles_total[df_hoteles_total[\"nombre_hotel\"]== \"Borne Suites\"]\n",
    "ver_duplicado"
   ]
  },
  {
   "cell_type": "code",
   "execution_count": 19,
   "metadata": {},
   "outputs": [
    {
     "name": "stdout",
     "output_type": "stream",
     "text": [
      "                    nombre_hotel  reviews_hotel  rating_hotel  \\\n",
      "125                 Borne Suites             11           4.5   \n",
      "126         The Hype Beach House             17           4.5   \n",
      "127            Palma Port Hostel             38           4.0   \n",
      "129          Remolars3 Townhouse              8           4.5   \n",
      "135                 The Boc City             12           4.0   \n",
      "137  Agroturismo Finca Son Amora              2           5.0   \n",
      "140     El Josemari Youth Hostel             14           3.5   \n",
      "149      Metropolitan Juka Playa              1           5.0   \n",
      "172           Urban Hostel Palma             88           3.0   \n",
      "183               New Art Hostel             65           2.5   \n",
      "246     Hotel Boutique San Diego             33           5.0   \n",
      "252         Hotel Adonis Capital            201           3.5   \n",
      "259        Hotel F24 Emblematico             10           5.0   \n",
      "260       Montes de Anaga Hostel             42           4.0   \n",
      "262  Hotel Emblemático Hi Suites             14           4.5   \n",
      "263     Apartamentos Los Rosales             99           3.5   \n",
      "264   Tenerife Experience Hostel             22           4.0   \n",
      "\n",
      "     precio_medio_por noche                  ciudad  \\\n",
      "125                   301.5       Palma de Mallorca   \n",
      "126                   382.5       Palma de Mallorca   \n",
      "127                    30.0       Palma de Mallorca   \n",
      "129                   263.0       Palma de Mallorca   \n",
      "135                   107.0       Palma de Mallorca   \n",
      "137                   175.5       Palma de Mallorca   \n",
      "140                    36.5       Palma de Mallorca   \n",
      "149                   116.5       Palma de Mallorca   \n",
      "172                    47.0       Palma de Mallorca   \n",
      "183                    76.0       Palma de Mallorca   \n",
      "246                   167.5  Santa Cruz de Tenerife   \n",
      "252                    68.5  Santa Cruz de Tenerife   \n",
      "259                   152.0  Santa Cruz de Tenerife   \n",
      "260                    33.5  Santa Cruz de Tenerife   \n",
      "262                   142.5  Santa Cruz de Tenerife   \n",
      "263                    88.5  Santa Cruz de Tenerife   \n",
      "264                    41.5  Santa Cruz de Tenerife   \n",
      "\n",
      "                                             servicios  \\\n",
      "125                                      ['Free Wifi']   \n",
      "126  ['Free Wifi', 'Pool', 'Beachfront', 'Outdoor p...   \n",
      "127                                      ['Free Wifi']   \n",
      "129  ['Free Wifi', 'Beachfront', 'Airport transport...   \n",
      "135                                                 []   \n",
      "137                                                 []   \n",
      "140                                     ['Bar/Lounge']   \n",
      "149  ['Pool', 'Restaurant', 'Bar/Lounge', 'Fitness ...   \n",
      "172                ['Free Wifi', 'Breakfast included']   \n",
      "183                        ['Free Wifi', 'Restaurant']   \n",
      "246  ['Free Wifi', 'Free parking', 'Breakfast inclu...   \n",
      "252                                      ['Free Wifi']   \n",
      "259                                                 []   \n",
      "260                     ['Free parking', 'Beachfront']   \n",
      "262                                      ['Free Wifi']   \n",
      "263              ['Free Wifi', 'Free parking', 'Pool']   \n",
      "264                ['Free Wifi', 'Breakfast included']   \n",
      "\n",
      "                                                  link  \n",
      "125  https://www.tripadvisor.com/Hotel_Review-g1874...  \n",
      "126  https://www.tripadvisor.com/Hotel_Review-g1874...  \n",
      "127  https://www.tripadvisor.com/Hotel_Review-g1874...  \n",
      "129  https://www.tripadvisor.com/Hotel_Review-g1874...  \n",
      "135  https://www.tripadvisor.com/Hotel_Review-g1874...  \n",
      "137  https://www.tripadvisor.com/Hotel_Review-g1874...  \n",
      "140  https://www.tripadvisor.com/Hotel_Review-g1874...  \n",
      "149  https://www.tripadvisor.com/Hotel_Review-g1874...  \n",
      "172  https://www.tripadvisor.com/Hotel_Review-g1874...  \n",
      "183  https://www.tripadvisor.com/Hotel_Review-g1874...  \n",
      "246  https://www.tripadvisor.com/Hotel_Review-g1874...  \n",
      "252  https://www.tripadvisor.com/Hotel_Review-g1874...  \n",
      "259  https://www.tripadvisor.com/Hotel_Review-g1874...  \n",
      "260  https://www.tripadvisor.com/Hotel_Review-g1874...  \n",
      "262  https://www.tripadvisor.com/Hotel_Review-g1874...  \n",
      "263  https://www.tripadvisor.com/Hotel_Review-g1874...  \n",
      "264  https://www.tripadvisor.com/Hotel_Review-g1874...  \n"
     ]
    }
   ],
   "source": [
    "duplicados = df_hoteles_total[df_hoteles_total.duplicated()]\n",
    "print(duplicados)"
   ]
  },
  {
   "cell_type": "code",
   "execution_count": 20,
   "metadata": {},
   "outputs": [],
   "source": [
    "df_hoteles_pmi.drop_duplicates(inplace=True)\n",
    "df_hoteles_tene.drop_duplicates(inplace=True)\n",
    "df_hoteles_total.drop_duplicates(inplace=True)"
   ]
  },
  {
   "cell_type": "code",
   "execution_count": 21,
   "metadata": {},
   "outputs": [
    {
     "data": {
      "text/plain": [
       "0"
      ]
     },
     "execution_count": 21,
     "metadata": {},
     "output_type": "execute_result"
    }
   ],
   "source": [
    "df_hoteles_pmi.duplicated().sum()"
   ]
  },
  {
   "cell_type": "code",
   "execution_count": 22,
   "metadata": {},
   "outputs": [
    {
     "data": {
      "text/html": [
       "<div>\n",
       "<style scoped>\n",
       "    .dataframe tbody tr th:only-of-type {\n",
       "        vertical-align: middle;\n",
       "    }\n",
       "\n",
       "    .dataframe tbody tr th {\n",
       "        vertical-align: top;\n",
       "    }\n",
       "\n",
       "    .dataframe thead th {\n",
       "        text-align: right;\n",
       "    }\n",
       "</style>\n",
       "<table border=\"1\" class=\"dataframe\">\n",
       "  <thead>\n",
       "    <tr style=\"text-align: right;\">\n",
       "      <th></th>\n",
       "      <th>nombre_hotel</th>\n",
       "      <th>reviews_hotel</th>\n",
       "      <th>rating_hotel</th>\n",
       "      <th>precio_medio_por noche</th>\n",
       "      <th>ciudad</th>\n",
       "      <th>servicios</th>\n",
       "      <th>link</th>\n",
       "    </tr>\n",
       "  </thead>\n",
       "  <tbody>\n",
       "    <tr>\n",
       "      <th>0</th>\n",
       "      <td>Hotel Costa Azul</td>\n",
       "      <td>2081</td>\n",
       "      <td>4.5</td>\n",
       "      <td>177.0</td>\n",
       "      <td>Palma de Mallorca</td>\n",
       "      <td>['Free Wifi', 'Pool', 'Indoor pool', 'Restaura...</td>\n",
       "      <td>https://www.tripadvisor.com/Hotel_Review-g1874...</td>\n",
       "    </tr>\n",
       "    <tr>\n",
       "      <th>1</th>\n",
       "      <td>Hotel Victoria Gran Meliá</td>\n",
       "      <td>2447</td>\n",
       "      <td>4.5</td>\n",
       "      <td>270.0</td>\n",
       "      <td>Palma de Mallorca</td>\n",
       "      <td>['Free Wifi', 'Pool', 'Heated pool', 'Indoor p...</td>\n",
       "      <td>https://www.tripadvisor.com/Hotel_Review-g1874...</td>\n",
       "    </tr>\n",
       "    <tr>\n",
       "      <th>2</th>\n",
       "      <td>Nakar Hotel</td>\n",
       "      <td>2327</td>\n",
       "      <td>5.0</td>\n",
       "      <td>349.5</td>\n",
       "      <td>Palma de Mallorca</td>\n",
       "      <td>['Free Wifi', 'Breakfast included', 'Pool', 'H...</td>\n",
       "      <td>https://www.tripadvisor.com/Hotel_Review-g1874...</td>\n",
       "    </tr>\n",
       "    <tr>\n",
       "      <th>3</th>\n",
       "      <td>INNSiDE Palma Bosque</td>\n",
       "      <td>1082</td>\n",
       "      <td>4.5</td>\n",
       "      <td>160.0</td>\n",
       "      <td>Palma de Mallorca</td>\n",
       "      <td>['Free Wifi', 'Indoor pool', 'Outdoor pool', '...</td>\n",
       "      <td>https://www.tripadvisor.com/Hotel_Review-g1874...</td>\n",
       "    </tr>\n",
       "    <tr>\n",
       "      <th>4</th>\n",
       "      <td>BQ Belvedere Hotel</td>\n",
       "      <td>3702</td>\n",
       "      <td>4.0</td>\n",
       "      <td>154.0</td>\n",
       "      <td>Palma de Mallorca</td>\n",
       "      <td>['Free parking', 'Pool', 'Outdoor pool', 'Rest...</td>\n",
       "      <td>https://www.tripadvisor.com/Hotel_Review-g1874...</td>\n",
       "    </tr>\n",
       "  </tbody>\n",
       "</table>\n",
       "</div>"
      ],
      "text/plain": [
       "                nombre_hotel  reviews_hotel  rating_hotel  \\\n",
       "0           Hotel Costa Azul           2081           4.5   \n",
       "1  Hotel Victoria Gran Meliá           2447           4.5   \n",
       "2                Nakar Hotel           2327           5.0   \n",
       "3       INNSiDE Palma Bosque           1082           4.5   \n",
       "4         BQ Belvedere Hotel           3702           4.0   \n",
       "\n",
       "   precio_medio_por noche             ciudad  \\\n",
       "0                   177.0  Palma de Mallorca   \n",
       "1                   270.0  Palma de Mallorca   \n",
       "2                   349.5  Palma de Mallorca   \n",
       "3                   160.0  Palma de Mallorca   \n",
       "4                   154.0  Palma de Mallorca   \n",
       "\n",
       "                                           servicios  \\\n",
       "0  ['Free Wifi', 'Pool', 'Indoor pool', 'Restaura...   \n",
       "1  ['Free Wifi', 'Pool', 'Heated pool', 'Indoor p...   \n",
       "2  ['Free Wifi', 'Breakfast included', 'Pool', 'H...   \n",
       "3  ['Free Wifi', 'Indoor pool', 'Outdoor pool', '...   \n",
       "4  ['Free parking', 'Pool', 'Outdoor pool', 'Rest...   \n",
       "\n",
       "                                                link  \n",
       "0  https://www.tripadvisor.com/Hotel_Review-g1874...  \n",
       "1  https://www.tripadvisor.com/Hotel_Review-g1874...  \n",
       "2  https://www.tripadvisor.com/Hotel_Review-g1874...  \n",
       "3  https://www.tripadvisor.com/Hotel_Review-g1874...  \n",
       "4  https://www.tripadvisor.com/Hotel_Review-g1874...  "
      ]
     },
     "execution_count": 22,
     "metadata": {},
     "output_type": "execute_result"
    }
   ],
   "source": [
    "df_hoteles_total.head()"
   ]
  },
  {
   "cell_type": "code",
   "execution_count": 23,
   "metadata": {},
   "outputs": [
    {
     "data": {
      "text/plain": [
       "(308, 7)"
      ]
     },
     "execution_count": 23,
     "metadata": {},
     "output_type": "execute_result"
    }
   ],
   "source": [
    "df_hoteles_total.shape"
   ]
  },
  {
   "cell_type": "code",
   "execution_count": 24,
   "metadata": {},
   "outputs": [
    {
     "name": "stdout",
     "output_type": "stream",
     "text": [
      "<class 'pandas.core.frame.DataFrame'>\n",
      "Index: 308 entries, 0 to 324\n",
      "Data columns (total 7 columns):\n",
      " #   Column                  Non-Null Count  Dtype  \n",
      "---  ------                  --------------  -----  \n",
      " 0   nombre_hotel            308 non-null    object \n",
      " 1   reviews_hotel           308 non-null    int64  \n",
      " 2   rating_hotel            308 non-null    float64\n",
      " 3   precio_medio_por noche  210 non-null    float64\n",
      " 4   ciudad                  308 non-null    object \n",
      " 5   servicios               308 non-null    object \n",
      " 6   link                    308 non-null    object \n",
      "dtypes: float64(2), int64(1), object(4)\n",
      "memory usage: 19.2+ KB\n"
     ]
    }
   ],
   "source": [
    "df_hoteles_total.info()"
   ]
  },
  {
   "cell_type": "markdown",
   "metadata": {},
   "source": [
    "Los describes no me sirven en el total porque lo que quiero es comparar. (Para visualizar haré group by)"
   ]
  },
  {
   "cell_type": "code",
   "execution_count": 25,
   "metadata": {},
   "outputs": [],
   "source": [
    "# df_hoteles_total.describe().T"
   ]
  },
  {
   "cell_type": "markdown",
   "metadata": {},
   "source": [
    "**Vuelos**"
   ]
  },
  {
   "cell_type": "code",
   "execution_count": 26,
   "metadata": {},
   "outputs": [],
   "source": [
    "vuelos_pmi=pd.read_csv(\"datos/vuelos_pmi.csv\")\n",
    "vuelos_tene=pd.read_csv(\"datos/vuelos_tene.csv\")"
   ]
  },
  {
   "cell_type": "code",
   "execution_count": 27,
   "metadata": {},
   "outputs": [
    {
     "data": {
      "text/html": [
       "<div>\n",
       "<style scoped>\n",
       "    .dataframe tbody tr th:only-of-type {\n",
       "        vertical-align: middle;\n",
       "    }\n",
       "\n",
       "    .dataframe tbody tr th {\n",
       "        vertical-align: top;\n",
       "    }\n",
       "\n",
       "    .dataframe thead th {\n",
       "        text-align: right;\n",
       "    }\n",
       "</style>\n",
       "<table border=\"1\" class=\"dataframe\">\n",
       "  <thead>\n",
       "    <tr style=\"text-align: right;\">\n",
       "      <th></th>\n",
       "      <th>id_vuelo</th>\n",
       "      <th>id_origen</th>\n",
       "      <th>ciudad_origen</th>\n",
       "      <th>id_destino</th>\n",
       "      <th>ciudad_destino</th>\n",
       "      <th>salida</th>\n",
       "      <th>llegada</th>\n",
       "      <th>duracion(min)</th>\n",
       "      <th>escalas</th>\n",
       "      <th>aerolinea</th>\n",
       "      <th>precio</th>\n",
       "    </tr>\n",
       "  </thead>\n",
       "  <tbody>\n",
       "    <tr>\n",
       "      <th>0</th>\n",
       "      <td>13870-2411030835--31915-0-15434-2411031005</td>\n",
       "      <td>MAD</td>\n",
       "      <td>Madrid</td>\n",
       "      <td>PMI</td>\n",
       "      <td>Palma</td>\n",
       "      <td>2024-11-03 08:35:00</td>\n",
       "      <td>2024-11-03 10:05:00</td>\n",
       "      <td>90</td>\n",
       "      <td>0</td>\n",
       "      <td>Ryanair</td>\n",
       "      <td>53.92</td>\n",
       "    </tr>\n",
       "    <tr>\n",
       "      <th>1</th>\n",
       "      <td>15434-2411062220--31915-0-13870-2411062350</td>\n",
       "      <td>PMI</td>\n",
       "      <td>Palma</td>\n",
       "      <td>MAD</td>\n",
       "      <td>Madrid</td>\n",
       "      <td>2024-11-06 22:20:00</td>\n",
       "      <td>2024-11-06 23:50:00</td>\n",
       "      <td>90</td>\n",
       "      <td>0</td>\n",
       "      <td>Ryanair</td>\n",
       "      <td>53.92</td>\n",
       "    </tr>\n",
       "    <tr>\n",
       "      <th>2</th>\n",
       "      <td>13870-2411030705--32221-0-15434-2411030830</td>\n",
       "      <td>MAD</td>\n",
       "      <td>Madrid</td>\n",
       "      <td>PMI</td>\n",
       "      <td>Palma</td>\n",
       "      <td>2024-11-03 07:05:00</td>\n",
       "      <td>2024-11-03 08:30:00</td>\n",
       "      <td>85</td>\n",
       "      <td>0</td>\n",
       "      <td>Iberia Express</td>\n",
       "      <td>46.60</td>\n",
       "    </tr>\n",
       "    <tr>\n",
       "      <th>3</th>\n",
       "      <td>15434-2411062220--31915-0-13870-2411062350</td>\n",
       "      <td>PMI</td>\n",
       "      <td>Palma</td>\n",
       "      <td>MAD</td>\n",
       "      <td>Madrid</td>\n",
       "      <td>2024-11-06 22:20:00</td>\n",
       "      <td>2024-11-06 23:50:00</td>\n",
       "      <td>90</td>\n",
       "      <td>0</td>\n",
       "      <td>Ryanair</td>\n",
       "      <td>46.60</td>\n",
       "    </tr>\n",
       "    <tr>\n",
       "      <th>4</th>\n",
       "      <td>13870-2411031115--31915-0-15434-2411031245</td>\n",
       "      <td>MAD</td>\n",
       "      <td>Madrid</td>\n",
       "      <td>PMI</td>\n",
       "      <td>Palma</td>\n",
       "      <td>2024-11-03 11:15:00</td>\n",
       "      <td>2024-11-03 12:45:00</td>\n",
       "      <td>90</td>\n",
       "      <td>0</td>\n",
       "      <td>Ryanair</td>\n",
       "      <td>101.24</td>\n",
       "    </tr>\n",
       "  </tbody>\n",
       "</table>\n",
       "</div>"
      ],
      "text/plain": [
       "                                     id_vuelo id_origen ciudad_origen  \\\n",
       "0  13870-2411030835--31915-0-15434-2411031005       MAD        Madrid   \n",
       "1  15434-2411062220--31915-0-13870-2411062350       PMI         Palma   \n",
       "2  13870-2411030705--32221-0-15434-2411030830       MAD        Madrid   \n",
       "3  15434-2411062220--31915-0-13870-2411062350       PMI         Palma   \n",
       "4  13870-2411031115--31915-0-15434-2411031245       MAD        Madrid   \n",
       "\n",
       "  id_destino ciudad_destino               salida              llegada  \\\n",
       "0        PMI          Palma  2024-11-03 08:35:00  2024-11-03 10:05:00   \n",
       "1        MAD         Madrid  2024-11-06 22:20:00  2024-11-06 23:50:00   \n",
       "2        PMI          Palma  2024-11-03 07:05:00  2024-11-03 08:30:00   \n",
       "3        MAD         Madrid  2024-11-06 22:20:00  2024-11-06 23:50:00   \n",
       "4        PMI          Palma  2024-11-03 11:15:00  2024-11-03 12:45:00   \n",
       "\n",
       "   duracion(min)  escalas       aerolinea  precio  \n",
       "0             90        0         Ryanair   53.92  \n",
       "1             90        0         Ryanair   53.92  \n",
       "2             85        0  Iberia Express   46.60  \n",
       "3             90        0         Ryanair   46.60  \n",
       "4             90        0         Ryanair  101.24  "
      ]
     },
     "execution_count": 27,
     "metadata": {},
     "output_type": "execute_result"
    }
   ],
   "source": [
    "vuelos_pmi.head()"
   ]
  },
  {
   "cell_type": "code",
   "execution_count": 28,
   "metadata": {},
   "outputs": [
    {
     "name": "stdout",
     "output_type": "stream",
     "text": [
      "<class 'pandas.core.frame.DataFrame'>\n",
      "RangeIndex: 20 entries, 0 to 19\n",
      "Data columns (total 11 columns):\n",
      " #   Column          Non-Null Count  Dtype  \n",
      "---  ------          --------------  -----  \n",
      " 0   id_vuelo        20 non-null     object \n",
      " 1   id_origen       20 non-null     object \n",
      " 2   ciudad_origen   20 non-null     object \n",
      " 3   id_destino      20 non-null     object \n",
      " 4   ciudad_destino  20 non-null     object \n",
      " 5   salida          20 non-null     object \n",
      " 6   llegada         20 non-null     object \n",
      " 7   duracion(min)   20 non-null     int64  \n",
      " 8   escalas         20 non-null     int64  \n",
      " 9   aerolinea       20 non-null     object \n",
      " 10  precio          20 non-null     float64\n",
      "dtypes: float64(1), int64(2), object(8)\n",
      "memory usage: 1.8+ KB\n"
     ]
    }
   ],
   "source": [
    "vuelos_pmi.info()"
   ]
  },
  {
   "cell_type": "code",
   "execution_count": 29,
   "metadata": {},
   "outputs": [
    {
     "data": {
      "text/html": [
       "<div>\n",
       "<style scoped>\n",
       "    .dataframe tbody tr th:only-of-type {\n",
       "        vertical-align: middle;\n",
       "    }\n",
       "\n",
       "    .dataframe tbody tr th {\n",
       "        vertical-align: top;\n",
       "    }\n",
       "\n",
       "    .dataframe thead th {\n",
       "        text-align: right;\n",
       "    }\n",
       "</style>\n",
       "<table border=\"1\" class=\"dataframe\">\n",
       "  <thead>\n",
       "    <tr style=\"text-align: right;\">\n",
       "      <th></th>\n",
       "      <th>count</th>\n",
       "      <th>mean</th>\n",
       "      <th>std</th>\n",
       "      <th>min</th>\n",
       "      <th>25%</th>\n",
       "      <th>50%</th>\n",
       "      <th>75%</th>\n",
       "      <th>max</th>\n",
       "    </tr>\n",
       "  </thead>\n",
       "  <tbody>\n",
       "    <tr>\n",
       "      <th>duracion(min)</th>\n",
       "      <td>20.0</td>\n",
       "      <td>86.750</td>\n",
       "      <td>2.446802</td>\n",
       "      <td>85.0</td>\n",
       "      <td>85.00</td>\n",
       "      <td>85.000</td>\n",
       "      <td>90.00</td>\n",
       "      <td>90.00</td>\n",
       "    </tr>\n",
       "    <tr>\n",
       "      <th>escalas</th>\n",
       "      <td>20.0</td>\n",
       "      <td>0.000</td>\n",
       "      <td>0.000000</td>\n",
       "      <td>0.0</td>\n",
       "      <td>0.00</td>\n",
       "      <td>0.000</td>\n",
       "      <td>0.00</td>\n",
       "      <td>0.00</td>\n",
       "    </tr>\n",
       "    <tr>\n",
       "      <th>precio</th>\n",
       "      <td>20.0</td>\n",
       "      <td>87.613</td>\n",
       "      <td>23.704194</td>\n",
       "      <td>46.6</td>\n",
       "      <td>68.08</td>\n",
       "      <td>102.555</td>\n",
       "      <td>103.87</td>\n",
       "      <td>112.09</td>\n",
       "    </tr>\n",
       "  </tbody>\n",
       "</table>\n",
       "</div>"
      ],
      "text/plain": [
       "               count    mean        std   min    25%      50%     75%     max\n",
       "duracion(min)   20.0  86.750   2.446802  85.0  85.00   85.000   90.00   90.00\n",
       "escalas         20.0   0.000   0.000000   0.0   0.00    0.000    0.00    0.00\n",
       "precio          20.0  87.613  23.704194  46.6  68.08  102.555  103.87  112.09"
      ]
     },
     "execution_count": 29,
     "metadata": {},
     "output_type": "execute_result"
    }
   ],
   "source": [
    "vuelos_pmi.describe().T"
   ]
  },
  {
   "cell_type": "code",
   "execution_count": 30,
   "metadata": {},
   "outputs": [
    {
     "data": {
      "text/html": [
       "<div>\n",
       "<style scoped>\n",
       "    .dataframe tbody tr th:only-of-type {\n",
       "        vertical-align: middle;\n",
       "    }\n",
       "\n",
       "    .dataframe tbody tr th {\n",
       "        vertical-align: top;\n",
       "    }\n",
       "\n",
       "    .dataframe thead th {\n",
       "        text-align: right;\n",
       "    }\n",
       "</style>\n",
       "<table border=\"1\" class=\"dataframe\">\n",
       "  <thead>\n",
       "    <tr style=\"text-align: right;\">\n",
       "      <th></th>\n",
       "      <th>count</th>\n",
       "      <th>unique</th>\n",
       "      <th>top</th>\n",
       "      <th>freq</th>\n",
       "    </tr>\n",
       "  </thead>\n",
       "  <tbody>\n",
       "    <tr>\n",
       "      <th>id_vuelo</th>\n",
       "      <td>20</td>\n",
       "      <td>12</td>\n",
       "      <td>13870-2411030705--32221-0-15434-2411030830</td>\n",
       "      <td>5</td>\n",
       "    </tr>\n",
       "    <tr>\n",
       "      <th>id_origen</th>\n",
       "      <td>20</td>\n",
       "      <td>2</td>\n",
       "      <td>MAD</td>\n",
       "      <td>10</td>\n",
       "    </tr>\n",
       "    <tr>\n",
       "      <th>ciudad_origen</th>\n",
       "      <td>20</td>\n",
       "      <td>2</td>\n",
       "      <td>Madrid</td>\n",
       "      <td>10</td>\n",
       "    </tr>\n",
       "    <tr>\n",
       "      <th>id_destino</th>\n",
       "      <td>20</td>\n",
       "      <td>2</td>\n",
       "      <td>PMI</td>\n",
       "      <td>10</td>\n",
       "    </tr>\n",
       "    <tr>\n",
       "      <th>ciudad_destino</th>\n",
       "      <td>20</td>\n",
       "      <td>2</td>\n",
       "      <td>Palma</td>\n",
       "      <td>10</td>\n",
       "    </tr>\n",
       "    <tr>\n",
       "      <th>salida</th>\n",
       "      <td>20</td>\n",
       "      <td>9</td>\n",
       "      <td>2024-11-03 07:05:00</td>\n",
       "      <td>7</td>\n",
       "    </tr>\n",
       "    <tr>\n",
       "      <th>llegada</th>\n",
       "      <td>20</td>\n",
       "      <td>9</td>\n",
       "      <td>2024-11-03 08:30:00</td>\n",
       "      <td>7</td>\n",
       "    </tr>\n",
       "    <tr>\n",
       "      <th>aerolinea</th>\n",
       "      <td>20</td>\n",
       "      <td>4</td>\n",
       "      <td>Iberia Express</td>\n",
       "      <td>8</td>\n",
       "    </tr>\n",
       "  </tbody>\n",
       "</table>\n",
       "</div>"
      ],
      "text/plain": [
       "               count unique                                         top freq\n",
       "id_vuelo          20     12  13870-2411030705--32221-0-15434-2411030830    5\n",
       "id_origen         20      2                                         MAD   10\n",
       "ciudad_origen     20      2                                      Madrid   10\n",
       "id_destino        20      2                                         PMI   10\n",
       "ciudad_destino    20      2                                       Palma   10\n",
       "salida            20      9                         2024-11-03 07:05:00    7\n",
       "llegada           20      9                         2024-11-03 08:30:00    7\n",
       "aerolinea         20      4                              Iberia Express    8"
      ]
     },
     "execution_count": 30,
     "metadata": {},
     "output_type": "execute_result"
    }
   ],
   "source": [
    "vuelos_pmi.describe(include=\"O\").T"
   ]
  },
  {
   "cell_type": "code",
   "execution_count": 31,
   "metadata": {},
   "outputs": [
    {
     "data": {
      "text/html": [
       "<div>\n",
       "<style scoped>\n",
       "    .dataframe tbody tr th:only-of-type {\n",
       "        vertical-align: middle;\n",
       "    }\n",
       "\n",
       "    .dataframe tbody tr th {\n",
       "        vertical-align: top;\n",
       "    }\n",
       "\n",
       "    .dataframe thead th {\n",
       "        text-align: right;\n",
       "    }\n",
       "</style>\n",
       "<table border=\"1\" class=\"dataframe\">\n",
       "  <thead>\n",
       "    <tr style=\"text-align: right;\">\n",
       "      <th></th>\n",
       "      <th>id_vuelo</th>\n",
       "      <th>id_origen</th>\n",
       "      <th>ciudad_origen</th>\n",
       "      <th>id_destino</th>\n",
       "      <th>ciudad_destino</th>\n",
       "      <th>salida</th>\n",
       "      <th>llegada</th>\n",
       "      <th>duracion(min)</th>\n",
       "      <th>escalas</th>\n",
       "      <th>aerolinea</th>\n",
       "      <th>precio</th>\n",
       "    </tr>\n",
       "  </thead>\n",
       "  <tbody>\n",
       "    <tr>\n",
       "      <th>0</th>\n",
       "      <td>13870-2411030620--32221-0-16864-2411030815</td>\n",
       "      <td>MAD</td>\n",
       "      <td>Madrid</td>\n",
       "      <td>TFN</td>\n",
       "      <td>Tenerife</td>\n",
       "      <td>2024-11-03 06:20:00</td>\n",
       "      <td>2024-11-03 08:15:00</td>\n",
       "      <td>175</td>\n",
       "      <td>0</td>\n",
       "      <td>Iberia Express</td>\n",
       "      <td>152.20</td>\n",
       "    </tr>\n",
       "    <tr>\n",
       "      <th>1</th>\n",
       "      <td>16864-2411062125--32221-0-13870-2411070115</td>\n",
       "      <td>TFN</td>\n",
       "      <td>Tenerife</td>\n",
       "      <td>MAD</td>\n",
       "      <td>Madrid</td>\n",
       "      <td>2024-11-06 21:25:00</td>\n",
       "      <td>2024-11-07 01:15:00</td>\n",
       "      <td>170</td>\n",
       "      <td>0</td>\n",
       "      <td>Iberia Express</td>\n",
       "      <td>152.20</td>\n",
       "    </tr>\n",
       "    <tr>\n",
       "      <th>2</th>\n",
       "      <td>13870-2411030705--32680-0-16864-2411030855</td>\n",
       "      <td>MAD</td>\n",
       "      <td>Madrid</td>\n",
       "      <td>TFN</td>\n",
       "      <td>Tenerife</td>\n",
       "      <td>2024-11-03 07:05:00</td>\n",
       "      <td>2024-11-03 08:55:00</td>\n",
       "      <td>170</td>\n",
       "      <td>0</td>\n",
       "      <td>Air Europa</td>\n",
       "      <td>176.68</td>\n",
       "    </tr>\n",
       "    <tr>\n",
       "      <th>3</th>\n",
       "      <td>16864-2411061755--32680-0-13870-2411062140</td>\n",
       "      <td>TFN</td>\n",
       "      <td>Tenerife</td>\n",
       "      <td>MAD</td>\n",
       "      <td>Madrid</td>\n",
       "      <td>2024-11-06 17:55:00</td>\n",
       "      <td>2024-11-06 21:40:00</td>\n",
       "      <td>165</td>\n",
       "      <td>0</td>\n",
       "      <td>Air Europa</td>\n",
       "      <td>176.68</td>\n",
       "    </tr>\n",
       "    <tr>\n",
       "      <th>4</th>\n",
       "      <td>13870-2411030620--32221-0-16864-2411030815</td>\n",
       "      <td>MAD</td>\n",
       "      <td>Madrid</td>\n",
       "      <td>TFN</td>\n",
       "      <td>Tenerife</td>\n",
       "      <td>2024-11-03 06:20:00</td>\n",
       "      <td>2024-11-03 08:15:00</td>\n",
       "      <td>175</td>\n",
       "      <td>0</td>\n",
       "      <td>Iberia Express</td>\n",
       "      <td>176.93</td>\n",
       "    </tr>\n",
       "  </tbody>\n",
       "</table>\n",
       "</div>"
      ],
      "text/plain": [
       "                                     id_vuelo id_origen ciudad_origen  \\\n",
       "0  13870-2411030620--32221-0-16864-2411030815       MAD        Madrid   \n",
       "1  16864-2411062125--32221-0-13870-2411070115       TFN      Tenerife   \n",
       "2  13870-2411030705--32680-0-16864-2411030855       MAD        Madrid   \n",
       "3  16864-2411061755--32680-0-13870-2411062140       TFN      Tenerife   \n",
       "4  13870-2411030620--32221-0-16864-2411030815       MAD        Madrid   \n",
       "\n",
       "  id_destino ciudad_destino               salida              llegada  \\\n",
       "0        TFN       Tenerife  2024-11-03 06:20:00  2024-11-03 08:15:00   \n",
       "1        MAD         Madrid  2024-11-06 21:25:00  2024-11-07 01:15:00   \n",
       "2        TFN       Tenerife  2024-11-03 07:05:00  2024-11-03 08:55:00   \n",
       "3        MAD         Madrid  2024-11-06 17:55:00  2024-11-06 21:40:00   \n",
       "4        TFN       Tenerife  2024-11-03 06:20:00  2024-11-03 08:15:00   \n",
       "\n",
       "   duracion(min)  escalas       aerolinea  precio  \n",
       "0            175        0  Iberia Express  152.20  \n",
       "1            170        0  Iberia Express  152.20  \n",
       "2            170        0      Air Europa  176.68  \n",
       "3            165        0      Air Europa  176.68  \n",
       "4            175        0  Iberia Express  176.93  "
      ]
     },
     "execution_count": 31,
     "metadata": {},
     "output_type": "execute_result"
    }
   ],
   "source": [
    "vuelos_tene.head()"
   ]
  },
  {
   "cell_type": "code",
   "execution_count": 32,
   "metadata": {},
   "outputs": [
    {
     "name": "stdout",
     "output_type": "stream",
     "text": [
      "<class 'pandas.core.frame.DataFrame'>\n",
      "RangeIndex: 20 entries, 0 to 19\n",
      "Data columns (total 11 columns):\n",
      " #   Column          Non-Null Count  Dtype  \n",
      "---  ------          --------------  -----  \n",
      " 0   id_vuelo        20 non-null     object \n",
      " 1   id_origen       20 non-null     object \n",
      " 2   ciudad_origen   20 non-null     object \n",
      " 3   id_destino      20 non-null     object \n",
      " 4   ciudad_destino  20 non-null     object \n",
      " 5   salida          20 non-null     object \n",
      " 6   llegada         20 non-null     object \n",
      " 7   duracion(min)   20 non-null     int64  \n",
      " 8   escalas         20 non-null     int64  \n",
      " 9   aerolinea       20 non-null     object \n",
      " 10  precio          20 non-null     float64\n",
      "dtypes: float64(1), int64(2), object(8)\n",
      "memory usage: 1.8+ KB\n"
     ]
    }
   ],
   "source": [
    "vuelos_tene.info()"
   ]
  },
  {
   "cell_type": "code",
   "execution_count": 33,
   "metadata": {},
   "outputs": [
    {
     "data": {
      "text/html": [
       "<div>\n",
       "<style scoped>\n",
       "    .dataframe tbody tr th:only-of-type {\n",
       "        vertical-align: middle;\n",
       "    }\n",
       "\n",
       "    .dataframe tbody tr th {\n",
       "        vertical-align: top;\n",
       "    }\n",
       "\n",
       "    .dataframe thead th {\n",
       "        text-align: right;\n",
       "    }\n",
       "</style>\n",
       "<table border=\"1\" class=\"dataframe\">\n",
       "  <thead>\n",
       "    <tr style=\"text-align: right;\">\n",
       "      <th></th>\n",
       "      <th>count</th>\n",
       "      <th>mean</th>\n",
       "      <th>std</th>\n",
       "      <th>min</th>\n",
       "      <th>25%</th>\n",
       "      <th>50%</th>\n",
       "      <th>75%</th>\n",
       "      <th>max</th>\n",
       "    </tr>\n",
       "  </thead>\n",
       "  <tbody>\n",
       "    <tr>\n",
       "      <th>duracion(min)</th>\n",
       "      <td>20.0</td>\n",
       "      <td>170.250</td>\n",
       "      <td>4.722566</td>\n",
       "      <td>165.0</td>\n",
       "      <td>165.00</td>\n",
       "      <td>170.000</td>\n",
       "      <td>175.00</td>\n",
       "      <td>175.00</td>\n",
       "    </tr>\n",
       "    <tr>\n",
       "      <th>escalas</th>\n",
       "      <td>20.0</td>\n",
       "      <td>0.000</td>\n",
       "      <td>0.000000</td>\n",
       "      <td>0.0</td>\n",
       "      <td>0.00</td>\n",
       "      <td>0.000</td>\n",
       "      <td>0.00</td>\n",
       "      <td>0.00</td>\n",
       "    </tr>\n",
       "    <tr>\n",
       "      <th>precio</th>\n",
       "      <td>20.0</td>\n",
       "      <td>177.446</td>\n",
       "      <td>11.718194</td>\n",
       "      <td>152.2</td>\n",
       "      <td>172.58</td>\n",
       "      <td>178.015</td>\n",
       "      <td>188.13</td>\n",
       "      <td>188.43</td>\n",
       "    </tr>\n",
       "  </tbody>\n",
       "</table>\n",
       "</div>"
      ],
      "text/plain": [
       "               count     mean        std    min     25%      50%     75%  \\\n",
       "duracion(min)   20.0  170.250   4.722566  165.0  165.00  170.000  175.00   \n",
       "escalas         20.0    0.000   0.000000    0.0    0.00    0.000    0.00   \n",
       "precio          20.0  177.446  11.718194  152.2  172.58  178.015  188.13   \n",
       "\n",
       "                  max  \n",
       "duracion(min)  175.00  \n",
       "escalas          0.00  \n",
       "precio         188.43  "
      ]
     },
     "execution_count": 33,
     "metadata": {},
     "output_type": "execute_result"
    }
   ],
   "source": [
    "vuelos_tene.describe().T"
   ]
  },
  {
   "cell_type": "code",
   "execution_count": 34,
   "metadata": {},
   "outputs": [
    {
     "data": {
      "text/html": [
       "<div>\n",
       "<style scoped>\n",
       "    .dataframe tbody tr th:only-of-type {\n",
       "        vertical-align: middle;\n",
       "    }\n",
       "\n",
       "    .dataframe tbody tr th {\n",
       "        vertical-align: top;\n",
       "    }\n",
       "\n",
       "    .dataframe thead th {\n",
       "        text-align: right;\n",
       "    }\n",
       "</style>\n",
       "<table border=\"1\" class=\"dataframe\">\n",
       "  <thead>\n",
       "    <tr style=\"text-align: right;\">\n",
       "      <th></th>\n",
       "      <th>count</th>\n",
       "      <th>unique</th>\n",
       "      <th>top</th>\n",
       "      <th>freq</th>\n",
       "    </tr>\n",
       "  </thead>\n",
       "  <tbody>\n",
       "    <tr>\n",
       "      <th>id_vuelo</th>\n",
       "      <td>20</td>\n",
       "      <td>13</td>\n",
       "      <td>13870-2411030620--32221-0-16864-2411030815</td>\n",
       "      <td>5</td>\n",
       "    </tr>\n",
       "    <tr>\n",
       "      <th>id_origen</th>\n",
       "      <td>20</td>\n",
       "      <td>2</td>\n",
       "      <td>MAD</td>\n",
       "      <td>10</td>\n",
       "    </tr>\n",
       "    <tr>\n",
       "      <th>ciudad_origen</th>\n",
       "      <td>20</td>\n",
       "      <td>2</td>\n",
       "      <td>Madrid</td>\n",
       "      <td>10</td>\n",
       "    </tr>\n",
       "    <tr>\n",
       "      <th>id_destino</th>\n",
       "      <td>20</td>\n",
       "      <td>2</td>\n",
       "      <td>TFN</td>\n",
       "      <td>10</td>\n",
       "    </tr>\n",
       "    <tr>\n",
       "      <th>ciudad_destino</th>\n",
       "      <td>20</td>\n",
       "      <td>2</td>\n",
       "      <td>Tenerife</td>\n",
       "      <td>10</td>\n",
       "    </tr>\n",
       "    <tr>\n",
       "      <th>salida</th>\n",
       "      <td>20</td>\n",
       "      <td>8</td>\n",
       "      <td>2024-11-03 06:20:00</td>\n",
       "      <td>9</td>\n",
       "    </tr>\n",
       "    <tr>\n",
       "      <th>llegada</th>\n",
       "      <td>20</td>\n",
       "      <td>8</td>\n",
       "      <td>2024-11-03 08:15:00</td>\n",
       "      <td>9</td>\n",
       "    </tr>\n",
       "    <tr>\n",
       "      <th>aerolinea</th>\n",
       "      <td>20</td>\n",
       "      <td>3</td>\n",
       "      <td>Iberia Express</td>\n",
       "      <td>10</td>\n",
       "    </tr>\n",
       "  </tbody>\n",
       "</table>\n",
       "</div>"
      ],
      "text/plain": [
       "               count unique                                         top freq\n",
       "id_vuelo          20     13  13870-2411030620--32221-0-16864-2411030815    5\n",
       "id_origen         20      2                                         MAD   10\n",
       "ciudad_origen     20      2                                      Madrid   10\n",
       "id_destino        20      2                                         TFN   10\n",
       "ciudad_destino    20      2                                    Tenerife   10\n",
       "salida            20      8                         2024-11-03 06:20:00    9\n",
       "llegada           20      8                         2024-11-03 08:15:00    9\n",
       "aerolinea         20      3                              Iberia Express   10"
      ]
     },
     "execution_count": 34,
     "metadata": {},
     "output_type": "execute_result"
    }
   ],
   "source": [
    "vuelos_tene.describe(include=\"O\").T"
   ]
  },
  {
   "cell_type": "code",
   "execution_count": 35,
   "metadata": {},
   "outputs": [
    {
     "data": {
      "text/plain": [
       "(20, 11)"
      ]
     },
     "execution_count": 35,
     "metadata": {},
     "output_type": "execute_result"
    }
   ],
   "source": [
    "vuelos_tene.shape"
   ]
  },
  {
   "cell_type": "code",
   "execution_count": 36,
   "metadata": {},
   "outputs": [
    {
     "data": {
      "text/plain": [
       "(20, 11)"
      ]
     },
     "execution_count": 36,
     "metadata": {},
     "output_type": "execute_result"
    }
   ],
   "source": [
    "vuelos_pmi.shape"
   ]
  },
  {
   "cell_type": "markdown",
   "metadata": {},
   "source": [
    "**Duplicados**  \n",
    "  \n",
    "No me preocupan los duplicados porque al estar ofreciendo paquetes de ida y vuelta, puede haber casos en los que el paquete tenga el mismo vuelo de ida pero distintos vuelos de vuelta. \n",
    "\n",
    "Por eso decido dejarlos para que cuenten también como opcion."
   ]
  },
  {
   "cell_type": "code",
   "execution_count": 37,
   "metadata": {},
   "outputs": [
    {
     "data": {
      "text/plain": [
       "2"
      ]
     },
     "execution_count": 37,
     "metadata": {},
     "output_type": "execute_result"
    }
   ],
   "source": [
    "vuelos_pmi.duplicated().sum()"
   ]
  },
  {
   "cell_type": "code",
   "execution_count": 38,
   "metadata": {},
   "outputs": [
    {
     "data": {
      "text/plain": [
       "2"
      ]
     },
     "execution_count": 38,
     "metadata": {},
     "output_type": "execute_result"
    }
   ],
   "source": [
    "vuelos_tene.duplicated().sum()"
   ]
  },
  {
   "cell_type": "code",
   "execution_count": 39,
   "metadata": {},
   "outputs": [
    {
     "data": {
      "text/html": [
       "<div>\n",
       "<style scoped>\n",
       "    .dataframe tbody tr th:only-of-type {\n",
       "        vertical-align: middle;\n",
       "    }\n",
       "\n",
       "    .dataframe tbody tr th {\n",
       "        vertical-align: top;\n",
       "    }\n",
       "\n",
       "    .dataframe thead th {\n",
       "        text-align: right;\n",
       "    }\n",
       "</style>\n",
       "<table border=\"1\" class=\"dataframe\">\n",
       "  <thead>\n",
       "    <tr style=\"text-align: right;\">\n",
       "      <th></th>\n",
       "      <th>id_vuelo</th>\n",
       "      <th>id_origen</th>\n",
       "      <th>ciudad_origen</th>\n",
       "      <th>id_destino</th>\n",
       "      <th>ciudad_destino</th>\n",
       "      <th>salida</th>\n",
       "      <th>llegada</th>\n",
       "      <th>duracion(min)</th>\n",
       "      <th>escalas</th>\n",
       "      <th>aerolinea</th>\n",
       "      <th>precio</th>\n",
       "    </tr>\n",
       "  </thead>\n",
       "  <tbody>\n",
       "    <tr>\n",
       "      <th>2</th>\n",
       "      <td>13870-2411030705--32221-0-15434-2411030830</td>\n",
       "      <td>MAD</td>\n",
       "      <td>Madrid</td>\n",
       "      <td>PMI</td>\n",
       "      <td>Palma</td>\n",
       "      <td>2024-11-03 07:05:00</td>\n",
       "      <td>2024-11-03 08:30:00</td>\n",
       "      <td>85</td>\n",
       "      <td>0</td>\n",
       "      <td>Iberia Express</td>\n",
       "      <td>46.60</td>\n",
       "    </tr>\n",
       "    <tr>\n",
       "      <th>8</th>\n",
       "      <td>13870-2411030705--32221-0-15434-2411030830</td>\n",
       "      <td>MAD</td>\n",
       "      <td>Madrid</td>\n",
       "      <td>PMI</td>\n",
       "      <td>Palma</td>\n",
       "      <td>2024-11-03 07:05:00</td>\n",
       "      <td>2024-11-03 08:30:00</td>\n",
       "      <td>85</td>\n",
       "      <td>0</td>\n",
       "      <td>Iberia Express</td>\n",
       "      <td>103.87</td>\n",
       "    </tr>\n",
       "    <tr>\n",
       "      <th>10</th>\n",
       "      <td>13870-2411030705--32221-0-15434-2411030830</td>\n",
       "      <td>MAD</td>\n",
       "      <td>Madrid</td>\n",
       "      <td>PMI</td>\n",
       "      <td>Palma</td>\n",
       "      <td>2024-11-03 07:05:00</td>\n",
       "      <td>2024-11-03 08:30:00</td>\n",
       "      <td>85</td>\n",
       "      <td>0</td>\n",
       "      <td>Iberia Express</td>\n",
       "      <td>103.87</td>\n",
       "    </tr>\n",
       "    <tr>\n",
       "      <th>14</th>\n",
       "      <td>13870-2411030705--32221-0-15434-2411030830</td>\n",
       "      <td>MAD</td>\n",
       "      <td>Madrid</td>\n",
       "      <td>PMI</td>\n",
       "      <td>Palma</td>\n",
       "      <td>2024-11-03 07:05:00</td>\n",
       "      <td>2024-11-03 08:30:00</td>\n",
       "      <td>85</td>\n",
       "      <td>0</td>\n",
       "      <td>Iberia Express</td>\n",
       "      <td>103.87</td>\n",
       "    </tr>\n",
       "    <tr>\n",
       "      <th>18</th>\n",
       "      <td>13870-2411030705--32221-0-15434-2411030830</td>\n",
       "      <td>MAD</td>\n",
       "      <td>Madrid</td>\n",
       "      <td>PMI</td>\n",
       "      <td>Palma</td>\n",
       "      <td>2024-11-03 07:05:00</td>\n",
       "      <td>2024-11-03 08:30:00</td>\n",
       "      <td>85</td>\n",
       "      <td>0</td>\n",
       "      <td>Iberia Express</td>\n",
       "      <td>68.08</td>\n",
       "    </tr>\n",
       "  </tbody>\n",
       "</table>\n",
       "</div>"
      ],
      "text/plain": [
       "                                      id_vuelo id_origen ciudad_origen  \\\n",
       "2   13870-2411030705--32221-0-15434-2411030830       MAD        Madrid   \n",
       "8   13870-2411030705--32221-0-15434-2411030830       MAD        Madrid   \n",
       "10  13870-2411030705--32221-0-15434-2411030830       MAD        Madrid   \n",
       "14  13870-2411030705--32221-0-15434-2411030830       MAD        Madrid   \n",
       "18  13870-2411030705--32221-0-15434-2411030830       MAD        Madrid   \n",
       "\n",
       "   id_destino ciudad_destino               salida              llegada  \\\n",
       "2         PMI          Palma  2024-11-03 07:05:00  2024-11-03 08:30:00   \n",
       "8         PMI          Palma  2024-11-03 07:05:00  2024-11-03 08:30:00   \n",
       "10        PMI          Palma  2024-11-03 07:05:00  2024-11-03 08:30:00   \n",
       "14        PMI          Palma  2024-11-03 07:05:00  2024-11-03 08:30:00   \n",
       "18        PMI          Palma  2024-11-03 07:05:00  2024-11-03 08:30:00   \n",
       "\n",
       "    duracion(min)  escalas       aerolinea  precio  \n",
       "2              85        0  Iberia Express   46.60  \n",
       "8              85        0  Iberia Express  103.87  \n",
       "10             85        0  Iberia Express  103.87  \n",
       "14             85        0  Iberia Express  103.87  \n",
       "18             85        0  Iberia Express   68.08  "
      ]
     },
     "execution_count": 39,
     "metadata": {},
     "output_type": "execute_result"
    }
   ],
   "source": [
    "ver_duplicado=vuelos_pmi[vuelos_pmi[\"id_vuelo\"]== \"13870-2411030705--32221-0-15434-2411030830\"]\n",
    "ver_duplicado"
   ]
  },
  {
   "cell_type": "code",
   "execution_count": 40,
   "metadata": {},
   "outputs": [
    {
     "data": {
      "text/html": [
       "<div>\n",
       "<style scoped>\n",
       "    .dataframe tbody tr th:only-of-type {\n",
       "        vertical-align: middle;\n",
       "    }\n",
       "\n",
       "    .dataframe tbody tr th {\n",
       "        vertical-align: top;\n",
       "    }\n",
       "\n",
       "    .dataframe thead th {\n",
       "        text-align: right;\n",
       "    }\n",
       "</style>\n",
       "<table border=\"1\" class=\"dataframe\">\n",
       "  <thead>\n",
       "    <tr style=\"text-align: right;\">\n",
       "      <th></th>\n",
       "      <th>id_vuelo</th>\n",
       "      <th>id_origen</th>\n",
       "      <th>ciudad_origen</th>\n",
       "      <th>id_destino</th>\n",
       "      <th>ciudad_destino</th>\n",
       "      <th>salida</th>\n",
       "      <th>llegada</th>\n",
       "      <th>duracion(min)</th>\n",
       "      <th>escalas</th>\n",
       "      <th>aerolinea</th>\n",
       "      <th>precio</th>\n",
       "    </tr>\n",
       "  </thead>\n",
       "  <tbody>\n",
       "    <tr>\n",
       "      <th>10</th>\n",
       "      <td>13870-2411030705--32221-0-15434-2411030830</td>\n",
       "      <td>MAD</td>\n",
       "      <td>Madrid</td>\n",
       "      <td>PMI</td>\n",
       "      <td>Palma</td>\n",
       "      <td>2024-11-03 07:05:00</td>\n",
       "      <td>2024-11-03 08:30:00</td>\n",
       "      <td>85</td>\n",
       "      <td>0</td>\n",
       "      <td>Iberia Express</td>\n",
       "      <td>103.87</td>\n",
       "    </tr>\n",
       "    <tr>\n",
       "      <th>14</th>\n",
       "      <td>13870-2411030705--32221-0-15434-2411030830</td>\n",
       "      <td>MAD</td>\n",
       "      <td>Madrid</td>\n",
       "      <td>PMI</td>\n",
       "      <td>Palma</td>\n",
       "      <td>2024-11-03 07:05:00</td>\n",
       "      <td>2024-11-03 08:30:00</td>\n",
       "      <td>85</td>\n",
       "      <td>0</td>\n",
       "      <td>Iberia Express</td>\n",
       "      <td>103.87</td>\n",
       "    </tr>\n",
       "  </tbody>\n",
       "</table>\n",
       "</div>"
      ],
      "text/plain": [
       "                                      id_vuelo id_origen ciudad_origen  \\\n",
       "10  13870-2411030705--32221-0-15434-2411030830       MAD        Madrid   \n",
       "14  13870-2411030705--32221-0-15434-2411030830       MAD        Madrid   \n",
       "\n",
       "   id_destino ciudad_destino               salida              llegada  \\\n",
       "10        PMI          Palma  2024-11-03 07:05:00  2024-11-03 08:30:00   \n",
       "14        PMI          Palma  2024-11-03 07:05:00  2024-11-03 08:30:00   \n",
       "\n",
       "    duracion(min)  escalas       aerolinea  precio  \n",
       "10             85        0  Iberia Express  103.87  \n",
       "14             85        0  Iberia Express  103.87  "
      ]
     },
     "execution_count": 40,
     "metadata": {},
     "output_type": "execute_result"
    }
   ],
   "source": [
    "vuelos_pmi[vuelos_pmi.duplicated()]"
   ]
  },
  {
   "cell_type": "markdown",
   "metadata": {},
   "source": [
    "Actividades"
   ]
  },
  {
   "cell_type": "code",
   "execution_count": 41,
   "metadata": {},
   "outputs": [],
   "source": [
    "actividades_pmi=pd.read_csv(\"datos/actividades_pmi.csv\")\n",
    "actividades_tene=pd.read_csv(\"datos/actividades_tene.csv\")"
   ]
  },
  {
   "cell_type": "code",
   "execution_count": 42,
   "metadata": {},
   "outputs": [
    {
     "name": "stdout",
     "output_type": "stream",
     "text": [
      "<class 'pandas.core.frame.DataFrame'>\n",
      "RangeIndex: 32 entries, 0 to 31\n",
      "Data columns (total 4 columns):\n",
      " #   Column       Non-Null Count  Dtype  \n",
      "---  ------       --------------  -----  \n",
      " 0   actividades  32 non-null     object \n",
      " 1   categorias   32 non-null     object \n",
      " 2   descripcion  32 non-null     object \n",
      " 3   precio       32 non-null     float64\n",
      "dtypes: float64(1), object(3)\n",
      "memory usage: 1.1+ KB\n"
     ]
    }
   ],
   "source": [
    "actividades_pmi.info()"
   ]
  },
  {
   "cell_type": "code",
   "execution_count": 43,
   "metadata": {},
   "outputs": [
    {
     "name": "stdout",
     "output_type": "stream",
     "text": [
      "<class 'pandas.core.frame.DataFrame'>\n",
      "RangeIndex: 58 entries, 0 to 57\n",
      "Data columns (total 4 columns):\n",
      " #   Column       Non-Null Count  Dtype  \n",
      "---  ------       --------------  -----  \n",
      " 0   actividades  58 non-null     object \n",
      " 1   categorias   58 non-null     object \n",
      " 2   descripcion  58 non-null     object \n",
      " 3   precio       58 non-null     float64\n",
      "dtypes: float64(1), object(3)\n",
      "memory usage: 1.9+ KB\n"
     ]
    }
   ],
   "source": [
    "actividades_tene.info()"
   ]
  },
  {
   "cell_type": "code",
   "execution_count": 44,
   "metadata": {},
   "outputs": [
    {
     "data": {
      "text/html": [
       "<div>\n",
       "<style scoped>\n",
       "    .dataframe tbody tr th:only-of-type {\n",
       "        vertical-align: middle;\n",
       "    }\n",
       "\n",
       "    .dataframe tbody tr th {\n",
       "        vertical-align: top;\n",
       "    }\n",
       "\n",
       "    .dataframe thead th {\n",
       "        text-align: right;\n",
       "    }\n",
       "</style>\n",
       "<table border=\"1\" class=\"dataframe\">\n",
       "  <thead>\n",
       "    <tr style=\"text-align: right;\">\n",
       "      <th></th>\n",
       "      <th>count</th>\n",
       "      <th>mean</th>\n",
       "      <th>std</th>\n",
       "      <th>min</th>\n",
       "      <th>25%</th>\n",
       "      <th>50%</th>\n",
       "      <th>75%</th>\n",
       "      <th>max</th>\n",
       "    </tr>\n",
       "  </thead>\n",
       "  <tbody>\n",
       "    <tr>\n",
       "      <th>precio</th>\n",
       "      <td>58.0</td>\n",
       "      <td>65.094828</td>\n",
       "      <td>45.325983</td>\n",
       "      <td>8.05</td>\n",
       "      <td>32.1</td>\n",
       "      <td>52.9</td>\n",
       "      <td>84.25</td>\n",
       "      <td>238.95</td>\n",
       "    </tr>\n",
       "  </tbody>\n",
       "</table>\n",
       "</div>"
      ],
      "text/plain": [
       "        count       mean        std   min   25%   50%    75%     max\n",
       "precio   58.0  65.094828  45.325983  8.05  32.1  52.9  84.25  238.95"
      ]
     },
     "execution_count": 44,
     "metadata": {},
     "output_type": "execute_result"
    }
   ],
   "source": [
    "actividades_tene.describe().T"
   ]
  },
  {
   "cell_type": "code",
   "execution_count": 45,
   "metadata": {},
   "outputs": [
    {
     "data": {
      "text/html": [
       "<div>\n",
       "<style scoped>\n",
       "    .dataframe tbody tr th:only-of-type {\n",
       "        vertical-align: middle;\n",
       "    }\n",
       "\n",
       "    .dataframe tbody tr th {\n",
       "        vertical-align: top;\n",
       "    }\n",
       "\n",
       "    .dataframe thead th {\n",
       "        text-align: right;\n",
       "    }\n",
       "</style>\n",
       "<table border=\"1\" class=\"dataframe\">\n",
       "  <thead>\n",
       "    <tr style=\"text-align: right;\">\n",
       "      <th></th>\n",
       "      <th>count</th>\n",
       "      <th>unique</th>\n",
       "      <th>top</th>\n",
       "      <th>freq</th>\n",
       "    </tr>\n",
       "  </thead>\n",
       "  <tbody>\n",
       "    <tr>\n",
       "      <th>actividades</th>\n",
       "      <td>58</td>\n",
       "      <td>58</td>\n",
       "      <td>Ruta de misterios y leyendas por Santa Cruz de...</td>\n",
       "      <td>1</td>\n",
       "    </tr>\n",
       "    <tr>\n",
       "      <th>categorias</th>\n",
       "      <td>58</td>\n",
       "      <td>13</td>\n",
       "      <td>Excursiones de un día</td>\n",
       "      <td>19</td>\n",
       "    </tr>\n",
       "    <tr>\n",
       "      <th>descripcion</th>\n",
       "      <td>58</td>\n",
       "      <td>58</td>\n",
       "      <td>Disfruta de una fantástica noche de miedo, pai...</td>\n",
       "      <td>1</td>\n",
       "    </tr>\n",
       "  </tbody>\n",
       "</table>\n",
       "</div>"
      ],
      "text/plain": [
       "            count unique                                                top  \\\n",
       "actividades    58     58  Ruta de misterios y leyendas por Santa Cruz de...   \n",
       "categorias     58     13                              Excursiones de un día   \n",
       "descripcion    58     58  Disfruta de una fantástica noche de miedo, pai...   \n",
       "\n",
       "            freq  \n",
       "actividades    1  \n",
       "categorias    19  \n",
       "descripcion    1  "
      ]
     },
     "execution_count": 45,
     "metadata": {},
     "output_type": "execute_result"
    }
   ],
   "source": [
    "actividades_tene.describe(include= \"O\").T"
   ]
  },
  {
   "cell_type": "code",
   "execution_count": 46,
   "metadata": {},
   "outputs": [
    {
     "data": {
      "text/plain": [
       "0"
      ]
     },
     "execution_count": 46,
     "metadata": {},
     "output_type": "execute_result"
    }
   ],
   "source": [
    "actividades_pmi.duplicated().sum()"
   ]
  },
  {
   "cell_type": "code",
   "execution_count": 47,
   "metadata": {},
   "outputs": [
    {
     "data": {
      "text/plain": [
       "0"
      ]
     },
     "execution_count": 47,
     "metadata": {},
     "output_type": "execute_result"
    }
   ],
   "source": [
    "actividades_tene.duplicated().sum()"
   ]
  },
  {
   "cell_type": "code",
   "execution_count": 48,
   "metadata": {},
   "outputs": [
    {
     "data": {
      "text/html": [
       "<div>\n",
       "<style scoped>\n",
       "    .dataframe tbody tr th:only-of-type {\n",
       "        vertical-align: middle;\n",
       "    }\n",
       "\n",
       "    .dataframe tbody tr th {\n",
       "        vertical-align: top;\n",
       "    }\n",
       "\n",
       "    .dataframe thead th {\n",
       "        text-align: right;\n",
       "    }\n",
       "</style>\n",
       "<table border=\"1\" class=\"dataframe\">\n",
       "  <thead>\n",
       "    <tr style=\"text-align: right;\">\n",
       "      <th></th>\n",
       "      <th>count</th>\n",
       "      <th>mean</th>\n",
       "      <th>std</th>\n",
       "      <th>min</th>\n",
       "      <th>25%</th>\n",
       "      <th>50%</th>\n",
       "      <th>75%</th>\n",
       "      <th>max</th>\n",
       "    </tr>\n",
       "  </thead>\n",
       "  <tbody>\n",
       "    <tr>\n",
       "      <th>precio</th>\n",
       "      <td>32.0</td>\n",
       "      <td>61.267187</td>\n",
       "      <td>39.4551</td>\n",
       "      <td>15.25</td>\n",
       "      <td>35.7375</td>\n",
       "      <td>54.5</td>\n",
       "      <td>70.25</td>\n",
       "      <td>226.0</td>\n",
       "    </tr>\n",
       "  </tbody>\n",
       "</table>\n",
       "</div>"
      ],
      "text/plain": [
       "        count       mean      std    min      25%   50%    75%    max\n",
       "precio   32.0  61.267187  39.4551  15.25  35.7375  54.5  70.25  226.0"
      ]
     },
     "execution_count": 48,
     "metadata": {},
     "output_type": "execute_result"
    }
   ],
   "source": [
    "actividades_pmi.describe().T"
   ]
  },
  {
   "cell_type": "code",
   "execution_count": 49,
   "metadata": {},
   "outputs": [
    {
     "data": {
      "text/html": [
       "<div>\n",
       "<style scoped>\n",
       "    .dataframe tbody tr th:only-of-type {\n",
       "        vertical-align: middle;\n",
       "    }\n",
       "\n",
       "    .dataframe tbody tr th {\n",
       "        vertical-align: top;\n",
       "    }\n",
       "\n",
       "    .dataframe thead th {\n",
       "        text-align: right;\n",
       "    }\n",
       "</style>\n",
       "<table border=\"1\" class=\"dataframe\">\n",
       "  <thead>\n",
       "    <tr style=\"text-align: right;\">\n",
       "      <th></th>\n",
       "      <th>count</th>\n",
       "      <th>unique</th>\n",
       "      <th>top</th>\n",
       "      <th>freq</th>\n",
       "    </tr>\n",
       "  </thead>\n",
       "  <tbody>\n",
       "    <tr>\n",
       "      <th>actividades</th>\n",
       "      <td>32</td>\n",
       "      <td>32</td>\n",
       "      <td>Visita guiada por Palma de Mallorca con entrad...</td>\n",
       "      <td>1</td>\n",
       "    </tr>\n",
       "    <tr>\n",
       "      <th>categorias</th>\n",
       "      <td>32</td>\n",
       "      <td>12</td>\n",
       "      <td>Paseos en barco</td>\n",
       "      <td>8</td>\n",
       "    </tr>\n",
       "    <tr>\n",
       "      <th>descripcion</th>\n",
       "      <td>32</td>\n",
       "      <td>32</td>\n",
       "      <td>Descubra los lugares  más famosos de Palma de ...</td>\n",
       "      <td>1</td>\n",
       "    </tr>\n",
       "  </tbody>\n",
       "</table>\n",
       "</div>"
      ],
      "text/plain": [
       "            count unique                                                top  \\\n",
       "actividades    32     32  Visita guiada por Palma de Mallorca con entrad...   \n",
       "categorias     32     12                                    Paseos en barco   \n",
       "descripcion    32     32  Descubra los lugares  más famosos de Palma de ...   \n",
       "\n",
       "            freq  \n",
       "actividades    1  \n",
       "categorias     8  \n",
       "descripcion    1  "
      ]
     },
     "execution_count": 49,
     "metadata": {},
     "output_type": "execute_result"
    }
   ],
   "source": [
    "actividades_pmi.describe(include= \"O\").T"
   ]
  }
 ],
 "metadata": {
  "kernelspec": {
   "display_name": "proyecto3_entorno",
   "language": "python",
   "name": "python3"
  },
  "language_info": {
   "codemirror_mode": {
    "name": "ipython",
    "version": 3
   },
   "file_extension": ".py",
   "mimetype": "text/x-python",
   "name": "python",
   "nbconvert_exporter": "python",
   "pygments_lexer": "ipython3",
   "version": "3.11.9"
  }
 },
 "nbformat": 4,
 "nbformat_minor": 2
}
