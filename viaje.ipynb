{
 "cells": [
  {
   "cell_type": "code",
   "execution_count": 3,
   "metadata": {},
   "outputs": [],
   "source": [
    "from datetime import datetime\n",
    "from geopy.geocoders import Nominatim\n",
    "import pandas as pd\n",
    "import numpy as np\n",
    "import requests\n",
    "import json\n",
    "from tqdm import tqdm\n",
    "from time import sleep\n",
    "import os\n",
    "\n",
    "\n",
    "#import sys \n",
    "#sys.path.append(\"../\")   aquí no es necesario porque tengo el src a la misma altura que el jupyter\n",
    "\n",
    "from src.funciones import info_vuelos, crearDF_formateado, info_hoteles, crearDF_formateado_hoteles\n",
    "\n"
   ]
  },
  {
   "cell_type": "markdown",
   "metadata": {},
   "source": [
    "Geopy no lo suo al final"
   ]
  },
  {
   "cell_type": "code",
   "execution_count": null,
   "metadata": {},
   "outputs": [],
   "source": [
    "# geolocator = Nominatim(user_agent=\"my_application\") #Primero hice un ejemplo con uno\n",
    "# location = geolocator.geocode(\"santa cruz de tenerife\")\n",
    "# print(location.address)\n",
    "# print((location.latitude, location.longitude))\n",
    "# print(location.raw)\n",
    "\n",
    "# lat= location.latitude\n",
    "# lng= location.longitude\n",
    "# print(lat)\n",
    "# print(lng)"
   ]
  },
  {
   "cell_type": "markdown",
   "metadata": {},
   "source": [
    "**API de Hoteles en TENE**"
   ]
  },
  {
   "cell_type": "code",
   "execution_count": 20,
   "metadata": {},
   "outputs": [],
   "source": [
    "url = \"https://tripadvisor-scraper.p.rapidapi.com/hotels/list\"\n",
    "\n",
    "querystring = {\"query\":\"santa cruz de tenerife\",\"page\":\"1\"}\n",
    "\n",
    "headers = {\n",
    "\t\"x-rapidapi-key\": \"978309fe9dmshe0626a77c211be6p1786a7jsne7e8845b8cfa\",\n",
    "\t\"x-rapidapi-host\": \"tripadvisor-scraper.p.rapidapi.com\"\n",
    "}\n",
    "\n",
    "response = requests.get(url, headers=headers, params=querystring)\n",
    "\n",
    "answer=response.json()"
   ]
  },
  {
   "cell_type": "code",
   "execution_count": 5,
   "metadata": {},
   "outputs": [],
   "source": [
    "with open('hoteltenerife.json', 'w') as archivo:\n",
    "    json.dump(answer, archivo, indent=4)"
   ]
  },
  {
   "cell_type": "code",
   "execution_count": 75,
   "metadata": {},
   "outputs": [],
   "source": [
    "# nombre_hotel=answer[\"results\"][0][\"name\"]\n",
    "# reviews_hotel=answer[\"results\"][0][\"reviews\"]\n",
    "# rating_hotel=answer[\"results\"][0][\"rating\"]\n",
    "# precio_rango_min=answer[\"results\"][0][\"price_range_usd\"][\"min\"]\n",
    "# precio_rango_max=answer[\"results\"][0][\"price_range_usd\"][\"max\"]\n",
    "# precio_medio= (precio_rango_max + precio_rango_min)/2\n",
    "# ciudad=answer[\"results\"][0][\"detailed_address\"][\"city\"]\n",
    "# ranking_sobre_20=answer[\"results\"][0][\"ranking\"][\"current_rank\"]   #el ranking lo he quitado\n",
    "# servicios=answer[\"results\"][0][\"amenities\"]\n",
    "# link=answer[\"results\"][0][\"link\"]"
   ]
  },
  {
   "cell_type": "code",
   "execution_count": 76,
   "metadata": {},
   "outputs": [
    {
     "data": {
      "text/plain": [
       "{'nombre_hotel': 'Iberostar Heritage Grand Mencey',\n",
       " 'reviews_hotel': 2829,\n",
       " 'rating_hotel': 4.5,\n",
       " 'precio_rango_min': 133,\n",
       " 'precio_rango_max': 212,\n",
       " 'precio_medio_por noche': 172.5,\n",
       " 'ciudad': 'Santa Cruz de Tenerife',\n",
       " 'ranking_(/20)': 1,\n",
       " 'servicios': ['Free Wifi',\n",
       "  'Pool',\n",
       "  'Outdoor pool',\n",
       "  'Restaurant',\n",
       "  'Room service'],\n",
       " 'link': 'https://www.tripadvisor.com/Hotel_Review-g187482-d1555517-Reviews-Iberostar_Heritage_Grand_Mencey-Santa_Cruz_de_Tenerife_Tenerife_Canary_Islands.html'}"
      ]
     },
     "execution_count": 76,
     "metadata": {},
     "output_type": "execute_result"
    }
   ],
   "source": [
    "\n",
    "# diccht= {\"nombre_hotel\":nombre_hotel,\n",
    "#        \"reviews_hotel\":reviews_hotel,\n",
    "#        \"rating_hotel\": rating_hotel,\n",
    "#        \"precio_rango_min\":precio_rango_min,\n",
    "#        \"precio_rango_max\":precio_rango_max,\n",
    "#        \"precio_medio_por noche\":precio_medio,\n",
    "#        \"ciudad\":ciudad,\n",
    "#        \"ranking_(/20)\":ranking_sobre_20,   #el ranking lo he quitado\n",
    "#        \"servicios\":servicios,\n",
    "#        \"link\":link\n",
    "#         }\n",
    "# diccht"
   ]
  },
  {
   "cell_type": "markdown",
   "metadata": {},
   "source": [
    "Sacar hoteles TENE:"
   ]
  },
  {
   "cell_type": "code",
   "execution_count": 6,
   "metadata": {},
   "outputs": [],
   "source": [
    "# lista_diccht=[]\n",
    "\n",
    "# for i in range(0, len(answer[\"results\"])):\n",
    "\n",
    "#         nombre_hotel=answer[\"results\"][i][\"name\"]\n",
    "#         reviews_hotel=answer[\"results\"][i][\"reviews\"]\n",
    "#         rating_hotel=answer[\"results\"][i][\"rating\"]\n",
    "#         precio_rango_min=answer[\"results\"][i][\"price_range_usd\"][\"min\"]\n",
    "#         precio_rango_max=answer[\"results\"][i][\"price_range_usd\"][\"max\"]\n",
    "#         precio_medio= (precio_rango_max + precio_rango_min)/2\n",
    "#         ciudad=answer[\"results\"][i][\"detailed_address\"][\"city\"]\n",
    "#         servicios=answer[\"results\"][i][\"amenities\"]\n",
    "#         link=answer[\"results\"][i][\"link\"]\n",
    "\n",
    "        \n",
    "#         diccht= {\"nombre_hotel\":nombre_hotel,\n",
    "#                 \"reviews_hotel\":reviews_hotel,\n",
    "#                 \"rating_hotel\": rating_hotel,\n",
    "#                 \"precio_rango_min\":precio_rango_min,\n",
    "#                 \"precio_rango_max\":precio_rango_max,\n",
    "#                 \"precio_medio_por noche\":precio_medio,\n",
    "#                 \"ciudad\":ciudad,\n",
    "#                 \"servicios\":servicios,\n",
    "#                 \"link\":link\n",
    "#                 }\n",
    "\n",
    "\n",
    "\n",
    "#         lista_diccht.append(diccht)"
   ]
  },
  {
   "cell_type": "code",
   "execution_count": 7,
   "metadata": {},
   "outputs": [
    {
     "data": {
      "text/html": [
       "<div>\n",
       "<style scoped>\n",
       "    .dataframe tbody tr th:only-of-type {\n",
       "        vertical-align: middle;\n",
       "    }\n",
       "\n",
       "    .dataframe tbody tr th {\n",
       "        vertical-align: top;\n",
       "    }\n",
       "\n",
       "    .dataframe thead th {\n",
       "        text-align: right;\n",
       "    }\n",
       "</style>\n",
       "<table border=\"1\" class=\"dataframe\">\n",
       "  <thead>\n",
       "    <tr style=\"text-align: right;\">\n",
       "      <th></th>\n",
       "      <th>nombre_hotel</th>\n",
       "      <th>reviews_hotel</th>\n",
       "      <th>rating_hotel</th>\n",
       "      <th>precio_medio_por noche</th>\n",
       "      <th>ciudad</th>\n",
       "      <th>servicios</th>\n",
       "      <th>link</th>\n",
       "    </tr>\n",
       "  </thead>\n",
       "  <tbody>\n",
       "    <tr>\n",
       "      <th>0</th>\n",
       "      <td>Iberostar Heritage Grand Mencey</td>\n",
       "      <td>2829</td>\n",
       "      <td>4.5</td>\n",
       "      <td>172.5</td>\n",
       "      <td>Santa Cruz de Tenerife</td>\n",
       "      <td>[Free Wifi, Pool, Outdoor pool, Restaurant, Ro...</td>\n",
       "      <td>https://www.tripadvisor.com/Hotel_Review-g1874...</td>\n",
       "    </tr>\n",
       "    <tr>\n",
       "      <th>1</th>\n",
       "      <td>AC Hotel Tenerife</td>\n",
       "      <td>70</td>\n",
       "      <td>3.5</td>\n",
       "      <td>139.0</td>\n",
       "      <td>Santa Cruz de Tenerife</td>\n",
       "      <td>[Free Wifi, Free parking, Breakfast included, ...</td>\n",
       "      <td>https://www.tripadvisor.com/Hotel_Review-g1874...</td>\n",
       "    </tr>\n",
       "    <tr>\n",
       "      <th>2</th>\n",
       "      <td>NH Tenerife</td>\n",
       "      <td>866</td>\n",
       "      <td>4.0</td>\n",
       "      <td>115.0</td>\n",
       "      <td>Santa Cruz de Tenerife</td>\n",
       "      <td>[Restaurant, Room service, Bar/Lounge]</td>\n",
       "      <td>https://www.tripadvisor.com/Hotel_Review-g1874...</td>\n",
       "    </tr>\n",
       "  </tbody>\n",
       "</table>\n",
       "</div>"
      ],
      "text/plain": [
       "                      nombre_hotel  reviews_hotel  rating_hotel  \\\n",
       "0  Iberostar Heritage Grand Mencey           2829           4.5   \n",
       "1                AC Hotel Tenerife             70           3.5   \n",
       "2                      NH Tenerife            866           4.0   \n",
       "\n",
       "   precio_medio_por noche                  ciudad  \\\n",
       "0                   172.5  Santa Cruz de Tenerife   \n",
       "1                   139.0  Santa Cruz de Tenerife   \n",
       "2                   115.0  Santa Cruz de Tenerife   \n",
       "\n",
       "                                           servicios  \\\n",
       "0  [Free Wifi, Pool, Outdoor pool, Restaurant, Ro...   \n",
       "1  [Free Wifi, Free parking, Breakfast included, ...   \n",
       "2             [Restaurant, Room service, Bar/Lounge]   \n",
       "\n",
       "                                                link  \n",
       "0  https://www.tripadvisor.com/Hotel_Review-g1874...  \n",
       "1  https://www.tripadvisor.com/Hotel_Review-g1874...  \n",
       "2  https://www.tripadvisor.com/Hotel_Review-g1874...  "
      ]
     },
     "execution_count": 7,
     "metadata": {},
     "output_type": "execute_result"
    }
   ],
   "source": [
    "# df_hotel_tenerife= pd.DataFrame(lista_diccht).drop(columns= [\"precio_rango_min\", \"precio_rango_max\"])\n",
    "# df_hotel_tenerife.head(3)"
   ]
  },
  {
   "cell_type": "code",
   "execution_count": 8,
   "metadata": {},
   "outputs": [
    {
     "name": "stdout",
     "output_type": "stream",
     "text": [
      "<class 'pandas.core.frame.DataFrame'>\n",
      "RangeIndex: 33 entries, 0 to 32\n",
      "Data columns (total 7 columns):\n",
      " #   Column                  Non-Null Count  Dtype  \n",
      "---  ------                  --------------  -----  \n",
      " 0   nombre_hotel            33 non-null     object \n",
      " 1   reviews_hotel           33 non-null     int64  \n",
      " 2   rating_hotel            33 non-null     float64\n",
      " 3   precio_medio_por noche  33 non-null     float64\n",
      " 4   ciudad                  33 non-null     object \n",
      " 5   servicios               33 non-null     object \n",
      " 6   link                    33 non-null     object \n",
      "dtypes: float64(2), int64(1), object(4)\n",
      "memory usage: 1.9+ KB\n"
     ]
    }
   ],
   "source": [
    "# df_hotel_tenerife.info()"
   ]
  },
  {
   "cell_type": "markdown",
   "metadata": {},
   "source": [
    "**API de Hoteles en TENE Done**"
   ]
  },
  {
   "cell_type": "code",
   "execution_count": 9,
   "metadata": {},
   "outputs": [
    {
     "data": {
      "text/html": [
       "<div>\n",
       "<style scoped>\n",
       "    .dataframe tbody tr th:only-of-type {\n",
       "        vertical-align: middle;\n",
       "    }\n",
       "\n",
       "    .dataframe tbody tr th {\n",
       "        vertical-align: top;\n",
       "    }\n",
       "\n",
       "    .dataframe thead th {\n",
       "        text-align: right;\n",
       "    }\n",
       "</style>\n",
       "<table border=\"1\" class=\"dataframe\">\n",
       "  <thead>\n",
       "    <tr style=\"text-align: right;\">\n",
       "      <th></th>\n",
       "      <th>nombre_hotel</th>\n",
       "      <th>reviews_hotel</th>\n",
       "      <th>rating_hotel</th>\n",
       "      <th>precio_medio_por noche</th>\n",
       "      <th>ciudad</th>\n",
       "      <th>servicios</th>\n",
       "      <th>link</th>\n",
       "    </tr>\n",
       "  </thead>\n",
       "  <tbody>\n",
       "    <tr>\n",
       "      <th>0</th>\n",
       "      <td>Iberostar Heritage Grand Mencey</td>\n",
       "      <td>2829</td>\n",
       "      <td>4.5</td>\n",
       "      <td>172.5</td>\n",
       "      <td>Santa Cruz de Tenerife</td>\n",
       "      <td>[Free Wifi, Pool, Outdoor pool, Restaurant, Ro...</td>\n",
       "      <td>https://www.tripadvisor.com/Hotel_Review-g1874...</td>\n",
       "    </tr>\n",
       "    <tr>\n",
       "      <th>1</th>\n",
       "      <td>AC Hotel Tenerife</td>\n",
       "      <td>70</td>\n",
       "      <td>3.5</td>\n",
       "      <td>139.0</td>\n",
       "      <td>Santa Cruz de Tenerife</td>\n",
       "      <td>[Free Wifi, Free parking, Breakfast included, ...</td>\n",
       "      <td>https://www.tripadvisor.com/Hotel_Review-g1874...</td>\n",
       "    </tr>\n",
       "  </tbody>\n",
       "</table>\n",
       "</div>"
      ],
      "text/plain": [
       "                      nombre_hotel  reviews_hotel  rating_hotel  \\\n",
       "0  Iberostar Heritage Grand Mencey           2829           4.5   \n",
       "1                AC Hotel Tenerife             70           3.5   \n",
       "\n",
       "   precio_medio_por noche                  ciudad  \\\n",
       "0                   172.5  Santa Cruz de Tenerife   \n",
       "1                   139.0  Santa Cruz de Tenerife   \n",
       "\n",
       "                                           servicios  \\\n",
       "0  [Free Wifi, Pool, Outdoor pool, Restaurant, Ro...   \n",
       "1  [Free Wifi, Free parking, Breakfast included, ...   \n",
       "\n",
       "                                                link  \n",
       "0  https://www.tripadvisor.com/Hotel_Review-g1874...  \n",
       "1  https://www.tripadvisor.com/Hotel_Review-g1874...  "
      ]
     },
     "execution_count": 9,
     "metadata": {},
     "output_type": "execute_result"
    }
   ],
   "source": [
    "# df_hotel_tenerife.head(2)"
   ]
  },
  {
   "cell_type": "markdown",
   "metadata": {},
   "source": [
    "**API de Hoteles en PMI**"
   ]
  },
  {
   "cell_type": "code",
   "execution_count": 44,
   "metadata": {},
   "outputs": [],
   "source": [
    "\n",
    "\n",
    "url_hotel = \"https://tripadvisor-scraper.p.rapidapi.com/hotels/list\"\n",
    "\n",
    "querystring = {f\"query\":\"palma de mallorca\",\"page\":\"8\"}\n",
    "\n",
    "headers = {\n",
    "\t\"x-rapidapi-key\": \"978309fe9dmshe0626a77c211be6p1786a7jsne7e8845b8cfa\",\n",
    "\t\"x-rapidapi-host\": \"tripadvisor-scraper.p.rapidapi.com\"\n",
    "}\n",
    "\n",
    "response = requests.get(url_hotel, headers=headers, params=querystring)\n",
    "respond=response.json()\n"
   ]
  },
  {
   "cell_type": "markdown",
   "metadata": {},
   "source": [
    "Esto para guardar en archivo csv"
   ]
  },
  {
   "cell_type": "code",
   "execution_count": 47,
   "metadata": {},
   "outputs": [],
   "source": [
    "# info_hoteles(respond)     #Lo menciono para que NO MOLESTE"
   ]
  },
  {
   "cell_type": "code",
   "execution_count": 46,
   "metadata": {},
   "outputs": [],
   "source": [
    "# df=crearDF_formateado_hoteles(info_hoteles(respond))\n",
    "# df.to_csv('datos/hotel_pmi_8.csv', index=False)\n"
   ]
  },
  {
   "cell_type": "code",
   "execution_count": 11,
   "metadata": {},
   "outputs": [],
   "source": [
    "with open('hotelmallorca.json', 'w') as archivo:\n",
    "    json.dump(respond, archivo, indent=4)"
   ]
  },
  {
   "cell_type": "code",
   "execution_count": 45,
   "metadata": {},
   "outputs": [],
   "source": [
    "# nombre_hotel=respond[\"results\"][0][\"name\"]\n",
    "# reviews_hotel=respond[\"results\"][0][\"reviews\"]\n",
    "# rating_hotel=respond[\"results\"][0][\"rating\"]\n",
    "# precio_rango_min=respond[\"results\"][0][\"price_range_usd\"][\"min\"]\n",
    "# precio_rango_max=respond[\"results\"][0][\"price_range_usd\"][\"max\"]\n",
    "# precio_medio= (precio_rango_max + precio_rango_min)/2\n",
    "# ciudad=respond[\"results\"][0][\"detailed_address\"][\"city\"]\n",
    "# ranking_sobre_95=respond[\"results\"][0][\"ranking\"][\"current_rank\"]     #el ranking lo he quitado\n",
    "# servicios=respond[\"results\"][0][\"amenities\"]\n",
    "# link=respond[\"results\"][0][\"link\"]"
   ]
  },
  {
   "cell_type": "code",
   "execution_count": 46,
   "metadata": {},
   "outputs": [
    {
     "data": {
      "text/plain": [
       "{'nombre_hotel': 'Posada Terra Santa',\n",
       " 'reviews_hotel': 1695,\n",
       " 'rating_hotel': 5,\n",
       " 'precio_rango_min': 248,\n",
       " 'precio_rango_max': 391,\n",
       " 'precio_medio_por noche': 319.5,\n",
       " 'ciudad': 'Palma de Mallorca',\n",
       " 'ranking_(/95)': 2,\n",
       " 'servicios': ['Free Wifi',\n",
       "  'Breakfast included',\n",
       "  'Pool',\n",
       "  'Outdoor pool',\n",
       "  'Restaurant'],\n",
       " 'link': 'https://www.tripadvisor.com/Hotel_Review-g187463-d6479649-Reviews-Posada_Terra_Santa-Palma_de_Mallorca_Majorca_Balearic_Islands.html'}"
      ]
     },
     "execution_count": 46,
     "metadata": {},
     "output_type": "execute_result"
    }
   ],
   "source": [
    "\n",
    "# dicch= {\"nombre_hotel\":nombre_hotel,\n",
    "#        \"reviews_hotel\":reviews_hotel,\n",
    "#        \"rating_hotel\": rating_hotel,\n",
    "#        \"precio_rango_min\":precio_rango_min,\n",
    "#        \"precio_rango_max\":precio_rango_max,\n",
    "#        \"precio_medio_por noche\":precio_medio,\n",
    "#        \"ciudad\":ciudad,\n",
    "#        \"ranking_(/95)\":ranking_sobre_95,   #el ranking lo he quitado\n",
    "#        \"servicios\":servicios,\n",
    "#        \"link\":link\n",
    "#         }\n",
    "# dicch"
   ]
  },
  {
   "cell_type": "markdown",
   "metadata": {},
   "source": [
    "Sacar los hoteles de PMI:"
   ]
  },
  {
   "cell_type": "code",
   "execution_count": 12,
   "metadata": {},
   "outputs": [],
   "source": [
    "# lista_dicch=[]\n",
    "\n",
    "# for i in range(0,len(respond[\"results\"])):\n",
    "\n",
    "#         nombre_hotel=respond[\"results\"][i][\"name\"]\n",
    "#         reviews_hotel=respond[\"results\"][i][\"reviews\"]\n",
    "#         rating_hotel=respond[\"results\"][i][\"rating\"]\n",
    "#         precio_rango_min=respond[\"results\"][i][\"price_range_usd\"][\"min\"]\n",
    "#         precio_rango_max=respond[\"results\"][i][\"price_range_usd\"][\"max\"]\n",
    "#         precio_medio= (precio_rango_max + precio_rango_min)/2\n",
    "#         ciudad=respond[\"results\"][i][\"detailed_address\"][\"city\"]\n",
    "#         servicios=respond[\"results\"][i][\"amenities\"]\n",
    "#         link=respond[\"results\"][i][\"link\"]\n",
    "\n",
    "        \n",
    "#         dicch= {\"nombre_hotel\":nombre_hotel,\n",
    "#                 \"reviews_hotel\":reviews_hotel,\n",
    "#                 \"rating_hotel\": rating_hotel,\n",
    "#                 \"precio_rango_min\":precio_rango_min,\n",
    "#                 \"precio_rango_max\":precio_rango_max,\n",
    "#                 \"precio_medio_por noche\":precio_medio,\n",
    "#                 \"ciudad\":ciudad,\n",
    "#                 \"servicios\":servicios,\n",
    "#                 \"link\":link\n",
    "#                 }\n",
    "\n",
    "\n",
    "\n",
    "#         lista_dicch.append(dicch)"
   ]
  },
  {
   "cell_type": "code",
   "execution_count": 13,
   "metadata": {},
   "outputs": [
    {
     "data": {
      "text/html": [
       "<div>\n",
       "<style scoped>\n",
       "    .dataframe tbody tr th:only-of-type {\n",
       "        vertical-align: middle;\n",
       "    }\n",
       "\n",
       "    .dataframe tbody tr th {\n",
       "        vertical-align: top;\n",
       "    }\n",
       "\n",
       "    .dataframe thead th {\n",
       "        text-align: right;\n",
       "    }\n",
       "</style>\n",
       "<table border=\"1\" class=\"dataframe\">\n",
       "  <thead>\n",
       "    <tr style=\"text-align: right;\">\n",
       "      <th></th>\n",
       "      <th>nombre_hotel</th>\n",
       "      <th>reviews_hotel</th>\n",
       "      <th>rating_hotel</th>\n",
       "      <th>precio_medio_por noche</th>\n",
       "      <th>ciudad</th>\n",
       "      <th>servicios</th>\n",
       "      <th>link</th>\n",
       "    </tr>\n",
       "  </thead>\n",
       "  <tbody>\n",
       "    <tr>\n",
       "      <th>0</th>\n",
       "      <td>Puro Hotel Palma</td>\n",
       "      <td>1131</td>\n",
       "      <td>4.5</td>\n",
       "      <td>253.0</td>\n",
       "      <td>Palma de Mallorca</td>\n",
       "      <td>[Free Wifi, Breakfast included, Restaurant, Ro...</td>\n",
       "      <td>https://www.tripadvisor.com/Hotel_Review-g1874...</td>\n",
       "    </tr>\n",
       "    <tr>\n",
       "      <th>1</th>\n",
       "      <td>Posada Terra Santa</td>\n",
       "      <td>1695</td>\n",
       "      <td>5.0</td>\n",
       "      <td>319.5</td>\n",
       "      <td>Palma de Mallorca</td>\n",
       "      <td>[Free Wifi, Breakfast included, Pool, Outdoor ...</td>\n",
       "      <td>https://www.tripadvisor.com/Hotel_Review-g1874...</td>\n",
       "    </tr>\n",
       "    <tr>\n",
       "      <th>2</th>\n",
       "      <td>Castillo Hotel Son Vida, a Luxury Collection H...</td>\n",
       "      <td>1203</td>\n",
       "      <td>4.5</td>\n",
       "      <td>417.5</td>\n",
       "      <td>Palma de Mallorca</td>\n",
       "      <td>[Free Wifi, Free parking, Breakfast included, ...</td>\n",
       "      <td>https://www.tripadvisor.com/Hotel_Review-g1874...</td>\n",
       "    </tr>\n",
       "    <tr>\n",
       "      <th>3</th>\n",
       "      <td>Calatrava Mediterranean Sea House</td>\n",
       "      <td>830</td>\n",
       "      <td>5.0</td>\n",
       "      <td>433.5</td>\n",
       "      <td>Palma de Mallorca</td>\n",
       "      <td>[Free Wifi, Restaurant, Airport transportation...</td>\n",
       "      <td>https://www.tripadvisor.com/Hotel_Review-g1874...</td>\n",
       "    </tr>\n",
       "  </tbody>\n",
       "</table>\n",
       "</div>"
      ],
      "text/plain": [
       "                                        nombre_hotel  reviews_hotel  \\\n",
       "0                                   Puro Hotel Palma           1131   \n",
       "1                                 Posada Terra Santa           1695   \n",
       "2  Castillo Hotel Son Vida, a Luxury Collection H...           1203   \n",
       "3                  Calatrava Mediterranean Sea House            830   \n",
       "\n",
       "   rating_hotel  precio_medio_por noche             ciudad  \\\n",
       "0           4.5                   253.0  Palma de Mallorca   \n",
       "1           5.0                   319.5  Palma de Mallorca   \n",
       "2           4.5                   417.5  Palma de Mallorca   \n",
       "3           5.0                   433.5  Palma de Mallorca   \n",
       "\n",
       "                                           servicios  \\\n",
       "0  [Free Wifi, Breakfast included, Restaurant, Ro...   \n",
       "1  [Free Wifi, Breakfast included, Pool, Outdoor ...   \n",
       "2  [Free Wifi, Free parking, Breakfast included, ...   \n",
       "3  [Free Wifi, Restaurant, Airport transportation...   \n",
       "\n",
       "                                                link  \n",
       "0  https://www.tripadvisor.com/Hotel_Review-g1874...  \n",
       "1  https://www.tripadvisor.com/Hotel_Review-g1874...  \n",
       "2  https://www.tripadvisor.com/Hotel_Review-g1874...  \n",
       "3  https://www.tripadvisor.com/Hotel_Review-g1874...  "
      ]
     },
     "execution_count": 13,
     "metadata": {},
     "output_type": "execute_result"
    }
   ],
   "source": [
    "# df_hotel_mallorca= pd.DataFrame(lista_dicch).drop(columns= [\"precio_rango_min\", \"precio_rango_max\"])\n",
    "# df_hotel_mallorca.head(4)"
   ]
  },
  {
   "cell_type": "code",
   "execution_count": 14,
   "metadata": {},
   "outputs": [
    {
     "name": "stdout",
     "output_type": "stream",
     "text": [
      "<class 'pandas.core.frame.DataFrame'>\n",
      "RangeIndex: 30 entries, 0 to 29\n",
      "Data columns (total 7 columns):\n",
      " #   Column                  Non-Null Count  Dtype  \n",
      "---  ------                  --------------  -----  \n",
      " 0   nombre_hotel            30 non-null     object \n",
      " 1   reviews_hotel           30 non-null     int64  \n",
      " 2   rating_hotel            30 non-null     float64\n",
      " 3   precio_medio_por noche  30 non-null     float64\n",
      " 4   ciudad                  30 non-null     object \n",
      " 5   servicios               30 non-null     object \n",
      " 6   link                    30 non-null     object \n",
      "dtypes: float64(2), int64(1), object(4)\n",
      "memory usage: 1.8+ KB\n"
     ]
    }
   ],
   "source": [
    "# df_hotel_mallorca.info()"
   ]
  },
  {
   "cell_type": "markdown",
   "metadata": {},
   "source": [
    "**API de Hoteles en PMI Done**"
   ]
  },
  {
   "cell_type": "code",
   "execution_count": 15,
   "metadata": {},
   "outputs": [
    {
     "data": {
      "text/html": [
       "<div>\n",
       "<style scoped>\n",
       "    .dataframe tbody tr th:only-of-type {\n",
       "        vertical-align: middle;\n",
       "    }\n",
       "\n",
       "    .dataframe tbody tr th {\n",
       "        vertical-align: top;\n",
       "    }\n",
       "\n",
       "    .dataframe thead th {\n",
       "        text-align: right;\n",
       "    }\n",
       "</style>\n",
       "<table border=\"1\" class=\"dataframe\">\n",
       "  <thead>\n",
       "    <tr style=\"text-align: right;\">\n",
       "      <th></th>\n",
       "      <th>nombre_hotel</th>\n",
       "      <th>reviews_hotel</th>\n",
       "      <th>rating_hotel</th>\n",
       "      <th>precio_medio_por noche</th>\n",
       "      <th>ciudad</th>\n",
       "      <th>servicios</th>\n",
       "      <th>link</th>\n",
       "    </tr>\n",
       "  </thead>\n",
       "  <tbody>\n",
       "    <tr>\n",
       "      <th>0</th>\n",
       "      <td>Puro Hotel Palma</td>\n",
       "      <td>1131</td>\n",
       "      <td>4.5</td>\n",
       "      <td>253.0</td>\n",
       "      <td>Palma de Mallorca</td>\n",
       "      <td>[Free Wifi, Breakfast included, Restaurant, Ro...</td>\n",
       "      <td>https://www.tripadvisor.com/Hotel_Review-g1874...</td>\n",
       "    </tr>\n",
       "    <tr>\n",
       "      <th>1</th>\n",
       "      <td>Posada Terra Santa</td>\n",
       "      <td>1695</td>\n",
       "      <td>5.0</td>\n",
       "      <td>319.5</td>\n",
       "      <td>Palma de Mallorca</td>\n",
       "      <td>[Free Wifi, Breakfast included, Pool, Outdoor ...</td>\n",
       "      <td>https://www.tripadvisor.com/Hotel_Review-g1874...</td>\n",
       "    </tr>\n",
       "  </tbody>\n",
       "</table>\n",
       "</div>"
      ],
      "text/plain": [
       "         nombre_hotel  reviews_hotel  rating_hotel  precio_medio_por noche  \\\n",
       "0    Puro Hotel Palma           1131           4.5                   253.0   \n",
       "1  Posada Terra Santa           1695           5.0                   319.5   \n",
       "\n",
       "              ciudad                                          servicios  \\\n",
       "0  Palma de Mallorca  [Free Wifi, Breakfast included, Restaurant, Ro...   \n",
       "1  Palma de Mallorca  [Free Wifi, Breakfast included, Pool, Outdoor ...   \n",
       "\n",
       "                                                link  \n",
       "0  https://www.tripadvisor.com/Hotel_Review-g1874...  \n",
       "1  https://www.tripadvisor.com/Hotel_Review-g1874...  "
      ]
     },
     "execution_count": 15,
     "metadata": {},
     "output_type": "execute_result"
    }
   ],
   "source": [
    "# df_hotel_mallorca.head(2)"
   ]
  },
  {
   "cell_type": "markdown",
   "metadata": {},
   "source": [
    "**Funciones hoteles(sin pasadas a .py):**"
   ]
  },
  {
   "cell_type": "code",
   "execution_count": 13,
   "metadata": {},
   "outputs": [],
   "source": [
    "def info_hoteles(request_jeison):\n",
    "    lista_dicch=[]\n",
    "    respond=request_jeison\n",
    "    for i in range(0,len(respond[\"results\"])):\n",
    "\n",
    "        nombre_hotel=respond[\"results\"][i][\"name\"]\n",
    "        reviews_hotel=respond[\"results\"][i][\"reviews\"]\n",
    "        rating_hotel=respond[\"results\"][i][\"rating\"]\n",
    "        precio_rango_min=respond[\"results\"][i][\"price_range_usd\"][\"min\"]\n",
    "        precio_rango_max=respond[\"results\"][i][\"price_range_usd\"][\"max\"]\n",
    "        precio_medio= (precio_rango_max + precio_rango_min)/2\n",
    "        ciudad=respond[\"results\"][i][\"detailed_address\"][\"city\"]\n",
    "        servicios=respond[\"results\"][i][\"amenities\"]\n",
    "        link=respond[\"results\"][i][\"link\"]\n",
    "\n",
    "        \n",
    "        dicch= {\"nombre_hotel\":nombre_hotel,\n",
    "                \"reviews_hotel\":reviews_hotel,\n",
    "                \"rating_hotel\": rating_hotel,\n",
    "                \"precio_rango_min\":precio_rango_min,\n",
    "                \"precio_rango_max\":precio_rango_max,\n",
    "                \"precio_medio_por noche\":precio_medio,\n",
    "                \"ciudad\":ciudad,\n",
    "                \"servicios\":servicios,\n",
    "                \"link\":link\n",
    "                }\n",
    "        lista_dicch.append(dicch)\n",
    "    return lista_dicch\n",
    "        "
   ]
  },
  {
   "cell_type": "code",
   "execution_count": 21,
   "metadata": {},
   "outputs": [],
   "source": [
    "info_hoteles(respond)     #Lo menciono para que NO MOLESTE"
   ]
  },
  {
   "cell_type": "code",
   "execution_count": 17,
   "metadata": {},
   "outputs": [],
   "source": [
    "def crearDF_formateado_hoteles(funcion_info_vuelos):\n",
    "\n",
    "    df_hotel= pd.DataFrame(funcion_info_vuelos).drop(columns= [\"precio_rango_min\", \"precio_rango_max\"])\n",
    "    df_hotel\n",
    "    return df_hotel"
   ]
  },
  {
   "cell_type": "code",
   "execution_count": 20,
   "metadata": {},
   "outputs": [
    {
     "data": {
      "text/html": [
       "<div>\n",
       "<style scoped>\n",
       "    .dataframe tbody tr th:only-of-type {\n",
       "        vertical-align: middle;\n",
       "    }\n",
       "\n",
       "    .dataframe tbody tr th {\n",
       "        vertical-align: top;\n",
       "    }\n",
       "\n",
       "    .dataframe thead th {\n",
       "        text-align: right;\n",
       "    }\n",
       "</style>\n",
       "<table border=\"1\" class=\"dataframe\">\n",
       "  <thead>\n",
       "    <tr style=\"text-align: right;\">\n",
       "      <th></th>\n",
       "      <th>nombre_hotel</th>\n",
       "      <th>reviews_hotel</th>\n",
       "      <th>rating_hotel</th>\n",
       "      <th>precio_medio_por noche</th>\n",
       "      <th>ciudad</th>\n",
       "      <th>servicios</th>\n",
       "      <th>link</th>\n",
       "    </tr>\n",
       "  </thead>\n",
       "  <tbody>\n",
       "    <tr>\n",
       "      <th>0</th>\n",
       "      <td>Puro Hotel Palma</td>\n",
       "      <td>1131</td>\n",
       "      <td>4.5</td>\n",
       "      <td>253.0</td>\n",
       "      <td>Palma de Mallorca</td>\n",
       "      <td>[Free Wifi, Breakfast included, Restaurant, Ro...</td>\n",
       "      <td>https://www.tripadvisor.com/Hotel_Review-g1874...</td>\n",
       "    </tr>\n",
       "    <tr>\n",
       "      <th>1</th>\n",
       "      <td>Posada Terra Santa</td>\n",
       "      <td>1695</td>\n",
       "      <td>5.0</td>\n",
       "      <td>319.5</td>\n",
       "      <td>Palma de Mallorca</td>\n",
       "      <td>[Free Wifi, Breakfast included, Pool, Outdoor ...</td>\n",
       "      <td>https://www.tripadvisor.com/Hotel_Review-g1874...</td>\n",
       "    </tr>\n",
       "    <tr>\n",
       "      <th>2</th>\n",
       "      <td>Castillo Hotel Son Vida, a Luxury Collection H...</td>\n",
       "      <td>1203</td>\n",
       "      <td>4.5</td>\n",
       "      <td>417.5</td>\n",
       "      <td>Palma de Mallorca</td>\n",
       "      <td>[Free Wifi, Free parking, Breakfast included, ...</td>\n",
       "      <td>https://www.tripadvisor.com/Hotel_Review-g1874...</td>\n",
       "    </tr>\n",
       "    <tr>\n",
       "      <th>3</th>\n",
       "      <td>Calatrava Mediterranean Sea House</td>\n",
       "      <td>830</td>\n",
       "      <td>5.0</td>\n",
       "      <td>433.5</td>\n",
       "      <td>Palma de Mallorca</td>\n",
       "      <td>[Free Wifi, Restaurant, Airport transportation...</td>\n",
       "      <td>https://www.tripadvisor.com/Hotel_Review-g1874...</td>\n",
       "    </tr>\n",
       "    <tr>\n",
       "      <th>4</th>\n",
       "      <td>Nivia Born Boutique Hotel</td>\n",
       "      <td>119</td>\n",
       "      <td>4.5</td>\n",
       "      <td>338.0</td>\n",
       "      <td>Palma de Mallorca</td>\n",
       "      <td>[Free Wifi, Restaurant, Room service, Pets All...</td>\n",
       "      <td>https://www.tripadvisor.com/Hotel_Review-g1874...</td>\n",
       "    </tr>\n",
       "  </tbody>\n",
       "</table>\n",
       "</div>"
      ],
      "text/plain": [
       "                                        nombre_hotel  reviews_hotel  \\\n",
       "0                                   Puro Hotel Palma           1131   \n",
       "1                                 Posada Terra Santa           1695   \n",
       "2  Castillo Hotel Son Vida, a Luxury Collection H...           1203   \n",
       "3                  Calatrava Mediterranean Sea House            830   \n",
       "4                          Nivia Born Boutique Hotel            119   \n",
       "\n",
       "   rating_hotel  precio_medio_por noche             ciudad  \\\n",
       "0           4.5                   253.0  Palma de Mallorca   \n",
       "1           5.0                   319.5  Palma de Mallorca   \n",
       "2           4.5                   417.5  Palma de Mallorca   \n",
       "3           5.0                   433.5  Palma de Mallorca   \n",
       "4           4.5                   338.0  Palma de Mallorca   \n",
       "\n",
       "                                           servicios  \\\n",
       "0  [Free Wifi, Breakfast included, Restaurant, Ro...   \n",
       "1  [Free Wifi, Breakfast included, Pool, Outdoor ...   \n",
       "2  [Free Wifi, Free parking, Breakfast included, ...   \n",
       "3  [Free Wifi, Restaurant, Airport transportation...   \n",
       "4  [Free Wifi, Restaurant, Room service, Pets All...   \n",
       "\n",
       "                                                link  \n",
       "0  https://www.tripadvisor.com/Hotel_Review-g1874...  \n",
       "1  https://www.tripadvisor.com/Hotel_Review-g1874...  \n",
       "2  https://www.tripadvisor.com/Hotel_Review-g1874...  \n",
       "3  https://www.tripadvisor.com/Hotel_Review-g1874...  \n",
       "4  https://www.tripadvisor.com/Hotel_Review-g1874...  "
      ]
     },
     "execution_count": 20,
     "metadata": {},
     "output_type": "execute_result"
    }
   ],
   "source": [
    "crearDF_formateado_hoteles(info_hoteles(respond)).head()   "
   ]
  },
  {
   "cell_type": "markdown",
   "metadata": {},
   "source": [
    "**API de los vuelos(TENE (TNF Y TNS))**  Meter los códigos de aeropuerto que necesitemos"
   ]
  },
  {
   "cell_type": "code",
   "execution_count": 3,
   "metadata": {},
   "outputs": [],
   "source": [
    "url = \"https://sky-scrapper.p.rapidapi.com/api/v2/flights/searchFlights\"\n",
    "\n",
    "querystring = {\"originSkyId\":\"MAD\",\"destinationSkyId\":\"TENE\",\"originEntityId\":\"95565077\",\"destinationEntityId\":\"27547165\",\"date\":\"2024-11-03\",\"returnDate\":\"2024-11-06\",\"cabinClass\":\"economy\",\"adults\":\"1\",\"sortBy\":\"best\",\"currency\":\"EUR\"}\n",
    "\n",
    "headers = {\n",
    "\t\"x-rapidapi-key\": \"978309fe9dmshe0626a77c211be6p1786a7jsne7e8845b8cfa\",\n",
    "\t\"x-rapidapi-host\": \"sky-scrapper.p.rapidapi.com\"\n",
    "}\n",
    "\n",
    "response = requests.get(url, headers=headers, params=querystring)\n",
    "\n",
    "respuesta=response.json()\n",
    "\n"
   ]
  },
  {
   "cell_type": "code",
   "execution_count": 83,
   "metadata": {},
   "outputs": [],
   "source": [
    "# with open('tenerife.json', 'w') as archivo:\n",
    "#     json.dump(respuesta, archivo, indent=4)"
   ]
  },
  {
   "cell_type": "code",
   "execution_count": 84,
   "metadata": {},
   "outputs": [],
   "source": [
    "# resp= respuesta[\"data\"]\n",
    "# precio= resp[\"itineraries\"][0][\"price\"][\"raw\"]\n",
    "\n",
    "# id_origen= resp[\"itineraries\"][0][\"legs\"][0][\"origin\"][\"id\"]\n",
    "# origen= resp[\"itineraries\"][0][\"legs\"][0][\"origin\"][\"city\"]\n",
    "\n",
    "# id_destino= resp[\"itineraries\"][0][\"legs\"][0][\"destination\"][\"id\"]\n",
    "# destino= resp[\"itineraries\"][0][\"legs\"][0][\"destination\"][\"city\"]\n",
    "\n",
    "# duracion_minuts= resp[\"itineraries\"][0][\"legs\"][0][\"durationInMinutes\"]\n",
    "# escalas= resp[\"itineraries\"][0][\"legs\"][0][\"stopCount\"]\n",
    "\n",
    "# salida= resp[\"itineraries\"][0][\"legs\"][0][\"departure\"]\n",
    "# llegada= resp[\"itineraries\"][0][\"legs\"][0][\"arrival\"]\n",
    "\n",
    "# aerolinea= resp[\"itineraries\"][0][\"legs\"][0][\"carriers\"][\"marketing\"][0][\"name\"]"
   ]
  },
  {
   "cell_type": "code",
   "execution_count": 85,
   "metadata": {},
   "outputs": [
    {
     "data": {
      "text/plain": [
       "{'id_origen': 'MAD',\n",
       " 'ciudad_origen': 'Madrid',\n",
       " 'id_destino': 'TFN',\n",
       " 'ciudad_destino': 'Tenerife',\n",
       " 'salida': '2024-11-03T07:05:00',\n",
       " 'llegada': '2024-11-03T08:55:00',\n",
       " 'duracion(min)': 170,\n",
       " 'escalas': 0,\n",
       " 'aerolinea': 'Air Europa',\n",
       " 'precio': 174.66}"
      ]
     },
     "execution_count": 85,
     "metadata": {},
     "output_type": "execute_result"
    }
   ],
   "source": [
    "\n",
    "# dicct= {\"id_origen\":id_origen,\n",
    "#        \"ciudad_origen\":origen,\n",
    "#        \"id_destino\": id_destino,\n",
    "#        \"ciudad_destino\":destino,\n",
    "#        \"salida\":salida,\n",
    "#        \"llegada\":llegada,\n",
    "#        \"duracion(min)\":duracion_minuts,\n",
    "#        \"escalas\":escalas,\n",
    "#        \"aerolinea\":aerolinea,\n",
    "#        \"precio\":precio\n",
    "#         }\n",
    "# dicct"
   ]
  },
  {
   "cell_type": "code",
   "execution_count": 89,
   "metadata": {},
   "outputs": [],
   "source": [
    "# lista_dicct=[]\n",
    "\n",
    "# for vuelo in range(0,len(resp[\"itineraries\"])):\n",
    "#         resp= respuesta[\"data\"]\n",
    "#         precio= resp[\"itineraries\"][0][\"price\"][\"raw\"]\n",
    "#         for i in range(0,2):\n",
    "#                 id_origen= resp[\"itineraries\"][vuelo][\"legs\"][i][\"origin\"][\"id\"]\n",
    "#                 origen= resp[\"itineraries\"][vuelo][\"legs\"][i][\"origin\"][\"city\"]\n",
    "\n",
    "#                 id_destino= resp[\"itineraries\"][vuelo][\"legs\"][i][\"destination\"][\"id\"]\n",
    "#                 destino= resp[\"itineraries\"][vuelo][\"legs\"][i][\"destination\"][\"city\"]\n",
    "\n",
    "#                 duracion_minuts= resp[\"itineraries\"][vuelo][\"legs\"][i][\"durationInMinutes\"]\n",
    "#                 escalas= resp[\"itineraries\"][vuelo][\"legs\"][i][\"stopCount\"]\n",
    "\n",
    "#                 salida= resp[\"itineraries\"][vuelo][\"legs\"][i][\"departure\"]\n",
    "#                 llegada= resp[\"itineraries\"][vuelo][\"legs\"][i][\"arrival\"]\n",
    "\n",
    "#                 aerolinea= resp[\"itineraries\"][vuelo][\"legs\"][i][\"carriers\"][\"marketing\"][0][\"name\"]\n",
    "\n",
    "#                 dicct= {\"id_origen\":id_origen,\n",
    "#                 \"ciudad_origen\":origen,\n",
    "#                 \"id_destino\": id_destino,\n",
    "#                 \"ciudad_destino\":destino,\n",
    "#                 \"salida\":salida,\n",
    "#                 \"llegada\":llegada,\n",
    "#                 \"duracion(min)\":duracion_minuts,\n",
    "#                 \"escalas\":escalas,\n",
    "#                 \"aerolinea\":aerolinea,\n",
    "#                 \"precio\":precio\n",
    "#                 }\n",
    "#                 lista_dicct.append(dicct)\n"
   ]
  },
  {
   "cell_type": "code",
   "execution_count": 134,
   "metadata": {},
   "outputs": [
    {
     "data": {
      "text/html": [
       "<div>\n",
       "<style scoped>\n",
       "    .dataframe tbody tr th:only-of-type {\n",
       "        vertical-align: middle;\n",
       "    }\n",
       "\n",
       "    .dataframe tbody tr th {\n",
       "        vertical-align: top;\n",
       "    }\n",
       "\n",
       "    .dataframe thead th {\n",
       "        text-align: right;\n",
       "    }\n",
       "</style>\n",
       "<table border=\"1\" class=\"dataframe\">\n",
       "  <thead>\n",
       "    <tr style=\"text-align: right;\">\n",
       "      <th></th>\n",
       "      <th>id_origen</th>\n",
       "      <th>ciudad_origen</th>\n",
       "      <th>id_destino</th>\n",
       "      <th>ciudad_destino</th>\n",
       "      <th>salida</th>\n",
       "      <th>llegada</th>\n",
       "      <th>duracion(min)</th>\n",
       "      <th>escalas</th>\n",
       "      <th>aerolinea</th>\n",
       "      <th>precio</th>\n",
       "    </tr>\n",
       "  </thead>\n",
       "  <tbody>\n",
       "    <tr>\n",
       "      <th>0</th>\n",
       "      <td>MAD</td>\n",
       "      <td>Madrid</td>\n",
       "      <td>TFN</td>\n",
       "      <td>Tenerife</td>\n",
       "      <td>2024-11-03T07:05:00</td>\n",
       "      <td>2024-11-03T08:55:00</td>\n",
       "      <td>170</td>\n",
       "      <td>0</td>\n",
       "      <td>Air Europa</td>\n",
       "      <td>174.66</td>\n",
       "    </tr>\n",
       "    <tr>\n",
       "      <th>1</th>\n",
       "      <td>TFN</td>\n",
       "      <td>Tenerife</td>\n",
       "      <td>MAD</td>\n",
       "      <td>Madrid</td>\n",
       "      <td>2024-11-06T17:55:00</td>\n",
       "      <td>2024-11-06T21:40:00</td>\n",
       "      <td>165</td>\n",
       "      <td>0</td>\n",
       "      <td>Air Europa</td>\n",
       "      <td>174.66</td>\n",
       "    </tr>\n",
       "  </tbody>\n",
       "</table>\n",
       "</div>"
      ],
      "text/plain": [
       "  id_origen ciudad_origen id_destino ciudad_destino               salida  \\\n",
       "0       MAD        Madrid        TFN       Tenerife  2024-11-03T07:05:00   \n",
       "1       TFN      Tenerife        MAD         Madrid  2024-11-06T17:55:00   \n",
       "\n",
       "               llegada  duracion(min)  escalas   aerolinea  precio  \n",
       "0  2024-11-03T08:55:00            170        0  Air Europa  174.66  \n",
       "1  2024-11-06T21:40:00            165        0  Air Europa  174.66  "
      ]
     },
     "execution_count": 134,
     "metadata": {},
     "output_type": "execute_result"
    }
   ],
   "source": [
    "# df_vuelos_ida_vuelta_TENE= pd.DataFrame(lista_dicct)\n",
    "# df_vuelos_ida_vuelta_TENE.head(2)"
   ]
  },
  {
   "cell_type": "code",
   "execution_count": 91,
   "metadata": {},
   "outputs": [
    {
     "name": "stdout",
     "output_type": "stream",
     "text": [
      "<class 'pandas.core.frame.DataFrame'>\n",
      "RangeIndex: 20 entries, 0 to 19\n",
      "Data columns (total 10 columns):\n",
      " #   Column          Non-Null Count  Dtype  \n",
      "---  ------          --------------  -----  \n",
      " 0   id_origen       20 non-null     object \n",
      " 1   ciudad_origen   20 non-null     object \n",
      " 2   id_destino      20 non-null     object \n",
      " 3   ciudad_destino  20 non-null     object \n",
      " 4   salida          20 non-null     object \n",
      " 5   llegada         20 non-null     object \n",
      " 6   duracion(min)   20 non-null     int64  \n",
      " 7   escalas         20 non-null     int64  \n",
      " 8   aerolinea       20 non-null     object \n",
      " 9   precio          20 non-null     float64\n",
      "dtypes: float64(1), int64(2), object(7)\n",
      "memory usage: 1.7+ KB\n"
     ]
    }
   ],
   "source": [
    "# df_vuelos_ida_vuelta_TENE.info()"
   ]
  },
  {
   "cell_type": "markdown",
   "metadata": {},
   "source": [
    "Formateo:\n"
   ]
  },
  {
   "cell_type": "code",
   "execution_count": 92,
   "metadata": {},
   "outputs": [
    {
     "name": "stdout",
     "output_type": "stream",
     "text": [
      "<class 'pandas.core.frame.DataFrame'>\n",
      "RangeIndex: 20 entries, 0 to 19\n",
      "Data columns (total 10 columns):\n",
      " #   Column          Non-Null Count  Dtype         \n",
      "---  ------          --------------  -----         \n",
      " 0   id_origen       20 non-null     object        \n",
      " 1   ciudad_origen   20 non-null     object        \n",
      " 2   id_destino      20 non-null     object        \n",
      " 3   ciudad_destino  20 non-null     object        \n",
      " 4   salida          20 non-null     datetime64[ns]\n",
      " 5   llegada         20 non-null     datetime64[ns]\n",
      " 6   duracion(min)   20 non-null     int64         \n",
      " 7   escalas         20 non-null     int64         \n",
      " 8   aerolinea       20 non-null     object        \n",
      " 9   precio          20 non-null     float64       \n",
      "dtypes: datetime64[ns](2), float64(1), int64(2), object(5)\n",
      "memory usage: 1.7+ KB\n"
     ]
    }
   ],
   "source": [
    "# df_vuelos_ida_vuelta_TENE[\"salida\"]= pd.to_datetime(df_vuelos_ida_vuelta_TENE[\"salida\"])\n",
    "# df_vuelos_ida_vuelta_TENE[\"llegada\"]= pd.to_datetime(df_vuelos_ida_vuelta_TENE[\"llegada\"])\n",
    "# df_vuelos_ida_vuelta_TENE.info()"
   ]
  },
  {
   "cell_type": "markdown",
   "metadata": {},
   "source": [
    "**DF vuelos de TENE Done**"
   ]
  },
  {
   "cell_type": "code",
   "execution_count": 133,
   "metadata": {},
   "outputs": [
    {
     "data": {
      "text/html": [
       "<div>\n",
       "<style scoped>\n",
       "    .dataframe tbody tr th:only-of-type {\n",
       "        vertical-align: middle;\n",
       "    }\n",
       "\n",
       "    .dataframe tbody tr th {\n",
       "        vertical-align: top;\n",
       "    }\n",
       "\n",
       "    .dataframe thead th {\n",
       "        text-align: right;\n",
       "    }\n",
       "</style>\n",
       "<table border=\"1\" class=\"dataframe\">\n",
       "  <thead>\n",
       "    <tr style=\"text-align: right;\">\n",
       "      <th></th>\n",
       "      <th>id_origen</th>\n",
       "      <th>ciudad_origen</th>\n",
       "      <th>id_destino</th>\n",
       "      <th>ciudad_destino</th>\n",
       "      <th>salida</th>\n",
       "      <th>llegada</th>\n",
       "      <th>duracion(min)</th>\n",
       "      <th>escalas</th>\n",
       "      <th>aerolinea</th>\n",
       "      <th>precio</th>\n",
       "    </tr>\n",
       "  </thead>\n",
       "  <tbody>\n",
       "    <tr>\n",
       "      <th>0</th>\n",
       "      <td>MAD</td>\n",
       "      <td>Madrid</td>\n",
       "      <td>TFN</td>\n",
       "      <td>Tenerife</td>\n",
       "      <td>2024-11-03 07:05:00</td>\n",
       "      <td>2024-11-03 08:55:00</td>\n",
       "      <td>170</td>\n",
       "      <td>0</td>\n",
       "      <td>Air Europa</td>\n",
       "      <td>174.66</td>\n",
       "    </tr>\n",
       "    <tr>\n",
       "      <th>1</th>\n",
       "      <td>TFN</td>\n",
       "      <td>Tenerife</td>\n",
       "      <td>MAD</td>\n",
       "      <td>Madrid</td>\n",
       "      <td>2024-11-06 17:55:00</td>\n",
       "      <td>2024-11-06 21:40:00</td>\n",
       "      <td>165</td>\n",
       "      <td>0</td>\n",
       "      <td>Air Europa</td>\n",
       "      <td>174.66</td>\n",
       "    </tr>\n",
       "  </tbody>\n",
       "</table>\n",
       "</div>"
      ],
      "text/plain": [
       "  id_origen ciudad_origen id_destino ciudad_destino              salida  \\\n",
       "0       MAD        Madrid        TFN       Tenerife 2024-11-03 07:05:00   \n",
       "1       TFN      Tenerife        MAD         Madrid 2024-11-06 17:55:00   \n",
       "\n",
       "              llegada  duracion(min)  escalas   aerolinea  precio  \n",
       "0 2024-11-03 08:55:00            170        0  Air Europa  174.66  \n",
       "1 2024-11-06 21:40:00            165        0  Air Europa  174.66  "
      ]
     },
     "execution_count": 133,
     "metadata": {},
     "output_type": "execute_result"
    }
   ],
   "source": [
    "# df_vuelos_ida_vuelta_TENE.head(2)"
   ]
  },
  {
   "cell_type": "markdown",
   "metadata": {},
   "source": [
    "web para mirar los códigos:   \n",
    "\n",
    "\n",
    "https://rapidapi.com/apiheya/api/sky-scrapper/playground/apiendpoint_efcce954-2563-41cb-97fc-b2abe7851b3d"
   ]
  },
  {
   "cell_type": "code",
   "execution_count": null,
   "metadata": {},
   "outputs": [],
   "source": [
    "lista_codigos_aeropuertos= [\"MAD\", \"PMI\", \"TENE(TFN)\",\"GMZ\", \"MAH\"]"
   ]
  },
  {
   "cell_type": "markdown",
   "metadata": {},
   "source": [
    "**API de los vuelos(PMI)**  Meter los códigos de aeropuerto que necesitemos"
   ]
  },
  {
   "cell_type": "code",
   "execution_count": 4,
   "metadata": {},
   "outputs": [],
   "source": [
    "url = \"https://sky-scrapper.p.rapidapi.com/api/v2/flights/searchFlights\"\n",
    "\n",
    "querystring = {\"originSkyId\":\"MAD\",\"destinationSkyId\":\"PMI\",\"originEntityId\":\"95565077\",\"destinationEntityId\":\"95565111\",\"date\":\"2024-11-03\",\"returnDate\":\"2024-11-06\",\"cabinClass\":\"economy\",\"adults\":\"1\",\"sortBy\":\"best\",\"limit\":\"50\",\"currency\":\"EUR\"}\n",
    "\n",
    "headers = {\n",
    "\t\"x-rapidapi-key\": \"978309fe9dmshe0626a77c211be6p1786a7jsne7e8845b8cfa\",\n",
    "\t\"x-rapidapi-host\": \"sky-scrapper.p.rapidapi.com\"\n",
    "}\n",
    "\n",
    "response = requests.get(url, headers=headers, params=querystring)\n",
    "\n",
    "responsa=response.json()\n"
   ]
  },
  {
   "cell_type": "code",
   "execution_count": 73,
   "metadata": {},
   "outputs": [],
   "source": [
    "\n",
    "\n",
    "# with open('mallorca.json', 'w') as archivo:\n",
    "#     json.dump(responsa, archivo, indent=4)"
   ]
  },
  {
   "cell_type": "code",
   "execution_count": 98,
   "metadata": {},
   "outputs": [],
   "source": [
    "\n",
    "# res2 = res[\"itineraries\"][0][\"legs\"][0][\"origin\"]\n",
    "# # res3 = res[\"itineraries\"][0][\"legs\"][0][\"destination\"]\n",
    "\n"
   ]
  },
  {
   "cell_type": "code",
   "execution_count": 74,
   "metadata": {},
   "outputs": [],
   "source": [
    "# res= responsa[\"data\"]\n",
    "# precio= res[\"itineraries\"][0][\"price\"][\"raw\"]\n",
    "\n",
    "# id_origen= res[\"itineraries\"][0][\"legs\"][0][\"origin\"][\"id\"]\n",
    "# origen= res[\"itineraries\"][0][\"legs\"][0][\"origin\"][\"city\"]\n",
    "\n",
    "# id_destino= res[\"itineraries\"][0][\"legs\"][0][\"destination\"][\"id\"]\n",
    "# destino= res[\"itineraries\"][0][\"legs\"][0][\"destination\"][\"city\"]\n",
    "\n",
    "# duracion_minuts= res[\"itineraries\"][0][\"legs\"][0][\"durationInMinutes\"]\n",
    "# escalas= res[\"itineraries\"][0][\"legs\"][0][\"stopCount\"]\n",
    "\n",
    "# salida= res[\"itineraries\"][0][\"legs\"][0][\"departure\"]\n",
    "# llegada= res[\"itineraries\"][0][\"legs\"][0][\"arrival\"]\n",
    "\n",
    "# aerolinea= res[\"itineraries\"][0][\"legs\"][0][\"carriers\"][\"marketing\"][0][\"name\"]"
   ]
  },
  {
   "cell_type": "code",
   "execution_count": 75,
   "metadata": {},
   "outputs": [
    {
     "data": {
      "text/plain": [
       "{'id_origen': 'MAD',\n",
       " 'ciudad_origen': 'Madrid',\n",
       " 'id_destino': 'PMI',\n",
       " 'ciudad_destino': 'Palma',\n",
       " 'salida': '2024-11-03T08:35:00',\n",
       " 'llegada': '2024-11-03T10:05:00',\n",
       " 'duracion(min)': 90,\n",
       " 'escalas': 0,\n",
       " 'aerolinea': 'Ryanair',\n",
       " 'precio': 50.77}"
      ]
     },
     "execution_count": 75,
     "metadata": {},
     "output_type": "execute_result"
    }
   ],
   "source": [
    "\n",
    "\n",
    "# dicc= {\"id_origen\":id_origen,\n",
    "#        \"ciudad_origen\":origen,\n",
    "#        \"id_destino\": id_destino,\n",
    "#        \"ciudad_destino\":destino,\n",
    "#        \"salida\":salida,\n",
    "#        \"llegada\":llegada,\n",
    "#        \"duracion(min)\":duracion_minuts,\n",
    "#        \"escalas\":escalas,\n",
    "#        \"aerolinea\":aerolinea,\n",
    "#        \"precio\":precio\n",
    "#         }\n",
    "# dicc"
   ]
  },
  {
   "cell_type": "markdown",
   "metadata": {},
   "source": [
    "Sacar vuelos ida y vuelta a PMI"
   ]
  },
  {
   "cell_type": "code",
   "execution_count": 116,
   "metadata": {},
   "outputs": [],
   "source": [
    "# lista_dicc=[]\n",
    "\n",
    "# for vuelo in range(0,len(res[\"itineraries\"])):\n",
    "#         res= responsa[\"data\"]\n",
    "#         precio= res[\"itineraries\"][vuelo][\"price\"][\"raw\"]\n",
    "#         for i in range(0,2):\n",
    "#                 id_origen= res[\"itineraries\"][vuelo][\"legs\"][i][\"origin\"][\"id\"]\n",
    "#                 origen= res[\"itineraries\"][vuelo][\"legs\"][i][\"origin\"][\"city\"]\n",
    "\n",
    "#                 id_destino= res[\"itineraries\"][vuelo][\"legs\"][i][\"destination\"][\"id\"]\n",
    "#                 destino= res[\"itineraries\"][vuelo][\"legs\"][i][\"destination\"][\"city\"]\n",
    "\n",
    "#                 duracion_minuts= res[\"itineraries\"][vuelo][\"legs\"][i][\"durationInMinutes\"]\n",
    "#                 escalas= res[\"itineraries\"][vuelo][\"legs\"][i][\"stopCount\"]\n",
    "\n",
    "#                 salida= res[\"itineraries\"][vuelo][\"legs\"][i][\"departure\"]\n",
    "#                 llegada= res[\"itineraries\"][vuelo][\"legs\"][i][\"arrival\"]\n",
    "\n",
    "#                 aerolinea= res[\"itineraries\"][vuelo][\"legs\"][i][\"carriers\"][\"marketing\"][0][\"name\"]\n",
    "\n",
    "#                 dicc= {\"id_origen\":id_origen,\n",
    "#                 \"ciudad_origen\":origen,\n",
    "#                 \"id_destino\": id_destino,\n",
    "#                 \"ciudad_destino\":destino,\n",
    "#                 \"salida\":salida,\n",
    "#                 \"llegada\":llegada,\n",
    "#                 \"duracion(min)\":duracion_minuts,\n",
    "#                 \"escalas\":escalas,\n",
    "#                 \"aerolinea\":aerolinea,\n",
    "#                 \"precio\":precio\n",
    "#                 }\n",
    "#                 lista_dicc.append(dicc)\n"
   ]
  },
  {
   "cell_type": "code",
   "execution_count": 132,
   "metadata": {},
   "outputs": [
    {
     "data": {
      "text/html": [
       "<div>\n",
       "<style scoped>\n",
       "    .dataframe tbody tr th:only-of-type {\n",
       "        vertical-align: middle;\n",
       "    }\n",
       "\n",
       "    .dataframe tbody tr th {\n",
       "        vertical-align: top;\n",
       "    }\n",
       "\n",
       "    .dataframe thead th {\n",
       "        text-align: right;\n",
       "    }\n",
       "</style>\n",
       "<table border=\"1\" class=\"dataframe\">\n",
       "  <thead>\n",
       "    <tr style=\"text-align: right;\">\n",
       "      <th></th>\n",
       "      <th>id_origen</th>\n",
       "      <th>ciudad_origen</th>\n",
       "      <th>id_destino</th>\n",
       "      <th>ciudad_destino</th>\n",
       "      <th>salida</th>\n",
       "      <th>llegada</th>\n",
       "      <th>duracion(min)</th>\n",
       "      <th>escalas</th>\n",
       "      <th>aerolinea</th>\n",
       "      <th>precio</th>\n",
       "    </tr>\n",
       "  </thead>\n",
       "  <tbody>\n",
       "    <tr>\n",
       "      <th>0</th>\n",
       "      <td>MAD</td>\n",
       "      <td>Madrid</td>\n",
       "      <td>PMI</td>\n",
       "      <td>Palma</td>\n",
       "      <td>2024-11-03T08:35:00</td>\n",
       "      <td>2024-11-03T10:05:00</td>\n",
       "      <td>90</td>\n",
       "      <td>0</td>\n",
       "      <td>Ryanair</td>\n",
       "      <td>50.77</td>\n",
       "    </tr>\n",
       "    <tr>\n",
       "      <th>1</th>\n",
       "      <td>PMI</td>\n",
       "      <td>Palma</td>\n",
       "      <td>MAD</td>\n",
       "      <td>Madrid</td>\n",
       "      <td>2024-11-06T22:20:00</td>\n",
       "      <td>2024-11-06T23:50:00</td>\n",
       "      <td>90</td>\n",
       "      <td>0</td>\n",
       "      <td>Ryanair</td>\n",
       "      <td>50.77</td>\n",
       "    </tr>\n",
       "  </tbody>\n",
       "</table>\n",
       "</div>"
      ],
      "text/plain": [
       "  id_origen ciudad_origen id_destino ciudad_destino               salida  \\\n",
       "0       MAD        Madrid        PMI          Palma  2024-11-03T08:35:00   \n",
       "1       PMI         Palma        MAD         Madrid  2024-11-06T22:20:00   \n",
       "\n",
       "               llegada  duracion(min)  escalas aerolinea  precio  \n",
       "0  2024-11-03T10:05:00             90        0   Ryanair   50.77  \n",
       "1  2024-11-06T23:50:00             90        0   Ryanair   50.77  "
      ]
     },
     "execution_count": 132,
     "metadata": {},
     "output_type": "execute_result"
    }
   ],
   "source": [
    "# df_vuelos_ida_vuelta_PMI= pd.DataFrame(lista_dicc)\n",
    "# df_vuelos_ida_vuelta_PMI.head(2)"
   ]
  },
  {
   "cell_type": "code",
   "execution_count": 118,
   "metadata": {},
   "outputs": [
    {
     "name": "stdout",
     "output_type": "stream",
     "text": [
      "<class 'pandas.core.frame.DataFrame'>\n",
      "RangeIndex: 20 entries, 0 to 19\n",
      "Data columns (total 10 columns):\n",
      " #   Column          Non-Null Count  Dtype  \n",
      "---  ------          --------------  -----  \n",
      " 0   id_origen       20 non-null     object \n",
      " 1   ciudad_origen   20 non-null     object \n",
      " 2   id_destino      20 non-null     object \n",
      " 3   ciudad_destino  20 non-null     object \n",
      " 4   salida          20 non-null     object \n",
      " 5   llegada         20 non-null     object \n",
      " 6   duracion(min)   20 non-null     int64  \n",
      " 7   escalas         20 non-null     int64  \n",
      " 8   aerolinea       20 non-null     object \n",
      " 9   precio          20 non-null     float64\n",
      "dtypes: float64(1), int64(2), object(7)\n",
      "memory usage: 1.7+ KB\n"
     ]
    }
   ],
   "source": [
    "# df_vuelos_ida_vuelta_PMI.info()"
   ]
  },
  {
   "cell_type": "markdown",
   "metadata": {},
   "source": [
    "Formateo:\n"
   ]
  },
  {
   "cell_type": "code",
   "execution_count": 119,
   "metadata": {},
   "outputs": [
    {
     "name": "stdout",
     "output_type": "stream",
     "text": [
      "<class 'pandas.core.frame.DataFrame'>\n",
      "RangeIndex: 20 entries, 0 to 19\n",
      "Data columns (total 10 columns):\n",
      " #   Column          Non-Null Count  Dtype         \n",
      "---  ------          --------------  -----         \n",
      " 0   id_origen       20 non-null     object        \n",
      " 1   ciudad_origen   20 non-null     object        \n",
      " 2   id_destino      20 non-null     object        \n",
      " 3   ciudad_destino  20 non-null     object        \n",
      " 4   salida          20 non-null     datetime64[ns]\n",
      " 5   llegada         20 non-null     datetime64[ns]\n",
      " 6   duracion(min)   20 non-null     int64         \n",
      " 7   escalas         20 non-null     int64         \n",
      " 8   aerolinea       20 non-null     object        \n",
      " 9   precio          20 non-null     float64       \n",
      "dtypes: datetime64[ns](2), float64(1), int64(2), object(5)\n",
      "memory usage: 1.7+ KB\n"
     ]
    }
   ],
   "source": [
    "# df_vuelos_ida_vuelta_PMI[\"salida\"]= pd.to_datetime(df_vuelos_ida_vuelta_PMI[\"salida\"])\n",
    "# df_vuelos_ida_vuelta_PMI[\"llegada\"]= pd.to_datetime(df_vuelos_ida_vuelta_PMI[\"llegada\"])\n",
    "# df_vuelos_ida_vuelta_PMI.info()"
   ]
  },
  {
   "cell_type": "markdown",
   "metadata": {},
   "source": [
    "**DF vuelos de PMI Done**"
   ]
  },
  {
   "cell_type": "code",
   "execution_count": 120,
   "metadata": {},
   "outputs": [
    {
     "data": {
      "text/html": [
       "<div>\n",
       "<style scoped>\n",
       "    .dataframe tbody tr th:only-of-type {\n",
       "        vertical-align: middle;\n",
       "    }\n",
       "\n",
       "    .dataframe tbody tr th {\n",
       "        vertical-align: top;\n",
       "    }\n",
       "\n",
       "    .dataframe thead th {\n",
       "        text-align: right;\n",
       "    }\n",
       "</style>\n",
       "<table border=\"1\" class=\"dataframe\">\n",
       "  <thead>\n",
       "    <tr style=\"text-align: right;\">\n",
       "      <th></th>\n",
       "      <th>id_origen</th>\n",
       "      <th>ciudad_origen</th>\n",
       "      <th>id_destino</th>\n",
       "      <th>ciudad_destino</th>\n",
       "      <th>salida</th>\n",
       "      <th>llegada</th>\n",
       "      <th>duracion(min)</th>\n",
       "      <th>escalas</th>\n",
       "      <th>aerolinea</th>\n",
       "      <th>precio</th>\n",
       "    </tr>\n",
       "  </thead>\n",
       "  <tbody>\n",
       "    <tr>\n",
       "      <th>0</th>\n",
       "      <td>MAD</td>\n",
       "      <td>Madrid</td>\n",
       "      <td>PMI</td>\n",
       "      <td>Palma</td>\n",
       "      <td>2024-11-03 08:35:00</td>\n",
       "      <td>2024-11-03 10:05:00</td>\n",
       "      <td>90</td>\n",
       "      <td>0</td>\n",
       "      <td>Ryanair</td>\n",
       "      <td>50.77</td>\n",
       "    </tr>\n",
       "    <tr>\n",
       "      <th>1</th>\n",
       "      <td>PMI</td>\n",
       "      <td>Palma</td>\n",
       "      <td>MAD</td>\n",
       "      <td>Madrid</td>\n",
       "      <td>2024-11-06 22:20:00</td>\n",
       "      <td>2024-11-06 23:50:00</td>\n",
       "      <td>90</td>\n",
       "      <td>0</td>\n",
       "      <td>Ryanair</td>\n",
       "      <td>50.77</td>\n",
       "    </tr>\n",
       "    <tr>\n",
       "      <th>2</th>\n",
       "      <td>MAD</td>\n",
       "      <td>Madrid</td>\n",
       "      <td>PMI</td>\n",
       "      <td>Palma</td>\n",
       "      <td>2024-11-03 08:35:00</td>\n",
       "      <td>2024-11-03 10:05:00</td>\n",
       "      <td>90</td>\n",
       "      <td>0</td>\n",
       "      <td>Ryanair</td>\n",
       "      <td>65.49</td>\n",
       "    </tr>\n",
       "    <tr>\n",
       "      <th>3</th>\n",
       "      <td>PMI</td>\n",
       "      <td>Palma</td>\n",
       "      <td>MAD</td>\n",
       "      <td>Madrid</td>\n",
       "      <td>2024-11-06 10:55:00</td>\n",
       "      <td>2024-11-06 12:25:00</td>\n",
       "      <td>90</td>\n",
       "      <td>0</td>\n",
       "      <td>Ryanair</td>\n",
       "      <td>65.49</td>\n",
       "    </tr>\n",
       "    <tr>\n",
       "      <th>4</th>\n",
       "      <td>MAD</td>\n",
       "      <td>Madrid</td>\n",
       "      <td>PMI</td>\n",
       "      <td>Palma</td>\n",
       "      <td>2024-11-03 07:05:00</td>\n",
       "      <td>2024-11-03 08:30:00</td>\n",
       "      <td>85</td>\n",
       "      <td>0</td>\n",
       "      <td>Iberia Express</td>\n",
       "      <td>46.60</td>\n",
       "    </tr>\n",
       "  </tbody>\n",
       "</table>\n",
       "</div>"
      ],
      "text/plain": [
       "  id_origen ciudad_origen id_destino ciudad_destino              salida  \\\n",
       "0       MAD        Madrid        PMI          Palma 2024-11-03 08:35:00   \n",
       "1       PMI         Palma        MAD         Madrid 2024-11-06 22:20:00   \n",
       "2       MAD        Madrid        PMI          Palma 2024-11-03 08:35:00   \n",
       "3       PMI         Palma        MAD         Madrid 2024-11-06 10:55:00   \n",
       "4       MAD        Madrid        PMI          Palma 2024-11-03 07:05:00   \n",
       "\n",
       "              llegada  duracion(min)  escalas       aerolinea  precio  \n",
       "0 2024-11-03 10:05:00             90        0         Ryanair   50.77  \n",
       "1 2024-11-06 23:50:00             90        0         Ryanair   50.77  \n",
       "2 2024-11-03 10:05:00             90        0         Ryanair   65.49  \n",
       "3 2024-11-06 12:25:00             90        0         Ryanair   65.49  \n",
       "4 2024-11-03 08:30:00             85        0  Iberia Express   46.60  "
      ]
     },
     "execution_count": 120,
     "metadata": {},
     "output_type": "execute_result"
    }
   ],
   "source": [
    "# df_vuelos_ida_vuelta_PMI.head()"
   ]
  },
  {
   "cell_type": "markdown",
   "metadata": {},
   "source": [
    "**Funciones vuelos(ya pasadas a .py):**"
   ]
  },
  {
   "cell_type": "code",
   "execution_count": 5,
   "metadata": {},
   "outputs": [],
   "source": [
    "def info_vuelos(request_jeison):\n",
    "    lista_dicc=[]\n",
    "    res= request_jeison[\"data\"]\n",
    "\n",
    "    for vuelo in range(0,len(res[\"itineraries\"])): \n",
    "        precio= res[\"itineraries\"][vuelo][\"price\"][\"raw\"]\n",
    "\n",
    "        for i in range(0,2):\n",
    "                id_origen= res[\"itineraries\"][vuelo][\"legs\"][i][\"origin\"][\"id\"]\n",
    "                origen= res[\"itineraries\"][vuelo][\"legs\"][i][\"origin\"][\"city\"]\n",
    "\n",
    "                id_destino= res[\"itineraries\"][vuelo][\"legs\"][i][\"destination\"][\"id\"]\n",
    "                destino= res[\"itineraries\"][vuelo][\"legs\"][i][\"destination\"][\"city\"]\n",
    "\n",
    "                duracion_minuts= res[\"itineraries\"][vuelo][\"legs\"][i][\"durationInMinutes\"]\n",
    "                escalas= res[\"itineraries\"][vuelo][\"legs\"][i][\"stopCount\"]\n",
    "\n",
    "                salida= res[\"itineraries\"][vuelo][\"legs\"][i][\"departure\"]\n",
    "                llegada= res[\"itineraries\"][vuelo][\"legs\"][i][\"arrival\"]\n",
    "\n",
    "                aerolinea= res[\"itineraries\"][vuelo][\"legs\"][i][\"carriers\"][\"marketing\"][0][\"name\"]\n",
    "\n",
    "                dicc= {\"id_origen\":id_origen,\n",
    "                \"ciudad_origen\":origen,\n",
    "                \"id_destino\": id_destino,\n",
    "                \"ciudad_destino\":destino,\n",
    "                \"salida\":salida,\n",
    "                \"llegada\":llegada,\n",
    "                \"duracion(min)\":duracion_minuts,\n",
    "                \"escalas\":escalas,\n",
    "                \"aerolinea\":aerolinea,\n",
    "                \"precio\":precio\n",
    "                }\n",
    "                lista_dicc.append(dicc)\n",
    "    return lista_dicc\n",
    "\n",
    "        "
   ]
  },
  {
   "cell_type": "code",
   "execution_count": 130,
   "metadata": {},
   "outputs": [],
   "source": [
    "# info_vuelos(respuesta)     #Lo menciono para que NO MOLESTE"
   ]
  },
  {
   "cell_type": "code",
   "execution_count": 7,
   "metadata": {},
   "outputs": [],
   "source": [
    "def crearDF_formateado(funcion_info_vuelos):\n",
    "\n",
    "    df_vuelos_ida_vuelta= pd.DataFrame(funcion_info_vuelos)\n",
    "    df_vuelos_ida_vuelta[\"salida\"]= pd.to_datetime(df_vuelos_ida_vuelta[\"salida\"])\n",
    "    df_vuelos_ida_vuelta[\"llegada\"]= pd.to_datetime(df_vuelos_ida_vuelta[\"llegada\"])\n",
    "    return df_vuelos_ida_vuelta"
   ]
  },
  {
   "cell_type": "code",
   "execution_count": 131,
   "metadata": {},
   "outputs": [],
   "source": [
    "#crearDF_formateado(info_vuelos(respuesta))    #Lo menciono para que NO MOLESTE"
   ]
  },
  {
   "cell_type": "markdown",
   "metadata": {},
   "source": [
    "**Concat de las pags de pmi y tene**  \n",
    "\n"
   ]
  },
  {
   "cell_type": "code",
   "execution_count": 48,
   "metadata": {},
   "outputs": [],
   "source": [
    "hotel_tene_1=pd.read_csv(\"datos/hotel_tene_1.csv\")\n",
    "hotel_tene_2=pd.read_csv(\"datos/hotel_tene_2.csv\")\n",
    "hotel_tene_3=pd.read_csv(\"datos/hotel_tene_3.csv\")\n",
    "hotel_tene_4=pd.read_csv(\"datos/hotel_tene_4.csv\")\n",
    "\n",
    "\n",
    "hotel_pmi_1=pd.read_csv(\"datos/hotel_pmi_1.csv\")\n",
    "hotel_pmi_2=pd.read_csv(\"datos/hotel_pmi_2.csv\")\n",
    "hotel_pmi_3=pd.read_csv(\"datos/hotel_pmi_3.csv\")\n",
    "hotel_pmi_4=pd.read_csv(\"datos/hotel_pmi_4.csv\")\n",
    "hotel_pmi_5=pd.read_csv(\"datos/hotel_pmi_5.csv\")\n",
    "hotel_pmi_6=pd.read_csv(\"datos/hotel_pmi_6.csv\")\n",
    "hotel_pmi_7=pd.read_csv(\"datos/hotel_pmi_7.csv\")\n",
    "hotel_pmi_8=pd.read_csv(\"datos/hotel_pmi_8.csv\")\n"
   ]
  },
  {
   "cell_type": "code",
   "execution_count": 50,
   "metadata": {},
   "outputs": [],
   "source": [
    "df_hoteles_pmi=pd.DataFrame()\n",
    "df_hoteles_pmi= pd.concat([df_hoteles_pmi,hotel_pmi_1,hotel_pmi_2,hotel_pmi_3,hotel_pmi_4,hotel_pmi_5,hotel_pmi_6,hotel_pmi_7,hotel_pmi_8], ignore_index= True)"
   ]
  },
  {
   "cell_type": "code",
   "execution_count": 56,
   "metadata": {},
   "outputs": [
    {
     "data": {
      "text/html": [
       "<div>\n",
       "<style scoped>\n",
       "    .dataframe tbody tr th:only-of-type {\n",
       "        vertical-align: middle;\n",
       "    }\n",
       "\n",
       "    .dataframe tbody tr th {\n",
       "        vertical-align: top;\n",
       "    }\n",
       "\n",
       "    .dataframe thead th {\n",
       "        text-align: right;\n",
       "    }\n",
       "</style>\n",
       "<table border=\"1\" class=\"dataframe\">\n",
       "  <thead>\n",
       "    <tr style=\"text-align: right;\">\n",
       "      <th></th>\n",
       "      <th>count</th>\n",
       "      <th>mean</th>\n",
       "      <th>std</th>\n",
       "      <th>min</th>\n",
       "      <th>25%</th>\n",
       "      <th>50%</th>\n",
       "      <th>75%</th>\n",
       "      <th>max</th>\n",
       "    </tr>\n",
       "  </thead>\n",
       "  <tbody>\n",
       "    <tr>\n",
       "      <th>reviews_hotel</th>\n",
       "      <td>216.0</td>\n",
       "      <td>322.356481</td>\n",
       "      <td>615.907421</td>\n",
       "      <td>0.0</td>\n",
       "      <td>2.00</td>\n",
       "      <td>39.0</td>\n",
       "      <td>336.75</td>\n",
       "      <td>3702.0</td>\n",
       "    </tr>\n",
       "    <tr>\n",
       "      <th>rating_hotel</th>\n",
       "      <td>216.0</td>\n",
       "      <td>3.537037</td>\n",
       "      <td>1.624956</td>\n",
       "      <td>0.0</td>\n",
       "      <td>3.00</td>\n",
       "      <td>4.0</td>\n",
       "      <td>4.50</td>\n",
       "      <td>5.0</td>\n",
       "    </tr>\n",
       "    <tr>\n",
       "      <th>precio_medio_por noche</th>\n",
       "      <td>155.0</td>\n",
       "      <td>230.874194</td>\n",
       "      <td>116.262796</td>\n",
       "      <td>30.0</td>\n",
       "      <td>150.25</td>\n",
       "      <td>219.5</td>\n",
       "      <td>300.25</td>\n",
       "      <td>631.5</td>\n",
       "    </tr>\n",
       "  </tbody>\n",
       "</table>\n",
       "</div>"
      ],
      "text/plain": [
       "                        count        mean         std   min     25%    50%  \\\n",
       "reviews_hotel           216.0  322.356481  615.907421   0.0    2.00   39.0   \n",
       "rating_hotel            216.0    3.537037    1.624956   0.0    3.00    4.0   \n",
       "precio_medio_por noche  155.0  230.874194  116.262796  30.0  150.25  219.5   \n",
       "\n",
       "                           75%     max  \n",
       "reviews_hotel           336.75  3702.0  \n",
       "rating_hotel              4.50     5.0  \n",
       "precio_medio_por noche  300.25   631.5  "
      ]
     },
     "execution_count": 56,
     "metadata": {},
     "output_type": "execute_result"
    }
   ],
   "source": [
    "df_hoteles_pmi.describe().T\n"
   ]
  },
  {
   "cell_type": "code",
   "execution_count": 57,
   "metadata": {},
   "outputs": [
    {
     "data": {
      "text/html": [
       "<div>\n",
       "<style scoped>\n",
       "    .dataframe tbody tr th:only-of-type {\n",
       "        vertical-align: middle;\n",
       "    }\n",
       "\n",
       "    .dataframe tbody tr th {\n",
       "        vertical-align: top;\n",
       "    }\n",
       "\n",
       "    .dataframe thead th {\n",
       "        text-align: right;\n",
       "    }\n",
       "</style>\n",
       "<table border=\"1\" class=\"dataframe\">\n",
       "  <thead>\n",
       "    <tr style=\"text-align: right;\">\n",
       "      <th></th>\n",
       "      <th>count</th>\n",
       "      <th>unique</th>\n",
       "      <th>top</th>\n",
       "      <th>freq</th>\n",
       "    </tr>\n",
       "  </thead>\n",
       "  <tbody>\n",
       "    <tr>\n",
       "      <th>nombre_hotel</th>\n",
       "      <td>216</td>\n",
       "      <td>204</td>\n",
       "      <td>Metropolitan Juka Playa</td>\n",
       "      <td>3</td>\n",
       "    </tr>\n",
       "    <tr>\n",
       "      <th>ciudad</th>\n",
       "      <td>216</td>\n",
       "      <td>1</td>\n",
       "      <td>Palma de Mallorca</td>\n",
       "      <td>216</td>\n",
       "    </tr>\n",
       "    <tr>\n",
       "      <th>servicios</th>\n",
       "      <td>216</td>\n",
       "      <td>75</td>\n",
       "      <td>[]</td>\n",
       "      <td>67</td>\n",
       "    </tr>\n",
       "    <tr>\n",
       "      <th>link</th>\n",
       "      <td>216</td>\n",
       "      <td>206</td>\n",
       "      <td>https://www.tripadvisor.com/Hotel_Review-g1874...</td>\n",
       "      <td>2</td>\n",
       "    </tr>\n",
       "  </tbody>\n",
       "</table>\n",
       "</div>"
      ],
      "text/plain": [
       "             count unique                                                top  \\\n",
       "nombre_hotel   216    204                            Metropolitan Juka Playa   \n",
       "ciudad         216      1                                  Palma de Mallorca   \n",
       "servicios      216     75                                                 []   \n",
       "link           216    206  https://www.tripadvisor.com/Hotel_Review-g1874...   \n",
       "\n",
       "             freq  \n",
       "nombre_hotel    3  \n",
       "ciudad        216  \n",
       "servicios      67  \n",
       "link            2  "
      ]
     },
     "execution_count": 57,
     "metadata": {},
     "output_type": "execute_result"
    }
   ],
   "source": [
    "df_hoteles_pmi.describe(include=\"O\").T"
   ]
  },
  {
   "cell_type": "code",
   "execution_count": 58,
   "metadata": {},
   "outputs": [],
   "source": [
    "df_hoteles_tene=pd.DataFrame()\n",
    "df_hoteles_tene= pd.concat([df_hoteles_tene,hotel_tene_1,hotel_tene_2,hotel_tene_3,hotel_tene_4], ignore_index= True)"
   ]
  },
  {
   "cell_type": "code",
   "execution_count": 64,
   "metadata": {},
   "outputs": [
    {
     "name": "stdout",
     "output_type": "stream",
     "text": [
      "<class 'pandas.core.frame.DataFrame'>\n",
      "RangeIndex: 216 entries, 0 to 215\n",
      "Data columns (total 7 columns):\n",
      " #   Column                  Non-Null Count  Dtype  \n",
      "---  ------                  --------------  -----  \n",
      " 0   nombre_hotel            216 non-null    object \n",
      " 1   reviews_hotel           216 non-null    int64  \n",
      " 2   rating_hotel            216 non-null    float64\n",
      " 3   precio_medio_por noche  155 non-null    float64\n",
      " 4   ciudad                  216 non-null    object \n",
      " 5   servicios               216 non-null    object \n",
      " 6   link                    216 non-null    object \n",
      "dtypes: float64(2), int64(1), object(4)\n",
      "memory usage: 11.9+ KB\n"
     ]
    }
   ],
   "source": [
    "df_hoteles_pmi.info()"
   ]
  },
  {
   "cell_type": "markdown",
   "metadata": {},
   "source": [
    "**Hay datos nulos en el precio medio asi que habrá que gestionarlo en algun momento**  \n",
    "\n",
    "se pierde un 33,94% de tenerife si se eliminan los nulos     \n",
    "se pierde un 28,24% de pmi si se eliminan los nulos   \n",
    "respecto al total, se pierde un 30% respecto al total\n",
    "\n",
    "Me planteo rellenarlo con la media"
   ]
  },
  {
   "cell_type": "code",
   "execution_count": 59,
   "metadata": {},
   "outputs": [
    {
     "name": "stdout",
     "output_type": "stream",
     "text": [
      "<class 'pandas.core.frame.DataFrame'>\n",
      "RangeIndex: 109 entries, 0 to 108\n",
      "Data columns (total 7 columns):\n",
      " #   Column                  Non-Null Count  Dtype  \n",
      "---  ------                  --------------  -----  \n",
      " 0   nombre_hotel            109 non-null    object \n",
      " 1   reviews_hotel           109 non-null    int64  \n",
      " 2   rating_hotel            109 non-null    float64\n",
      " 3   precio_medio_por noche  72 non-null     float64\n",
      " 4   ciudad                  109 non-null    object \n",
      " 5   servicios               109 non-null    object \n",
      " 6   link                    109 non-null    object \n",
      "dtypes: float64(2), int64(1), object(4)\n",
      "memory usage: 6.1+ KB\n"
     ]
    }
   ],
   "source": [
    "df_hoteles_tene.info()"
   ]
  },
  {
   "cell_type": "code",
   "execution_count": 60,
   "metadata": {},
   "outputs": [
    {
     "data": {
      "text/html": [
       "<div>\n",
       "<style scoped>\n",
       "    .dataframe tbody tr th:only-of-type {\n",
       "        vertical-align: middle;\n",
       "    }\n",
       "\n",
       "    .dataframe tbody tr th {\n",
       "        vertical-align: top;\n",
       "    }\n",
       "\n",
       "    .dataframe thead th {\n",
       "        text-align: right;\n",
       "    }\n",
       "</style>\n",
       "<table border=\"1\" class=\"dataframe\">\n",
       "  <thead>\n",
       "    <tr style=\"text-align: right;\">\n",
       "      <th></th>\n",
       "      <th>count</th>\n",
       "      <th>mean</th>\n",
       "      <th>std</th>\n",
       "      <th>min</th>\n",
       "      <th>25%</th>\n",
       "      <th>50%</th>\n",
       "      <th>75%</th>\n",
       "      <th>max</th>\n",
       "    </tr>\n",
       "  </thead>\n",
       "  <tbody>\n",
       "    <tr>\n",
       "      <th>reviews_hotel</th>\n",
       "      <td>109.0</td>\n",
       "      <td>108.733945</td>\n",
       "      <td>374.916673</td>\n",
       "      <td>0.0</td>\n",
       "      <td>0.000</td>\n",
       "      <td>3.0</td>\n",
       "      <td>32.000</td>\n",
       "      <td>2829.0</td>\n",
       "    </tr>\n",
       "    <tr>\n",
       "      <th>rating_hotel</th>\n",
       "      <td>109.0</td>\n",
       "      <td>2.518349</td>\n",
       "      <td>1.995280</td>\n",
       "      <td>0.0</td>\n",
       "      <td>0.000</td>\n",
       "      <td>3.5</td>\n",
       "      <td>4.000</td>\n",
       "      <td>5.0</td>\n",
       "    </tr>\n",
       "    <tr>\n",
       "      <th>precio_medio_por noche</th>\n",
       "      <td>72.0</td>\n",
       "      <td>92.027778</td>\n",
       "      <td>36.722397</td>\n",
       "      <td>26.0</td>\n",
       "      <td>63.125</td>\n",
       "      <td>88.5</td>\n",
       "      <td>121.125</td>\n",
       "      <td>178.5</td>\n",
       "    </tr>\n",
       "  </tbody>\n",
       "</table>\n",
       "</div>"
      ],
      "text/plain": [
       "                        count        mean         std   min     25%   50%  \\\n",
       "reviews_hotel           109.0  108.733945  374.916673   0.0   0.000   3.0   \n",
       "rating_hotel            109.0    2.518349    1.995280   0.0   0.000   3.5   \n",
       "precio_medio_por noche   72.0   92.027778   36.722397  26.0  63.125  88.5   \n",
       "\n",
       "                            75%     max  \n",
       "reviews_hotel            32.000  2829.0  \n",
       "rating_hotel              4.000     5.0  \n",
       "precio_medio_por noche  121.125   178.5  "
      ]
     },
     "execution_count": 60,
     "metadata": {},
     "output_type": "execute_result"
    }
   ],
   "source": [
    "df_hoteles_tene.describe().T"
   ]
  },
  {
   "cell_type": "code",
   "execution_count": 61,
   "metadata": {},
   "outputs": [
    {
     "data": {
      "text/html": [
       "<div>\n",
       "<style scoped>\n",
       "    .dataframe tbody tr th:only-of-type {\n",
       "        vertical-align: middle;\n",
       "    }\n",
       "\n",
       "    .dataframe tbody tr th {\n",
       "        vertical-align: top;\n",
       "    }\n",
       "\n",
       "    .dataframe thead th {\n",
       "        text-align: right;\n",
       "    }\n",
       "</style>\n",
       "<table border=\"1\" class=\"dataframe\">\n",
       "  <thead>\n",
       "    <tr style=\"text-align: right;\">\n",
       "      <th></th>\n",
       "      <th>count</th>\n",
       "      <th>unique</th>\n",
       "      <th>top</th>\n",
       "      <th>freq</th>\n",
       "    </tr>\n",
       "  </thead>\n",
       "  <tbody>\n",
       "    <tr>\n",
       "      <th>nombre_hotel</th>\n",
       "      <td>109</td>\n",
       "      <td>102</td>\n",
       "      <td>Montes de Anaga Hostel</td>\n",
       "      <td>2</td>\n",
       "    </tr>\n",
       "    <tr>\n",
       "      <th>ciudad</th>\n",
       "      <td>109</td>\n",
       "      <td>1</td>\n",
       "      <td>Santa Cruz de Tenerife</td>\n",
       "      <td>109</td>\n",
       "    </tr>\n",
       "    <tr>\n",
       "      <th>servicios</th>\n",
       "      <td>109</td>\n",
       "      <td>26</td>\n",
       "      <td>[]</td>\n",
       "      <td>61</td>\n",
       "    </tr>\n",
       "    <tr>\n",
       "      <th>link</th>\n",
       "      <td>109</td>\n",
       "      <td>102</td>\n",
       "      <td>https://www.tripadvisor.com/Hotel_Review-g1874...</td>\n",
       "      <td>2</td>\n",
       "    </tr>\n",
       "  </tbody>\n",
       "</table>\n",
       "</div>"
      ],
      "text/plain": [
       "             count unique                                                top  \\\n",
       "nombre_hotel   109    102                             Montes de Anaga Hostel   \n",
       "ciudad         109      1                             Santa Cruz de Tenerife   \n",
       "servicios      109     26                                                 []   \n",
       "link           109    102  https://www.tripadvisor.com/Hotel_Review-g1874...   \n",
       "\n",
       "             freq  \n",
       "nombre_hotel    2  \n",
       "ciudad        109  \n",
       "servicios      61  \n",
       "link            2  "
      ]
     },
     "execution_count": 61,
     "metadata": {},
     "output_type": "execute_result"
    }
   ],
   "source": [
    "df_hoteles_tene.describe(include=\"O\").T"
   ]
  },
  {
   "cell_type": "code",
   "execution_count": 65,
   "metadata": {},
   "outputs": [],
   "source": [
    "df_hoteles_total= pd.DataFrame()\n",
    "df_hoteles_total=pd.concat([df_hoteles_total,df_hoteles_pmi,df_hoteles_tene], ignore_index= True)"
   ]
  },
  {
   "cell_type": "code",
   "execution_count": 66,
   "metadata": {},
   "outputs": [
    {
     "data": {
      "text/html": [
       "<div>\n",
       "<style scoped>\n",
       "    .dataframe tbody tr th:only-of-type {\n",
       "        vertical-align: middle;\n",
       "    }\n",
       "\n",
       "    .dataframe tbody tr th {\n",
       "        vertical-align: top;\n",
       "    }\n",
       "\n",
       "    .dataframe thead th {\n",
       "        text-align: right;\n",
       "    }\n",
       "</style>\n",
       "<table border=\"1\" class=\"dataframe\">\n",
       "  <thead>\n",
       "    <tr style=\"text-align: right;\">\n",
       "      <th></th>\n",
       "      <th>nombre_hotel</th>\n",
       "      <th>reviews_hotel</th>\n",
       "      <th>rating_hotel</th>\n",
       "      <th>precio_medio_por noche</th>\n",
       "      <th>ciudad</th>\n",
       "      <th>servicios</th>\n",
       "      <th>link</th>\n",
       "    </tr>\n",
       "  </thead>\n",
       "  <tbody>\n",
       "    <tr>\n",
       "      <th>0</th>\n",
       "      <td>Hotel Costa Azul</td>\n",
       "      <td>2081</td>\n",
       "      <td>4.5</td>\n",
       "      <td>177.0</td>\n",
       "      <td>Palma de Mallorca</td>\n",
       "      <td>['Free Wifi', 'Pool', 'Indoor pool', 'Restaura...</td>\n",
       "      <td>https://www.tripadvisor.com/Hotel_Review-g1874...</td>\n",
       "    </tr>\n",
       "    <tr>\n",
       "      <th>1</th>\n",
       "      <td>Hotel Victoria Gran Meliá</td>\n",
       "      <td>2447</td>\n",
       "      <td>4.5</td>\n",
       "      <td>270.0</td>\n",
       "      <td>Palma de Mallorca</td>\n",
       "      <td>['Free Wifi', 'Pool', 'Heated pool', 'Indoor p...</td>\n",
       "      <td>https://www.tripadvisor.com/Hotel_Review-g1874...</td>\n",
       "    </tr>\n",
       "    <tr>\n",
       "      <th>2</th>\n",
       "      <td>Nakar Hotel</td>\n",
       "      <td>2327</td>\n",
       "      <td>5.0</td>\n",
       "      <td>349.5</td>\n",
       "      <td>Palma de Mallorca</td>\n",
       "      <td>['Free Wifi', 'Breakfast included', 'Pool', 'H...</td>\n",
       "      <td>https://www.tripadvisor.com/Hotel_Review-g1874...</td>\n",
       "    </tr>\n",
       "    <tr>\n",
       "      <th>3</th>\n",
       "      <td>INNSiDE Palma Bosque</td>\n",
       "      <td>1082</td>\n",
       "      <td>4.5</td>\n",
       "      <td>160.0</td>\n",
       "      <td>Palma de Mallorca</td>\n",
       "      <td>['Free Wifi', 'Indoor pool', 'Outdoor pool', '...</td>\n",
       "      <td>https://www.tripadvisor.com/Hotel_Review-g1874...</td>\n",
       "    </tr>\n",
       "    <tr>\n",
       "      <th>4</th>\n",
       "      <td>BQ Belvedere Hotel</td>\n",
       "      <td>3702</td>\n",
       "      <td>4.0</td>\n",
       "      <td>154.0</td>\n",
       "      <td>Palma de Mallorca</td>\n",
       "      <td>['Free parking', 'Pool', 'Outdoor pool', 'Rest...</td>\n",
       "      <td>https://www.tripadvisor.com/Hotel_Review-g1874...</td>\n",
       "    </tr>\n",
       "  </tbody>\n",
       "</table>\n",
       "</div>"
      ],
      "text/plain": [
       "                nombre_hotel  reviews_hotel  rating_hotel  \\\n",
       "0           Hotel Costa Azul           2081           4.5   \n",
       "1  Hotel Victoria Gran Meliá           2447           4.5   \n",
       "2                Nakar Hotel           2327           5.0   \n",
       "3       INNSiDE Palma Bosque           1082           4.5   \n",
       "4         BQ Belvedere Hotel           3702           4.0   \n",
       "\n",
       "   precio_medio_por noche             ciudad  \\\n",
       "0                   177.0  Palma de Mallorca   \n",
       "1                   270.0  Palma de Mallorca   \n",
       "2                   349.5  Palma de Mallorca   \n",
       "3                   160.0  Palma de Mallorca   \n",
       "4                   154.0  Palma de Mallorca   \n",
       "\n",
       "                                           servicios  \\\n",
       "0  ['Free Wifi', 'Pool', 'Indoor pool', 'Restaura...   \n",
       "1  ['Free Wifi', 'Pool', 'Heated pool', 'Indoor p...   \n",
       "2  ['Free Wifi', 'Breakfast included', 'Pool', 'H...   \n",
       "3  ['Free Wifi', 'Indoor pool', 'Outdoor pool', '...   \n",
       "4  ['Free parking', 'Pool', 'Outdoor pool', 'Rest...   \n",
       "\n",
       "                                                link  \n",
       "0  https://www.tripadvisor.com/Hotel_Review-g1874...  \n",
       "1  https://www.tripadvisor.com/Hotel_Review-g1874...  \n",
       "2  https://www.tripadvisor.com/Hotel_Review-g1874...  \n",
       "3  https://www.tripadvisor.com/Hotel_Review-g1874...  \n",
       "4  https://www.tripadvisor.com/Hotel_Review-g1874...  "
      ]
     },
     "execution_count": 66,
     "metadata": {},
     "output_type": "execute_result"
    }
   ],
   "source": [
    "df_hoteles_total.head()"
   ]
  },
  {
   "cell_type": "code",
   "execution_count": 68,
   "metadata": {},
   "outputs": [
    {
     "data": {
      "text/plain": [
       "(325, 7)"
      ]
     },
     "execution_count": 68,
     "metadata": {},
     "output_type": "execute_result"
    }
   ],
   "source": [
    "df_hoteles_total.shape"
   ]
  },
  {
   "cell_type": "code",
   "execution_count": 69,
   "metadata": {},
   "outputs": [
    {
     "name": "stdout",
     "output_type": "stream",
     "text": [
      "<class 'pandas.core.frame.DataFrame'>\n",
      "RangeIndex: 325 entries, 0 to 324\n",
      "Data columns (total 7 columns):\n",
      " #   Column                  Non-Null Count  Dtype  \n",
      "---  ------                  --------------  -----  \n",
      " 0   nombre_hotel            325 non-null    object \n",
      " 1   reviews_hotel           325 non-null    int64  \n",
      " 2   rating_hotel            325 non-null    float64\n",
      " 3   precio_medio_por noche  227 non-null    float64\n",
      " 4   ciudad                  325 non-null    object \n",
      " 5   servicios               325 non-null    object \n",
      " 6   link                    325 non-null    object \n",
      "dtypes: float64(2), int64(1), object(4)\n",
      "memory usage: 17.9+ KB\n"
     ]
    }
   ],
   "source": [
    "df_hoteles_total.info()"
   ]
  },
  {
   "cell_type": "markdown",
   "metadata": {},
   "source": [
    "Los describes no me sirven en el total porque lo que quiero es comparar. (Para visualizar haré group by)"
   ]
  },
  {
   "cell_type": "code",
   "execution_count": 70,
   "metadata": {},
   "outputs": [
    {
     "data": {
      "text/html": [
       "<div>\n",
       "<style scoped>\n",
       "    .dataframe tbody tr th:only-of-type {\n",
       "        vertical-align: middle;\n",
       "    }\n",
       "\n",
       "    .dataframe tbody tr th {\n",
       "        vertical-align: top;\n",
       "    }\n",
       "\n",
       "    .dataframe thead th {\n",
       "        text-align: right;\n",
       "    }\n",
       "</style>\n",
       "<table border=\"1\" class=\"dataframe\">\n",
       "  <thead>\n",
       "    <tr style=\"text-align: right;\">\n",
       "      <th></th>\n",
       "      <th>reviews_hotel</th>\n",
       "      <th>rating_hotel</th>\n",
       "      <th>precio_medio_por noche</th>\n",
       "    </tr>\n",
       "  </thead>\n",
       "  <tbody>\n",
       "    <tr>\n",
       "      <th>count</th>\n",
       "      <td>325.000000</td>\n",
       "      <td>325.000000</td>\n",
       "      <td>227.000000</td>\n",
       "    </tr>\n",
       "    <tr>\n",
       "      <th>mean</th>\n",
       "      <td>250.710769</td>\n",
       "      <td>3.195385</td>\n",
       "      <td>186.834802</td>\n",
       "    </tr>\n",
       "    <tr>\n",
       "      <th>std</th>\n",
       "      <td>555.681044</td>\n",
       "      <td>1.819682</td>\n",
       "      <td>117.592932</td>\n",
       "    </tr>\n",
       "    <tr>\n",
       "      <th>min</th>\n",
       "      <td>0.000000</td>\n",
       "      <td>0.000000</td>\n",
       "      <td>26.000000</td>\n",
       "    </tr>\n",
       "    <tr>\n",
       "      <th>25%</th>\n",
       "      <td>1.000000</td>\n",
       "      <td>2.000000</td>\n",
       "      <td>96.500000</td>\n",
       "    </tr>\n",
       "    <tr>\n",
       "      <th>50%</th>\n",
       "      <td>14.000000</td>\n",
       "      <td>4.000000</td>\n",
       "      <td>159.000000</td>\n",
       "    </tr>\n",
       "    <tr>\n",
       "      <th>75%</th>\n",
       "      <td>198.000000</td>\n",
       "      <td>4.500000</td>\n",
       "      <td>254.000000</td>\n",
       "    </tr>\n",
       "    <tr>\n",
       "      <th>max</th>\n",
       "      <td>3702.000000</td>\n",
       "      <td>5.000000</td>\n",
       "      <td>631.500000</td>\n",
       "    </tr>\n",
       "  </tbody>\n",
       "</table>\n",
       "</div>"
      ],
      "text/plain": [
       "       reviews_hotel  rating_hotel  precio_medio_por noche\n",
       "count     325.000000    325.000000              227.000000\n",
       "mean      250.710769      3.195385              186.834802\n",
       "std       555.681044      1.819682              117.592932\n",
       "min         0.000000      0.000000               26.000000\n",
       "25%         1.000000      2.000000               96.500000\n",
       "50%        14.000000      4.000000              159.000000\n",
       "75%       198.000000      4.500000              254.000000\n",
       "max      3702.000000      5.000000              631.500000"
      ]
     },
     "execution_count": 70,
     "metadata": {},
     "output_type": "execute_result"
    }
   ],
   "source": [
    "df_hoteles_total.describe()"
   ]
  }
 ],
 "metadata": {
  "kernelspec": {
   "display_name": "proyecto3_entorno",
   "language": "python",
   "name": "python3"
  },
  "language_info": {
   "codemirror_mode": {
    "name": "ipython",
    "version": 3
   },
   "file_extension": ".py",
   "mimetype": "text/x-python",
   "name": "python",
   "nbconvert_exporter": "python",
   "pygments_lexer": "ipython3",
   "version": "3.11.9"
  }
 },
 "nbformat": 4,
 "nbformat_minor": 2
}
