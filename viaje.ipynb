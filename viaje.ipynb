{
 "cells": [
  {
   "cell_type": "code",
   "execution_count": 57,
   "metadata": {},
   "outputs": [],
   "source": [
    "from datetime import datetime\n",
    "from geopy.geocoders import Nominatim\n",
    "import pandas as pd\n",
    "import numpy as np\n",
    "import requests\n",
    "import json\n",
    "from tqdm import tqdm\n",
    "from time import sleep\n",
    "import os\n",
    "\n"
   ]
  },
  {
   "cell_type": "markdown",
   "metadata": {},
   "source": [
    "Geopy no lo suo al final"
   ]
  },
  {
   "cell_type": "code",
   "execution_count": null,
   "metadata": {},
   "outputs": [],
   "source": [
    "# geolocator = Nominatim(user_agent=\"my_application\") #Primero hice un ejemplo con uno\n",
    "# location = geolocator.geocode(\"santa cruz de tenerife\")\n",
    "# print(location.address)\n",
    "# print((location.latitude, location.longitude))\n",
    "# print(location.raw)\n",
    "\n",
    "# lat= location.latitude\n",
    "# lng= location.longitude\n",
    "# print(lat)\n",
    "# print(lng)"
   ]
  },
  {
   "cell_type": "markdown",
   "metadata": {},
   "source": [
    "**API de Hoteles**   habrá que hacer que en lugar de palma de mayorca se ponga CANARIAS"
   ]
  },
  {
   "cell_type": "code",
   "execution_count": 44,
   "metadata": {},
   "outputs": [],
   "source": [
    "\n",
    "\n",
    "url_hotel = \"https://tripadvisor-scraper.p.rapidapi.com/hotels/list\"\n",
    "\n",
    "querystring = {f\"query\":\"palma de mallorca\",\"page\":\"2\"}\n",
    "\n",
    "headers = {\n",
    "\t\"x-rapidapi-key\": \"978309fe9dmshe0626a77c211be6p1786a7jsne7e8845b8cfa\",\n",
    "\t\"x-rapidapi-host\": \"tripadvisor-scraper.p.rapidapi.com\"\n",
    "}\n",
    "\n",
    "response = requests.get(url_hotel, headers=headers, params=querystring)\n",
    "responsa=response.json()\n",
    "df= pd.DataFrame(responsa[\"results\"])\n",
    "df"
   ]
  },
  {
   "cell_type": "code",
   "execution_count": 41,
   "metadata": {},
   "outputs": [
    {
     "data": {
      "text/html": [
       "<div>\n",
       "<style scoped>\n",
       "    .dataframe tbody tr th:only-of-type {\n",
       "        vertical-align: middle;\n",
       "    }\n",
       "\n",
       "    .dataframe tbody tr th {\n",
       "        vertical-align: top;\n",
       "    }\n",
       "\n",
       "    .dataframe thead th {\n",
       "        text-align: right;\n",
       "    }\n",
       "</style>\n",
       "<table border=\"1\" class=\"dataframe\">\n",
       "  <thead>\n",
       "    <tr style=\"text-align: right;\">\n",
       "      <th></th>\n",
       "      <th>id</th>\n",
       "      <th>name</th>\n",
       "      <th>link</th>\n",
       "      <th>reviews</th>\n",
       "      <th>rating</th>\n",
       "      <th>price_range_usd</th>\n",
       "      <th>phone</th>\n",
       "      <th>address</th>\n",
       "      <th>detailed_address</th>\n",
       "      <th>ranking</th>\n",
       "      <th>featured_image</th>\n",
       "      <th>latitude</th>\n",
       "      <th>longitude</th>\n",
       "      <th>amenities</th>\n",
       "      <th>providers</th>\n",
       "    </tr>\n",
       "  </thead>\n",
       "  <tbody>\n",
       "    <tr>\n",
       "      <th>0</th>\n",
       "      <td>1797289</td>\n",
       "      <td>Hotel Feliz</td>\n",
       "      <td>https://www.tripadvisor.com/Hotel_Review-g1874...</td>\n",
       "      <td>854</td>\n",
       "      <td>4.5</td>\n",
       "      <td>{'min': 108, 'max': 260}</td>\n",
       "      <td>+34 971 28 88 47</td>\n",
       "      <td>Avinguda de Joan Miro, 74, 07015 Palma de Mall...</td>\n",
       "      <td>{'street': 'Avinguda de Joan Miro, 74', 'city'...</td>\n",
       "      <td>{'current_rank': 1, 'total': 21}</td>\n",
       "      <td>None</td>\n",
       "      <td>39.560840</td>\n",
       "      <td>2.624639</td>\n",
       "      <td>[Free Wifi, Outdoor pool, Restaurant, Pets All...</td>\n",
       "      <td>[Booking.com, Expedia.com, Hotels.com, ZenHote...</td>\n",
       "    </tr>\n",
       "    <tr>\n",
       "      <th>1</th>\n",
       "      <td>620006</td>\n",
       "      <td>MHOUSE Hotel</td>\n",
       "      <td>https://www.tripadvisor.com/Hotel_Review-g1874...</td>\n",
       "      <td>225</td>\n",
       "      <td>4.5</td>\n",
       "      <td>{'min': 166, 'max': 298}</td>\n",
       "      <td>+34 971 21 48 48</td>\n",
       "      <td>Calle de Can Maçanet 1A, 07003 Palma de Mallor...</td>\n",
       "      <td>{'street': 'Calle de Can Maçanet 1A', 'city': ...</td>\n",
       "      <td>{'current_rank': 62, 'total': 95}</td>\n",
       "      <td>None</td>\n",
       "      <td>39.574432</td>\n",
       "      <td>2.651357</td>\n",
       "      <td>[Free Wifi, Outdoor pool, Restaurant, Bar/Lounge]</td>\n",
       "      <td>[Algotels, Trip.com, StayForLong, Booking.com]</td>\n",
       "    </tr>\n",
       "  </tbody>\n",
       "</table>\n",
       "</div>"
      ],
      "text/plain": [
       "        id          name                                               link  \\\n",
       "0  1797289   Hotel Feliz  https://www.tripadvisor.com/Hotel_Review-g1874...   \n",
       "1   620006  MHOUSE Hotel  https://www.tripadvisor.com/Hotel_Review-g1874...   \n",
       "\n",
       "   reviews  rating           price_range_usd             phone  \\\n",
       "0      854     4.5  {'min': 108, 'max': 260}  +34 971 28 88 47   \n",
       "1      225     4.5  {'min': 166, 'max': 298}  +34 971 21 48 48   \n",
       "\n",
       "                                             address  \\\n",
       "0  Avinguda de Joan Miro, 74, 07015 Palma de Mall...   \n",
       "1  Calle de Can Maçanet 1A, 07003 Palma de Mallor...   \n",
       "\n",
       "                                    detailed_address  \\\n",
       "0  {'street': 'Avinguda de Joan Miro, 74', 'city'...   \n",
       "1  {'street': 'Calle de Can Maçanet 1A', 'city': ...   \n",
       "\n",
       "                             ranking featured_image   latitude  longitude  \\\n",
       "0   {'current_rank': 1, 'total': 21}           None  39.560840   2.624639   \n",
       "1  {'current_rank': 62, 'total': 95}           None  39.574432   2.651357   \n",
       "\n",
       "                                           amenities  \\\n",
       "0  [Free Wifi, Outdoor pool, Restaurant, Pets All...   \n",
       "1  [Free Wifi, Outdoor pool, Restaurant, Bar/Lounge]   \n",
       "\n",
       "                                           providers  \n",
       "0  [Booking.com, Expedia.com, Hotels.com, ZenHote...  \n",
       "1     [Algotels, Trip.com, StayForLong, Booking.com]  "
      ]
     },
     "execution_count": 41,
     "metadata": {},
     "output_type": "execute_result"
    }
   ],
   "source": [
    "df= pd.DataFrame(responsa[\"results\"])\n",
    "df.head(2)"
   ]
  },
  {
   "cell_type": "code",
   "execution_count": 47,
   "metadata": {},
   "outputs": [],
   "source": [
    "#Hacer archivo json para abrir dicc de hoteles"
   ]
  },
  {
   "cell_type": "markdown",
   "metadata": {},
   "source": [
    "**API de los vuelos(TENE (TNF Y TNS))**  Meter los códigos de aeropuerto que necesitemos"
   ]
  },
  {
   "cell_type": "code",
   "execution_count": 54,
   "metadata": {},
   "outputs": [],
   "source": [
    "url = \"https://sky-scrapper.p.rapidapi.com/api/v2/flights/searchFlights\"\n",
    "\n",
    "querystring = {\"originSkyId\":\"MAD\",\"destinationSkyId\":\"TENE\",\"originEntityId\":\"95565077\",\"destinationEntityId\":\"27547165\",\"date\":\"2024-11-03\",\"returnDate\":\"2024-11-06\",\"cabinClass\":\"economy\",\"adults\":\"1\",\"sortBy\":\"best\",\"currency\":\"EUR\"}\n",
    "\n",
    "headers = {\n",
    "\t\"x-rapidapi-key\": \"978309fe9dmshe0626a77c211be6p1786a7jsne7e8845b8cfa\",\n",
    "\t\"x-rapidapi-host\": \"sky-scrapper.p.rapidapi.com\"\n",
    "}\n",
    "\n",
    "response = requests.get(url, headers=headers, params=querystring)\n",
    "\n",
    "responsa=response.json()\n",
    "\n"
   ]
  },
  {
   "cell_type": "code",
   "execution_count": 72,
   "metadata": {},
   "outputs": [
    {
     "data": {
      "text/html": [
       "<div>\n",
       "<style scoped>\n",
       "    .dataframe tbody tr th:only-of-type {\n",
       "        vertical-align: middle;\n",
       "    }\n",
       "\n",
       "    .dataframe tbody tr th {\n",
       "        vertical-align: top;\n",
       "    }\n",
       "\n",
       "    .dataframe thead th {\n",
       "        text-align: right;\n",
       "    }\n",
       "</style>\n",
       "<table border=\"1\" class=\"dataframe\">\n",
       "  <thead>\n",
       "    <tr style=\"text-align: right;\">\n",
       "      <th></th>\n",
       "      <th>day</th>\n",
       "      <th>group</th>\n",
       "      <th>price</th>\n",
       "    </tr>\n",
       "  </thead>\n",
       "  <tbody>\n",
       "    <tr>\n",
       "      <th>0</th>\n",
       "      <td>2024-10-18</td>\n",
       "      <td>high</td>\n",
       "      <td>98.78</td>\n",
       "    </tr>\n",
       "    <tr>\n",
       "      <th>1</th>\n",
       "      <td>2024-10-19</td>\n",
       "      <td>high</td>\n",
       "      <td>100.29</td>\n",
       "    </tr>\n",
       "    <tr>\n",
       "      <th>2</th>\n",
       "      <td>2024-10-20</td>\n",
       "      <td>high</td>\n",
       "      <td>96.57</td>\n",
       "    </tr>\n",
       "    <tr>\n",
       "      <th>3</th>\n",
       "      <td>2024-10-21</td>\n",
       "      <td>high</td>\n",
       "      <td>71.65</td>\n",
       "    </tr>\n",
       "    <tr>\n",
       "      <th>4</th>\n",
       "      <td>2024-10-22</td>\n",
       "      <td>high</td>\n",
       "      <td>33.20</td>\n",
       "    </tr>\n",
       "    <tr>\n",
       "      <th>...</th>\n",
       "      <td>...</td>\n",
       "      <td>...</td>\n",
       "      <td>...</td>\n",
       "    </tr>\n",
       "    <tr>\n",
       "      <th>341</th>\n",
       "      <td>2025-10-10</td>\n",
       "      <td>high</td>\n",
       "      <td>28.63</td>\n",
       "    </tr>\n",
       "    <tr>\n",
       "      <th>342</th>\n",
       "      <td>2025-10-13</td>\n",
       "      <td>high</td>\n",
       "      <td>42.33</td>\n",
       "    </tr>\n",
       "    <tr>\n",
       "      <th>343</th>\n",
       "      <td>2025-10-14</td>\n",
       "      <td>high</td>\n",
       "      <td>32.06</td>\n",
       "    </tr>\n",
       "    <tr>\n",
       "      <th>344</th>\n",
       "      <td>2025-10-15</td>\n",
       "      <td>high</td>\n",
       "      <td>28.63</td>\n",
       "    </tr>\n",
       "    <tr>\n",
       "      <th>345</th>\n",
       "      <td>2025-10-16</td>\n",
       "      <td>high</td>\n",
       "      <td>28.63</td>\n",
       "    </tr>\n",
       "  </tbody>\n",
       "</table>\n",
       "<p>346 rows × 3 columns</p>\n",
       "</div>"
      ],
      "text/plain": [
       "            day group   price\n",
       "0    2024-10-18  high   98.78\n",
       "1    2024-10-19  high  100.29\n",
       "2    2024-10-20  high   96.57\n",
       "3    2024-10-21  high   71.65\n",
       "4    2024-10-22  high   33.20\n",
       "..          ...   ...     ...\n",
       "341  2025-10-10  high   28.63\n",
       "342  2025-10-13  high   42.33\n",
       "343  2025-10-14  high   32.06\n",
       "344  2025-10-15  high   28.63\n",
       "345  2025-10-16  high   28.63\n",
       "\n",
       "[346 rows x 3 columns]"
      ]
     },
     "execution_count": 72,
     "metadata": {},
     "output_type": "execute_result"
    }
   ],
   "source": []
  },
  {
   "cell_type": "code",
   "execution_count": 50,
   "metadata": {},
   "outputs": [],
   "source": [
    "lista_codigos_aeropuertos= [\"MAD\", \"PMI\", \"TFN\",\"GMZ\", \"MAH\"]"
   ]
  },
  {
   "cell_type": "markdown",
   "metadata": {},
   "source": [
    "web para mirar los códigos:   \n",
    "\n",
    "\n",
    "https://rapidapi.com/apiheya/api/sky-scrapper/playground/apiendpoint_efcce954-2563-41cb-97fc-b2abe7851b3d"
   ]
  },
  {
   "cell_type": "markdown",
   "metadata": {},
   "source": [
    "**API de los vuelos(vuelta)**  Meter los códigos de aeropuerto que necesitemos"
   ]
  },
  {
   "cell_type": "code",
   "execution_count": 3,
   "metadata": {},
   "outputs": [],
   "source": [
    "url = \"https://sky-scrapper.p.rapidapi.com/api/v2/flights/searchFlights\"\n",
    "\n",
    "querystring = {\"originSkyId\":\"MAD\",\"destinationSkyId\":\"PMI\",\"originEntityId\":\"95565077\",\"destinationEntityId\":\"95565111\",\"date\":\"2024-11-03\",\"returnDate\":\"2024-11-06\",\"cabinClass\":\"economy\",\"adults\":\"1\",\"sortBy\":\"best\",\"limit\":\"50\",\"currency\":\"EUR\"}\n",
    "\n",
    "headers = {\n",
    "\t\"x-rapidapi-key\": \"978309fe9dmshe0626a77c211be6p1786a7jsne7e8845b8cfa\",\n",
    "\t\"x-rapidapi-host\": \"sky-scrapper.p.rapidapi.com\"\n",
    "}\n",
    "\n",
    "response = requests.get(url, headers=headers, params=querystring)\n",
    "\n",
    "responsa=response.json()\n"
   ]
  },
  {
   "cell_type": "code",
   "execution_count": 33,
   "metadata": {},
   "outputs": [],
   "source": [
    "\n",
    "\n",
    "with open('archivo.json', 'w') as archivo:\n",
    "    json.dump(responsa, archivo, indent=4)"
   ]
  },
  {
   "cell_type": "code",
   "execution_count": 98,
   "metadata": {},
   "outputs": [],
   "source": [
    "\n",
    "res2 = res[\"itineraries\"][0][\"legs\"][0][\"origin\"]\n",
    "# res3 = res[\"itineraries\"][0][\"legs\"][0][\"destination\"]\n",
    "\n"
   ]
  },
  {
   "cell_type": "code",
   "execution_count": 8,
   "metadata": {},
   "outputs": [],
   "source": [
    "res= responsa[\"data\"]\n",
    "precio= res[\"itineraries\"][0][\"price\"][\"raw\"]\n",
    "\n",
    "id_origen= res[\"itineraries\"][0][\"legs\"][0][\"origin\"][\"id\"]\n",
    "origen= res[\"itineraries\"][0][\"legs\"][0][\"origin\"][\"city\"]\n",
    "\n",
    "id_destino= res[\"itineraries\"][0][\"legs\"][0][\"destination\"][\"id\"]\n",
    "destino= res[\"itineraries\"][0][\"legs\"][0][\"destination\"][\"city\"]\n",
    "\n",
    "duracion_minuts= res[\"itineraries\"][0][\"legs\"][0][\"durationInMinutes\"]\n",
    "escalas= res[\"itineraries\"][0][\"legs\"][0][\"stopCount\"]\n",
    "\n",
    "salida= res[\"itineraries\"][0][\"legs\"][0][\"departure\"]\n",
    "llegada= res[\"itineraries\"][0][\"legs\"][0][\"arrival\"]\n",
    "\n",
    "aerolinea= res[\"itineraries\"][0][\"legs\"][0][\"carriers\"][\"marketing\"][0][\"name\"]"
   ]
  },
  {
   "cell_type": "code",
   "execution_count": 9,
   "metadata": {},
   "outputs": [
    {
     "data": {
      "text/plain": [
       "{'id_origen': 'MAD',\n",
       " 'ciudad_origen': 'Madrid',\n",
       " 'id_destino': 'PMI',\n",
       " 'ciudad_destino': 'Palma',\n",
       " 'salida': '2024-11-03T08:35:00',\n",
       " 'llegada': '2024-11-03T10:05:00',\n",
       " 'duracion(min)': 90,\n",
       " 'escalas': 0,\n",
       " 'aerolinea': 'Ryanair',\n",
       " 'precio': 48.66}"
      ]
     },
     "execution_count": 9,
     "metadata": {},
     "output_type": "execute_result"
    }
   ],
   "source": [
    "\n",
    "\n",
    "dicc= {\"id_origen\":id_origen,\n",
    "       \"ciudad_origen\":origen,\n",
    "       \"id_destino\": id_destino,\n",
    "       \"ciudad_destino\":destino,\n",
    "       \"salida\":salida,\n",
    "       \"llegada\":llegada,\n",
    "       \"duracion(min)\":duracion_minuts,\n",
    "       \"escalas\":escalas,\n",
    "       \"aerolinea\":aerolinea,\n",
    "       \"precio\":precio\n",
    "        }\n",
    "dicc"
   ]
  },
  {
   "cell_type": "markdown",
   "metadata": {},
   "source": [
    "Sacar vuelos ida y vuelta a PMI"
   ]
  },
  {
   "cell_type": "code",
   "execution_count": 47,
   "metadata": {},
   "outputs": [],
   "source": [
    "lista_dicc=[]\n",
    "\n",
    "for vuelo in range(0,len(res[\"itineraries\"])):\n",
    "        res= responsa[\"data\"]\n",
    "        precio= res[\"itineraries\"][vuelo][\"price\"][\"raw\"]\n",
    "        for i in range(0,2):\n",
    "                id_origen= res[\"itineraries\"][vuelo][\"legs\"][i][\"origin\"][\"id\"]\n",
    "                origen= res[\"itineraries\"][vuelo][\"legs\"][i][\"origin\"][\"city\"]\n",
    "\n",
    "                id_destino= res[\"itineraries\"][vuelo][\"legs\"][i][\"destination\"][\"id\"]\n",
    "                destino= res[\"itineraries\"][vuelo][\"legs\"][i][\"destination\"][\"city\"]\n",
    "\n",
    "                duracion_minuts= res[\"itineraries\"][vuelo][\"legs\"][i][\"durationInMinutes\"]\n",
    "                escalas= res[\"itineraries\"][vuelo][\"legs\"][i][\"stopCount\"]\n",
    "\n",
    "                salida= res[\"itineraries\"][vuelo][\"legs\"][i][\"departure\"]\n",
    "                llegada= res[\"itineraries\"][vuelo][\"legs\"][i][\"arrival\"]\n",
    "\n",
    "                aerolinea= res[\"itineraries\"][vuelo][\"legs\"][i][\"carriers\"][\"marketing\"][0][\"name\"]\n",
    "\n",
    "                dicc= {\"id_origen\":id_origen,\n",
    "                \"ciudad_origen\":origen,\n",
    "                \"id_destino\": id_destino,\n",
    "                \"ciudad_destino\":destino,\n",
    "                \"salida\":salida,\n",
    "                \"llegada\":llegada,\n",
    "                \"duracion(min)\":duracion_minuts,\n",
    "                \"escalas\":escalas,\n",
    "                \"aerolinea\":aerolinea,\n",
    "                \"precio\":precio\n",
    "                }\n",
    "                lista_dicc.append(dicc)\n"
   ]
  },
  {
   "cell_type": "code",
   "execution_count": 49,
   "metadata": {},
   "outputs": [
    {
     "data": {
      "text/html": [
       "<div>\n",
       "<style scoped>\n",
       "    .dataframe tbody tr th:only-of-type {\n",
       "        vertical-align: middle;\n",
       "    }\n",
       "\n",
       "    .dataframe tbody tr th {\n",
       "        vertical-align: top;\n",
       "    }\n",
       "\n",
       "    .dataframe thead th {\n",
       "        text-align: right;\n",
       "    }\n",
       "</style>\n",
       "<table border=\"1\" class=\"dataframe\">\n",
       "  <thead>\n",
       "    <tr style=\"text-align: right;\">\n",
       "      <th></th>\n",
       "      <th>id_origen</th>\n",
       "      <th>ciudad_origen</th>\n",
       "      <th>id_destino</th>\n",
       "      <th>ciudad_destino</th>\n",
       "      <th>salida</th>\n",
       "      <th>llegada</th>\n",
       "      <th>duracion(min)</th>\n",
       "      <th>escalas</th>\n",
       "      <th>aerolinea</th>\n",
       "      <th>precio</th>\n",
       "    </tr>\n",
       "  </thead>\n",
       "  <tbody>\n",
       "    <tr>\n",
       "      <th>0</th>\n",
       "      <td>MAD</td>\n",
       "      <td>Madrid</td>\n",
       "      <td>PMI</td>\n",
       "      <td>Palma</td>\n",
       "      <td>2024-11-03T08:35:00</td>\n",
       "      <td>2024-11-03T10:05:00</td>\n",
       "      <td>90</td>\n",
       "      <td>0</td>\n",
       "      <td>Ryanair</td>\n",
       "      <td>48.66</td>\n",
       "    </tr>\n",
       "    <tr>\n",
       "      <th>1</th>\n",
       "      <td>PMI</td>\n",
       "      <td>Palma</td>\n",
       "      <td>MAD</td>\n",
       "      <td>Madrid</td>\n",
       "      <td>2024-11-06T22:20:00</td>\n",
       "      <td>2024-11-06T23:50:00</td>\n",
       "      <td>90</td>\n",
       "      <td>0</td>\n",
       "      <td>Ryanair</td>\n",
       "      <td>48.66</td>\n",
       "    </tr>\n",
       "    <tr>\n",
       "      <th>2</th>\n",
       "      <td>MAD</td>\n",
       "      <td>Madrid</td>\n",
       "      <td>PMI</td>\n",
       "      <td>Palma</td>\n",
       "      <td>2024-11-03T08:35:00</td>\n",
       "      <td>2024-11-03T10:05:00</td>\n",
       "      <td>90</td>\n",
       "      <td>0</td>\n",
       "      <td>Ryanair</td>\n",
       "      <td>69.69</td>\n",
       "    </tr>\n",
       "    <tr>\n",
       "      <th>3</th>\n",
       "      <td>PMI</td>\n",
       "      <td>Palma</td>\n",
       "      <td>MAD</td>\n",
       "      <td>Madrid</td>\n",
       "      <td>2024-11-06T10:55:00</td>\n",
       "      <td>2024-11-06T12:25:00</td>\n",
       "      <td>90</td>\n",
       "      <td>0</td>\n",
       "      <td>Ryanair</td>\n",
       "      <td>69.69</td>\n",
       "    </tr>\n",
       "    <tr>\n",
       "      <th>4</th>\n",
       "      <td>MAD</td>\n",
       "      <td>Madrid</td>\n",
       "      <td>PMI</td>\n",
       "      <td>Palma</td>\n",
       "      <td>2024-11-03T07:05:00</td>\n",
       "      <td>2024-11-03T08:30:00</td>\n",
       "      <td>85</td>\n",
       "      <td>0</td>\n",
       "      <td>Iberia Express</td>\n",
       "      <td>46.60</td>\n",
       "    </tr>\n",
       "  </tbody>\n",
       "</table>\n",
       "</div>"
      ],
      "text/plain": [
       "  id_origen ciudad_origen id_destino ciudad_destino               salida  \\\n",
       "0       MAD        Madrid        PMI          Palma  2024-11-03T08:35:00   \n",
       "1       PMI         Palma        MAD         Madrid  2024-11-06T22:20:00   \n",
       "2       MAD        Madrid        PMI          Palma  2024-11-03T08:35:00   \n",
       "3       PMI         Palma        MAD         Madrid  2024-11-06T10:55:00   \n",
       "4       MAD        Madrid        PMI          Palma  2024-11-03T07:05:00   \n",
       "\n",
       "               llegada  duracion(min)  escalas       aerolinea  precio  \n",
       "0  2024-11-03T10:05:00             90        0         Ryanair   48.66  \n",
       "1  2024-11-06T23:50:00             90        0         Ryanair   48.66  \n",
       "2  2024-11-03T10:05:00             90        0         Ryanair   69.69  \n",
       "3  2024-11-06T12:25:00             90        0         Ryanair   69.69  \n",
       "4  2024-11-03T08:30:00             85        0  Iberia Express   46.60  "
      ]
     },
     "execution_count": 49,
     "metadata": {},
     "output_type": "execute_result"
    }
   ],
   "source": [
    "df_vuelos_ida_vuelta_PMI= pd.DataFrame(lista_dicc)\n",
    "df_vuelos_ida_vuelta_PMI.head()"
   ]
  },
  {
   "cell_type": "code",
   "execution_count": 50,
   "metadata": {},
   "outputs": [
    {
     "name": "stdout",
     "output_type": "stream",
     "text": [
      "<class 'pandas.core.frame.DataFrame'>\n",
      "RangeIndex: 20 entries, 0 to 19\n",
      "Data columns (total 10 columns):\n",
      " #   Column          Non-Null Count  Dtype  \n",
      "---  ------          --------------  -----  \n",
      " 0   id_origen       20 non-null     object \n",
      " 1   ciudad_origen   20 non-null     object \n",
      " 2   id_destino      20 non-null     object \n",
      " 3   ciudad_destino  20 non-null     object \n",
      " 4   salida          20 non-null     object \n",
      " 5   llegada         20 non-null     object \n",
      " 6   duracion(min)   20 non-null     int64  \n",
      " 7   escalas         20 non-null     int64  \n",
      " 8   aerolinea       20 non-null     object \n",
      " 9   precio          20 non-null     float64\n",
      "dtypes: float64(1), int64(2), object(7)\n",
      "memory usage: 1.7+ KB\n"
     ]
    }
   ],
   "source": [
    "df_vuelos_ida_vuelta_PMI.info()"
   ]
  },
  {
   "cell_type": "code",
   "execution_count": null,
   "metadata": {},
   "outputs": [],
   "source": [
    "df_vuelos_ida_vuelta_PMI[salida].to_da"
   ]
  },
  {
   "cell_type": "code",
   "execution_count": 37,
   "metadata": {},
   "outputs": [
    {
     "data": {
      "text/plain": [
       "10"
      ]
     },
     "execution_count": 37,
     "metadata": {},
     "output_type": "execute_result"
    }
   ],
   "source": [
    "len(res[\"itineraries\"])\n"
   ]
  }
 ],
 "metadata": {
  "kernelspec": {
   "display_name": "proyecto3_entorno",
   "language": "python",
   "name": "python3"
  },
  "language_info": {
   "codemirror_mode": {
    "name": "ipython",
    "version": 3
   },
   "file_extension": ".py",
   "mimetype": "text/x-python",
   "name": "python",
   "nbconvert_exporter": "python",
   "pygments_lexer": "ipython3",
   "version": "3.11.9"
  }
 },
 "nbformat": 4,
 "nbformat_minor": 2
}
